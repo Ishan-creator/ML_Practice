{
 "cells": [
  {
   "cell_type": "markdown",
   "metadata": {
    "deletable": false,
    "editable": false,
    "id": "2PO8PExZwsGd",
    "nbgrader": {
     "cell_type": "markdown",
     "checksum": "f7f8a87a9f6db06c8e8b8a128d575484",
     "grade": false,
     "grade_id": "cell-07f7a8784a17e6a5",
     "locked": true,
     "schema_version": 3,
     "solution": false,
     "task": false
    }
   },
   "source": [
    "# AirBnB guest arrival prediction using tree-based methods\n",
    "\n",
    "\n",
    "\n",
    "<b><div style=\"text-align: right\">[TOTAL POINTS: 9]</div></b>\n",
    "\n",
    "The assignment is divided into three different levels: Level1, Level2, and Level3.\n",
    "\n",
    "## Learning Objective(Level 1)\n",
    "\n",
    "<b><div style=\"text-align: right\">[POINTS: 4]</div></b>\n",
    "\n",
    "By the end of this assignment, a student should be able to\n",
    "\n",
    "- Apply necessary preprocessing steps on the data to make it suitable for training.\n",
    "\n",
    "- Train Bagging Classifier, Random Forest Classifier, XGBoost Classifier.\n",
    "\n",
    "- Fine-tune and monitor the performance of XGBoost.\n",
    "\n",
    "\n",
    "\n",
    "Let's start with the problem description of level1.\n",
    "In this assignment, you will train different ensemble models to predict whether the customer will cancel the booking or not. For a tourism-based country like Nepal, hospitality is a major source of income. The given data represents booking information made by foreign customers via AirBnB for the year 2018. Your task in level1 is to use this data to predict whether the customer will cancel the booking or not.\n"
   ]
  },
  {
   "cell_type": "markdown",
   "metadata": {
    "deletable": false,
    "editable": false,
    "id": "Epa9-UlFwsGi",
    "nbgrader": {
     "cell_type": "markdown",
     "checksum": "0294ba34b6949a3460fc5f3e395bbbc1",
     "grade": false,
     "grade_id": "cell-efbfcf6cef60da2e",
     "locked": true,
     "schema_version": 3,
     "solution": false,
     "task": false
    }
   },
   "source": [
    "## Dataset Description:\n",
    "\n",
    "The dataset, **AirBnB customer arrival prediction**, contains information regarding booking in the hotel, and includes features like such as meal, arrival date(date of booking), car parking space in hotel, etc. All features are listed below.\n",
    "\n",
    "Note: The given dataset is a modification of [Hotel booking demand datasets](https://www.sciencedirect.com/science/article/pii/S2352340918315191) collected by **Nuano et al.** and is availabe under [Creative Commons 4.0](https://creativecommons.org/licenses/by/4.0/).\n",
    "\n",
    "**Number of Instances:** 119,386 \\\n",
    "**Number of Attributes:** 25 **Input Features** + 1 **Target**(__is_canceled__)\n",
    "\n",
    "### Attribute Information:\n",
    "The detail information of each attribute is listed as:\n",
    "\n",
    "* **hotel** - Type of hotel resort or city\n",
    "* **is_canceled** - The label column. This indicates whether the guests canceled their booking or they checked-in\n",
    "* **lead_time** - Number of days that elapsed between the entering date of the booking into the PMS and the arrival date\n",
    "* **arrival_date_year** - year of the arrival date\n",
    "* **arrival_date_month** - Month of arrival date with 12 categories: “January” to “December” expressed in numbers. 1 indicates January, and 12 indicate December. \n",
    "* **arrival_date_week_number** - Week number of the arrival date\n",
    "* **arrival_date_day_of_month** - Day of the month of the arrival date\n",
    "* **stays_in_weekend_nights** - Number of weekend nights (Saturday or Sunday) the guest stayed or booked to stay at the hotel.\n",
    "* **stays_in_week_nights** - Number of week nights (Monday to Friday) the guest stayed or booked to stay at the hotel\n",
    "* **meal** - Type of meal booked. \n",
    "* **country** - Country of origin. Categories are represented in the ISO 3155–3:2013 format\n",
    "* **market_segment** - Market segment designation. In categories, the term \"TA\" means \"Travel Agents\" and \"TO\" means \"Tour Operators\"\n",
    "* **distribution_channel** - Booking distribution channel. The term \"TA\" means \"Travel Agents\" and \"TO\" means \"Tour Operators\"\n",
    "* **is_repeated_guest** - Value indicating if the booking name was from a repeated guest (1) or not (0)\n",
    "* **reserved_room_type** - Code of room type reserved. \n",
    "* **assigned_room_type** - Code for the type of room assigned to the booking. Sometimes the assigned room type differs from the reserved room type due to hotel operation reasons (e.g., overbooking) or by customer request.\n",
    "* **booking_changes** - Number of changes/amendments made to the booking from the moment the booking was entered on the PMS until the moment of check-in or cancellation\n",
    "* **deposit_type** - Indication on if the customer deposited to guarantee the booking.\n",
    "* **agent** - ID of the travel agency that made the booking\n",
    "* **days_in_waiting_list** - Number of days the booking was on the waiting list before it was confirmed to the customer. \n",
    "* **customer_type** - Type of booking. One of Contract, Group, Transient, and Transient-party.\n",
    "* **adr** - Average Daily Rate\n",
    "* **required_car_parking_spaces** - Number of car parking spaces required by the customer.\n",
    "* **total_of_special_requests** - Number of special requests made by the customer (e.g. twin bed or high floor)\n",
    "* **total_guests** - Total number of guests(includes adults, children, and babies)\n",
    "* **net_booking_cancelled** - A difference between the total number of the previous booking canceled and the previous booking not canceled before this booking. A positive value means that the customer did not cancel most of the previous booking."
   ]
  },
  {
   "cell_type": "markdown",
   "metadata": {
    "deletable": false,
    "editable": false,
    "id": "VssZ8Kf_wsGm",
    "nbgrader": {
     "cell_type": "markdown",
     "checksum": "a2e702129c88a9379910c3afba966c44",
     "grade": false,
     "grade_id": "cell-1376b6668cc0b7e3",
     "locked": true,
     "schema_version": 3,
     "solution": false,
     "task": false
    }
   },
   "source": [
    "### Import libraries"
   ]
  },
  {
   "cell_type": "code",
   "execution_count": 1,
   "metadata": {
    "deletable": false,
    "editable": false,
    "executionInfo": {
     "elapsed": 440,
     "status": "ok",
     "timestamp": 1649150265981,
     "user": {
      "displayName": "Bijaya Khadka",
      "userId": "02776490292025123911"
     },
     "user_tz": -345
    },
    "id": "XM9q2-0ZwsGp",
    "nbgrader": {
     "cell_type": "code",
     "checksum": "e7dabe83fb818c087ddde93f145acc34",
     "grade": false,
     "grade_id": "cell-8aaadd6d8208e92f",
     "locked": true,
     "schema_version": 3,
     "solution": false,
     "task": false
    }
   },
   "outputs": [],
   "source": [
    "import pandas as pd\n",
    "import numpy as np\n",
    "import pickle\n",
    "from matplotlib import pyplot as plt\n",
    "\n",
    "RANDOM_STATE = 7\n",
    "np.random.seed(RANDOM_STATE)"
   ]
  },
  {
   "cell_type": "markdown",
   "metadata": {
    "deletable": false,
    "editable": false,
    "id": "pEDgsWu_wsG5",
    "nbgrader": {
     "cell_type": "markdown",
     "checksum": "280a979d45c3059ea2bf611656cd6a99",
     "grade": false,
     "grade_id": "cell-24b969ae9447e0d8",
     "locked": true,
     "schema_version": 3,
     "solution": false,
     "task": false
    }
   },
   "source": [
    "### Load csv file"
   ]
  },
  {
   "cell_type": "code",
   "execution_count": 2,
   "metadata": {
    "colab": {
     "base_uri": "https://localhost:8080/",
     "height": 386
    },
    "deletable": false,
    "editable": false,
    "executionInfo": {
     "elapsed": 2100,
     "status": "ok",
     "timestamp": 1649150271139,
     "user": {
      "displayName": "Bijaya Khadka",
      "userId": "02776490292025123911"
     },
     "user_tz": -345
    },
    "id": "_ELsyzGxwsG7",
    "nbgrader": {
     "cell_type": "code",
     "checksum": "e15e679f7b304b91742b0bfa20c904b2",
     "grade": false,
     "grade_id": "cell-e94bfbaf67531051",
     "locked": true,
     "schema_version": 3,
     "solution": false,
     "task": false
    },
    "outputId": "0cbc1d62-eebb-42d1-d8e6-3694b64918e0"
   },
   "outputs": [
    {
     "data": {
      "text/html": [
       "<div>\n",
       "<style scoped>\n",
       "    .dataframe tbody tr th:only-of-type {\n",
       "        vertical-align: middle;\n",
       "    }\n",
       "\n",
       "    .dataframe tbody tr th {\n",
       "        vertical-align: top;\n",
       "    }\n",
       "\n",
       "    .dataframe thead th {\n",
       "        text-align: right;\n",
       "    }\n",
       "</style>\n",
       "<table border=\"1\" class=\"dataframe\">\n",
       "  <thead>\n",
       "    <tr style=\"text-align: right;\">\n",
       "      <th></th>\n",
       "      <th>hotel</th>\n",
       "      <th>is_canceled</th>\n",
       "      <th>lead_time</th>\n",
       "      <th>arrival_date_year</th>\n",
       "      <th>arrival_date_month</th>\n",
       "      <th>arrival_date_week_number</th>\n",
       "      <th>arrival_date_day_of_month</th>\n",
       "      <th>stays_in_weekend_nights</th>\n",
       "      <th>stays_in_week_nights</th>\n",
       "      <th>meal</th>\n",
       "      <th>...</th>\n",
       "      <th>booking_changes</th>\n",
       "      <th>deposit_type</th>\n",
       "      <th>agent</th>\n",
       "      <th>days_in_waiting_list</th>\n",
       "      <th>customer_type</th>\n",
       "      <th>adr</th>\n",
       "      <th>required_car_parking_spaces</th>\n",
       "      <th>total_of_special_requests</th>\n",
       "      <th>total_guests</th>\n",
       "      <th>net_booking_cancelled</th>\n",
       "    </tr>\n",
       "  </thead>\n",
       "  <tbody>\n",
       "    <tr>\n",
       "      <th>0</th>\n",
       "      <td>Resort Hotel</td>\n",
       "      <td>0</td>\n",
       "      <td>342</td>\n",
       "      <td>2015</td>\n",
       "      <td>July</td>\n",
       "      <td>27</td>\n",
       "      <td>1</td>\n",
       "      <td>0</td>\n",
       "      <td>0</td>\n",
       "      <td>NaN</td>\n",
       "      <td>...</td>\n",
       "      <td>3</td>\n",
       "      <td>No Deposit</td>\n",
       "      <td>NaN</td>\n",
       "      <td>0</td>\n",
       "      <td>Transient</td>\n",
       "      <td>0.0</td>\n",
       "      <td>0</td>\n",
       "      <td>0</td>\n",
       "      <td>2.0</td>\n",
       "      <td>0</td>\n",
       "    </tr>\n",
       "    <tr>\n",
       "      <th>1</th>\n",
       "      <td>Resort Hotel</td>\n",
       "      <td>0</td>\n",
       "      <td>737</td>\n",
       "      <td>2015</td>\n",
       "      <td>July</td>\n",
       "      <td>27</td>\n",
       "      <td>1</td>\n",
       "      <td>0</td>\n",
       "      <td>0</td>\n",
       "      <td>BB</td>\n",
       "      <td>...</td>\n",
       "      <td>4</td>\n",
       "      <td>No Deposit</td>\n",
       "      <td>NaN</td>\n",
       "      <td>0</td>\n",
       "      <td>Transient</td>\n",
       "      <td>0.0</td>\n",
       "      <td>0</td>\n",
       "      <td>0</td>\n",
       "      <td>2.0</td>\n",
       "      <td>0</td>\n",
       "    </tr>\n",
       "    <tr>\n",
       "      <th>2</th>\n",
       "      <td>Resort Hotel</td>\n",
       "      <td>0</td>\n",
       "      <td>7</td>\n",
       "      <td>2015</td>\n",
       "      <td>July</td>\n",
       "      <td>27</td>\n",
       "      <td>1</td>\n",
       "      <td>0</td>\n",
       "      <td>1</td>\n",
       "      <td>BB</td>\n",
       "      <td>...</td>\n",
       "      <td>0</td>\n",
       "      <td>No Deposit</td>\n",
       "      <td>NaN</td>\n",
       "      <td>0</td>\n",
       "      <td>Transient</td>\n",
       "      <td>75.0</td>\n",
       "      <td>0</td>\n",
       "      <td>0</td>\n",
       "      <td>1.0</td>\n",
       "      <td>0</td>\n",
       "    </tr>\n",
       "    <tr>\n",
       "      <th>3</th>\n",
       "      <td>Resort Hotel</td>\n",
       "      <td>0</td>\n",
       "      <td>13</td>\n",
       "      <td>2015</td>\n",
       "      <td>July</td>\n",
       "      <td>27</td>\n",
       "      <td>1</td>\n",
       "      <td>0</td>\n",
       "      <td>1</td>\n",
       "      <td>NaN</td>\n",
       "      <td>...</td>\n",
       "      <td>0</td>\n",
       "      <td>No Deposit</td>\n",
       "      <td>304.0</td>\n",
       "      <td>0</td>\n",
       "      <td>Transient</td>\n",
       "      <td>75.0</td>\n",
       "      <td>0</td>\n",
       "      <td>0</td>\n",
       "      <td>1.0</td>\n",
       "      <td>0</td>\n",
       "    </tr>\n",
       "    <tr>\n",
       "      <th>4</th>\n",
       "      <td>Resort Hotel</td>\n",
       "      <td>0</td>\n",
       "      <td>14</td>\n",
       "      <td>2015</td>\n",
       "      <td>July</td>\n",
       "      <td>27</td>\n",
       "      <td>1</td>\n",
       "      <td>0</td>\n",
       "      <td>2</td>\n",
       "      <td>BB</td>\n",
       "      <td>...</td>\n",
       "      <td>0</td>\n",
       "      <td>No Deposit</td>\n",
       "      <td>240.0</td>\n",
       "      <td>0</td>\n",
       "      <td>Transient</td>\n",
       "      <td>98.0</td>\n",
       "      <td>0</td>\n",
       "      <td>1</td>\n",
       "      <td>2.0</td>\n",
       "      <td>0</td>\n",
       "    </tr>\n",
       "  </tbody>\n",
       "</table>\n",
       "<p>5 rows × 26 columns</p>\n",
       "</div>"
      ],
      "text/plain": [
       "          hotel  is_canceled  lead_time  arrival_date_year arrival_date_month  \\\n",
       "0  Resort Hotel            0        342               2015               July   \n",
       "1  Resort Hotel            0        737               2015               July   \n",
       "2  Resort Hotel            0          7               2015               July   \n",
       "3  Resort Hotel            0         13               2015               July   \n",
       "4  Resort Hotel            0         14               2015               July   \n",
       "\n",
       "   arrival_date_week_number  arrival_date_day_of_month  \\\n",
       "0                        27                          1   \n",
       "1                        27                          1   \n",
       "2                        27                          1   \n",
       "3                        27                          1   \n",
       "4                        27                          1   \n",
       "\n",
       "   stays_in_weekend_nights  stays_in_week_nights meal  ... booking_changes  \\\n",
       "0                        0                     0  NaN  ...               3   \n",
       "1                        0                     0   BB  ...               4   \n",
       "2                        0                     1   BB  ...               0   \n",
       "3                        0                     1  NaN  ...               0   \n",
       "4                        0                     2   BB  ...               0   \n",
       "\n",
       "  deposit_type  agent  days_in_waiting_list customer_type   adr  \\\n",
       "0   No Deposit    NaN                     0     Transient   0.0   \n",
       "1   No Deposit    NaN                     0     Transient   0.0   \n",
       "2   No Deposit    NaN                     0     Transient  75.0   \n",
       "3   No Deposit  304.0                     0     Transient  75.0   \n",
       "4   No Deposit  240.0                     0     Transient  98.0   \n",
       "\n",
       "   required_car_parking_spaces total_of_special_requests  total_guests  \\\n",
       "0                            0                         0           2.0   \n",
       "1                            0                         0           2.0   \n",
       "2                            0                         0           1.0   \n",
       "3                            0                         0           1.0   \n",
       "4                            0                         1           2.0   \n",
       "\n",
       "   net_booking_cancelled  \n",
       "0                      0  \n",
       "1                      0  \n",
       "2                      0  \n",
       "3                      0  \n",
       "4                      0  \n",
       "\n",
       "[5 rows x 26 columns]"
      ]
     },
     "execution_count": 2,
     "metadata": {},
     "output_type": "execute_result"
    }
   ],
   "source": [
    "df= pd.read_csv(\"https://drive.google.com/uc?id=1Gqk7mPLeXlx7mo8iQZM0TpcNmnyFa-LD\", index_col = 0)\n",
    "df.head()"
   ]
  },
  {
   "cell_type": "code",
   "execution_count": 3,
   "metadata": {},
   "outputs": [
    {
     "name": "stdout",
     "output_type": "stream",
     "text": [
      "<class 'pandas.core.frame.DataFrame'>\n",
      "Int64Index: 119390 entries, 0 to 119389\n",
      "Data columns (total 26 columns):\n",
      " #   Column                       Non-Null Count   Dtype  \n",
      "---  ------                       --------------   -----  \n",
      " 0   hotel                        119390 non-null  object \n",
      " 1   is_canceled                  119390 non-null  int64  \n",
      " 2   lead_time                    119390 non-null  int64  \n",
      " 3   arrival_date_year            119390 non-null  int64  \n",
      " 4   arrival_date_month           119390 non-null  object \n",
      " 5   arrival_date_week_number     119390 non-null  int64  \n",
      " 6   arrival_date_day_of_month    119390 non-null  int64  \n",
      " 7   stays_in_weekend_nights      119390 non-null  int64  \n",
      " 8   stays_in_week_nights         119390 non-null  int64  \n",
      " 9   meal                         107451 non-null  object \n",
      " 10  country                      118902 non-null  object \n",
      " 11  market_segment               119390 non-null  object \n",
      " 12  distribution_channel         107451 non-null  object \n",
      " 13  is_repeated_guest            119390 non-null  int64  \n",
      " 14  reserved_room_type           119390 non-null  object \n",
      " 15  assigned_room_type           107451 non-null  object \n",
      " 16  booking_changes              119390 non-null  int64  \n",
      " 17  deposit_type                 119390 non-null  object \n",
      " 18  agent                        103050 non-null  float64\n",
      " 19  days_in_waiting_list         119390 non-null  int64  \n",
      " 20  customer_type                119390 non-null  object \n",
      " 21  adr                          119390 non-null  float64\n",
      " 22  required_car_parking_spaces  119390 non-null  int64  \n",
      " 23  total_of_special_requests    119390 non-null  int64  \n",
      " 24  total_guests                 119386 non-null  float64\n",
      " 25  net_booking_cancelled        119390 non-null  int64  \n",
      "dtypes: float64(3), int64(13), object(10)\n",
      "memory usage: 24.6+ MB\n"
     ]
    }
   ],
   "source": [
    "df.info()"
   ]
  },
  {
   "cell_type": "markdown",
   "metadata": {
    "deletable": false,
    "editable": false,
    "id": "-PYR9djVwsHG",
    "nbgrader": {
     "cell_type": "markdown",
     "checksum": "4bc860d3d7d42438946fd99db9f763cf",
     "grade": false,
     "grade_id": "cell-6b18126a4854d153",
     "locked": true,
     "schema_version": 3,
     "solution": false,
     "task": false
    }
   },
   "source": [
    "## Preprocessing\n",
    "### Identification of features with missing values\n",
    "Let's find out if the columns in our dataset has any misssing values."
   ]
  },
  {
   "cell_type": "code",
   "execution_count": 4,
   "metadata": {
    "deletable": false,
    "editable": false,
    "id": "Rkd1RjvSwsHI",
    "nbgrader": {
     "cell_type": "code",
     "checksum": "896555bd445bdf2270f179fbb7ca552b",
     "grade": false,
     "grade_id": "cell-b4b33f9f363968d7",
     "locked": true,
     "schema_version": 3,
     "solution": false,
     "task": false
    },
    "outputId": "dafc649d-0551-48d4-a0af-fca2e8aa28c4"
   },
   "outputs": [
    {
     "data": {
      "text/plain": [
       "hotel                              0\n",
       "is_canceled                        0\n",
       "lead_time                          0\n",
       "arrival_date_year                  0\n",
       "arrival_date_month                 0\n",
       "arrival_date_week_number           0\n",
       "arrival_date_day_of_month          0\n",
       "stays_in_weekend_nights            0\n",
       "stays_in_week_nights               0\n",
       "meal                           11939\n",
       "country                          488\n",
       "market_segment                     0\n",
       "distribution_channel           11939\n",
       "is_repeated_guest                  0\n",
       "reserved_room_type                 0\n",
       "assigned_room_type             11939\n",
       "booking_changes                    0\n",
       "deposit_type                       0\n",
       "agent                          16340\n",
       "days_in_waiting_list               0\n",
       "customer_type                      0\n",
       "adr                                0\n",
       "required_car_parking_spaces        0\n",
       "total_of_special_requests          0\n",
       "total_guests                       4\n",
       "net_booking_cancelled              0\n",
       "dtype: int64"
      ]
     },
     "execution_count": 4,
     "metadata": {},
     "output_type": "execute_result"
    }
   ],
   "source": [
    "df.isnull().sum()"
   ]
  },
  {
   "cell_type": "markdown",
   "metadata": {
    "deletable": false,
    "editable": false,
    "id": "oY3mhFEOwsHQ",
    "nbgrader": {
     "cell_type": "markdown",
     "checksum": "c39d55a079531160aae79f50afaef532",
     "grade": false,
     "grade_id": "cell-0fa66ac9d0129824",
     "locked": true,
     "schema_version": 3,
     "solution": false,
     "task": false
    }
   },
   "source": [
    "We can see that columns `agent`, `assigned_room_type`, `distribution_channel`, `meal`, `country`, and `total_guests` have missing values.\n",
    "\n",
    "Since only four instances in the column `total_guests` have missing value, we will drop them."
   ]
  },
  {
   "cell_type": "code",
   "execution_count": 5,
   "metadata": {
    "deletable": false,
    "editable": false,
    "id": "UKdOTd4BwsHS",
    "nbgrader": {
     "cell_type": "code",
     "checksum": "49e452cee1b383d62a1d14b544bba2ba",
     "grade": false,
     "grade_id": "cell-0658ae9dff5838f4",
     "locked": true,
     "schema_version": 3,
     "solution": false,
     "task": false
    }
   },
   "outputs": [],
   "source": [
    "# removing all rows that have missing values in total_guests column\n",
    "df.dropna(how='any', subset=['total_guests'], inplace=True)"
   ]
  },
  {
   "cell_type": "markdown",
   "metadata": {
    "deletable": false,
    "editable": false,
    "id": "85mnhFDXwsHb",
    "nbgrader": {
     "cell_type": "markdown",
     "checksum": "b3e70ed8cb44ea86286e0bb2f2b94eaa",
     "grade": false,
     "grade_id": "cell-86c773ad37636294",
     "locked": true,
     "schema_version": 3,
     "solution": false,
     "task": false
    }
   },
   "source": [
    "We will impute rest of the features with mode."
   ]
  },
  {
   "cell_type": "code",
   "execution_count": 6,
   "metadata": {
    "deletable": false,
    "editable": false,
    "id": "WVSifF4qwsHc",
    "nbgrader": {
     "cell_type": "code",
     "checksum": "6fe2fceeabaef5f62ae778a602220393",
     "grade": false,
     "grade_id": "cell-ba231c76e63aebc1",
     "locked": true,
     "schema_version": 3,
     "solution": false,
     "task": false
    }
   },
   "outputs": [],
   "source": [
    "missing_features = ['agent', 'assigned_room_type', 'distribution_channel', 'meal', 'country']\n",
    "for feature in missing_features:\n",
    "    df[feature].fillna(df[feature].mode()[0], inplace = True)"
   ]
  },
  {
   "cell_type": "markdown",
   "metadata": {
    "deletable": false,
    "editable": false,
    "id": "RQEJ1XRCwsHl",
    "nbgrader": {
     "cell_type": "markdown",
     "checksum": "7b43801791a6abda95427849b1cb91f4",
     "grade": false,
     "grade_id": "cell-9c70daa05ee0fc45",
     "locked": true,
     "schema_version": 3,
     "solution": false,
     "task": false
    }
   },
   "source": [
    "Until now, we have imputed all the missing values in the dataset."
   ]
  },
  {
   "cell_type": "markdown",
   "metadata": {
    "deletable": false,
    "editable": false,
    "id": "LYANbhhZwsHm",
    "nbgrader": {
     "cell_type": "markdown",
     "checksum": "3f8026d7b6b2e60abf945d927cab6633",
     "grade": false,
     "grade_id": "cell-034cdf27d4021ee4",
     "locked": true,
     "schema_version": 3,
     "solution": false,
     "task": false
    }
   },
   "source": [
    "### Feature generation\n",
    "\n",
    "Here we will combine features `arrival_date_month` and `arrival_date_year` to generate a new feature `month`."
   ]
  },
  {
   "cell_type": "code",
   "execution_count": 7,
   "metadata": {
    "deletable": false,
    "editable": false,
    "id": "AeWZtrUJwsHn",
    "nbgrader": {
     "cell_type": "code",
     "checksum": "557e53c67c54549b885d7ed1e90a54bd",
     "grade": false,
     "grade_id": "cell-b608b12ac2d9d2d4",
     "locked": true,
     "schema_version": 3,
     "solution": false,
     "task": false
    },
    "outputId": "0572c5bc-b890-4ffb-80f3-9fe2b31419c2"
   },
   "outputs": [
    {
     "data": {
      "text/plain": [
       "array([2015, 2016, 2017])"
      ]
     },
     "execution_count": 7,
     "metadata": {},
     "output_type": "execute_result"
    }
   ],
   "source": [
    "df['arrival_date_year'].unique()"
   ]
  },
  {
   "cell_type": "code",
   "execution_count": 8,
   "metadata": {
    "deletable": false,
    "editable": false,
    "id": "_ZXwBZH7wsHu",
    "nbgrader": {
     "cell_type": "code",
     "checksum": "b31f68ddbd785907bdd27c4bae7b2ecc",
     "grade": false,
     "grade_id": "cell-af60eb808bab599d",
     "locked": true,
     "schema_version": 3,
     "solution": false,
     "task": false
    },
    "outputId": "10bfdc83-9cdd-4392-965e-3b48893f3c8d"
   },
   "outputs": [
    {
     "data": {
      "text/plain": [
       "array(['July', 'August', 'September', 'October', 'November', 'December',\n",
       "       'January', 'February', 'March', 'April', 'May', 'June'],\n",
       "      dtype=object)"
      ]
     },
     "execution_count": 8,
     "metadata": {},
     "output_type": "execute_result"
    }
   ],
   "source": [
    "df['arrival_date_month'].unique()"
   ]
  },
  {
   "cell_type": "markdown",
   "metadata": {
    "deletable": false,
    "editable": false,
    "id": "dIPIGG8LwsH1",
    "nbgrader": {
     "cell_type": "markdown",
     "checksum": "c3e7241f95749484f760cfc99e757e00",
     "grade": false,
     "grade_id": "cell-40928221e2b7bd58",
     "locked": true,
     "schema_version": 3,
     "solution": false,
     "task": false
    }
   },
   "source": [
    "In the feature `month`,  we will consider Jan, 2015 as 0, Feb, 2015 as 1, and so on. So this feature will represent the month number starting from Jan, 2015."
   ]
  },
  {
   "cell_type": "code",
   "execution_count": 9,
   "metadata": {
    "deletable": false,
    "editable": false,
    "id": "beVp5g3ZwsH2",
    "nbgrader": {
     "cell_type": "code",
     "checksum": "249e679b563812bbdbe2b0fd033e40e3",
     "grade": false,
     "grade_id": "cell-dad3284a72cc9d72",
     "locked": true,
     "schema_version": 3,
     "solution": false,
     "task": false
    }
   },
   "outputs": [],
   "source": [
    "replace_year = {2015:0, 2016: 12, 2017:24}\n",
    "replace_month= {'Januray':0, 'February': 1, 'March': 2, 'April': 3, 'May': 4, 'June': 5, 'July': 6, 'August': 7, 'September': 8, 'October': 9, 'November': 10, 'December': 11}"
   ]
  },
  {
   "cell_type": "code",
   "execution_count": 10,
   "metadata": {
    "deletable": false,
    "editable": false,
    "id": "L3Q3b4atwsH9",
    "nbgrader": {
     "cell_type": "code",
     "checksum": "d5f0637933f570a0c6abae6a78c18ed8",
     "grade": false,
     "grade_id": "cell-d6b991b3165c322e",
     "locked": true,
     "schema_version": 3,
     "solution": false,
     "task": false
    },
    "outputId": "f612cdf1-09fc-41b9-c03c-962357d1365b"
   },
   "outputs": [
    {
     "data": {
      "text/html": [
       "<div>\n",
       "<style scoped>\n",
       "    .dataframe tbody tr th:only-of-type {\n",
       "        vertical-align: middle;\n",
       "    }\n",
       "\n",
       "    .dataframe tbody tr th {\n",
       "        vertical-align: top;\n",
       "    }\n",
       "\n",
       "    .dataframe thead th {\n",
       "        text-align: right;\n",
       "    }\n",
       "</style>\n",
       "<table border=\"1\" class=\"dataframe\">\n",
       "  <thead>\n",
       "    <tr style=\"text-align: right;\">\n",
       "      <th></th>\n",
       "      <th>hotel</th>\n",
       "      <th>is_canceled</th>\n",
       "      <th>lead_time</th>\n",
       "      <th>arrival_date_year</th>\n",
       "      <th>arrival_date_month</th>\n",
       "      <th>arrival_date_week_number</th>\n",
       "      <th>arrival_date_day_of_month</th>\n",
       "      <th>stays_in_weekend_nights</th>\n",
       "      <th>stays_in_week_nights</th>\n",
       "      <th>meal</th>\n",
       "      <th>...</th>\n",
       "      <th>deposit_type</th>\n",
       "      <th>agent</th>\n",
       "      <th>days_in_waiting_list</th>\n",
       "      <th>customer_type</th>\n",
       "      <th>adr</th>\n",
       "      <th>required_car_parking_spaces</th>\n",
       "      <th>total_of_special_requests</th>\n",
       "      <th>total_guests</th>\n",
       "      <th>net_booking_cancelled</th>\n",
       "      <th>month</th>\n",
       "    </tr>\n",
       "  </thead>\n",
       "  <tbody>\n",
       "    <tr>\n",
       "      <th>0</th>\n",
       "      <td>Resort Hotel</td>\n",
       "      <td>0</td>\n",
       "      <td>342</td>\n",
       "      <td>0</td>\n",
       "      <td>6</td>\n",
       "      <td>27</td>\n",
       "      <td>1</td>\n",
       "      <td>0</td>\n",
       "      <td>0</td>\n",
       "      <td>BB</td>\n",
       "      <td>...</td>\n",
       "      <td>No Deposit</td>\n",
       "      <td>9.0</td>\n",
       "      <td>0</td>\n",
       "      <td>Transient</td>\n",
       "      <td>0.0</td>\n",
       "      <td>0</td>\n",
       "      <td>0</td>\n",
       "      <td>2.0</td>\n",
       "      <td>0</td>\n",
       "      <td>0</td>\n",
       "    </tr>\n",
       "    <tr>\n",
       "      <th>1</th>\n",
       "      <td>Resort Hotel</td>\n",
       "      <td>0</td>\n",
       "      <td>737</td>\n",
       "      <td>0</td>\n",
       "      <td>6</td>\n",
       "      <td>27</td>\n",
       "      <td>1</td>\n",
       "      <td>0</td>\n",
       "      <td>0</td>\n",
       "      <td>BB</td>\n",
       "      <td>...</td>\n",
       "      <td>No Deposit</td>\n",
       "      <td>9.0</td>\n",
       "      <td>0</td>\n",
       "      <td>Transient</td>\n",
       "      <td>0.0</td>\n",
       "      <td>0</td>\n",
       "      <td>0</td>\n",
       "      <td>2.0</td>\n",
       "      <td>0</td>\n",
       "      <td>0</td>\n",
       "    </tr>\n",
       "    <tr>\n",
       "      <th>2</th>\n",
       "      <td>Resort Hotel</td>\n",
       "      <td>0</td>\n",
       "      <td>7</td>\n",
       "      <td>0</td>\n",
       "      <td>6</td>\n",
       "      <td>27</td>\n",
       "      <td>1</td>\n",
       "      <td>0</td>\n",
       "      <td>1</td>\n",
       "      <td>BB</td>\n",
       "      <td>...</td>\n",
       "      <td>No Deposit</td>\n",
       "      <td>9.0</td>\n",
       "      <td>0</td>\n",
       "      <td>Transient</td>\n",
       "      <td>75.0</td>\n",
       "      <td>0</td>\n",
       "      <td>0</td>\n",
       "      <td>1.0</td>\n",
       "      <td>0</td>\n",
       "      <td>0</td>\n",
       "    </tr>\n",
       "    <tr>\n",
       "      <th>3</th>\n",
       "      <td>Resort Hotel</td>\n",
       "      <td>0</td>\n",
       "      <td>13</td>\n",
       "      <td>0</td>\n",
       "      <td>6</td>\n",
       "      <td>27</td>\n",
       "      <td>1</td>\n",
       "      <td>0</td>\n",
       "      <td>1</td>\n",
       "      <td>BB</td>\n",
       "      <td>...</td>\n",
       "      <td>No Deposit</td>\n",
       "      <td>304.0</td>\n",
       "      <td>0</td>\n",
       "      <td>Transient</td>\n",
       "      <td>75.0</td>\n",
       "      <td>0</td>\n",
       "      <td>0</td>\n",
       "      <td>1.0</td>\n",
       "      <td>0</td>\n",
       "      <td>0</td>\n",
       "    </tr>\n",
       "    <tr>\n",
       "      <th>4</th>\n",
       "      <td>Resort Hotel</td>\n",
       "      <td>0</td>\n",
       "      <td>14</td>\n",
       "      <td>0</td>\n",
       "      <td>6</td>\n",
       "      <td>27</td>\n",
       "      <td>1</td>\n",
       "      <td>0</td>\n",
       "      <td>2</td>\n",
       "      <td>BB</td>\n",
       "      <td>...</td>\n",
       "      <td>No Deposit</td>\n",
       "      <td>240.0</td>\n",
       "      <td>0</td>\n",
       "      <td>Transient</td>\n",
       "      <td>98.0</td>\n",
       "      <td>0</td>\n",
       "      <td>1</td>\n",
       "      <td>2.0</td>\n",
       "      <td>0</td>\n",
       "      <td>0</td>\n",
       "    </tr>\n",
       "  </tbody>\n",
       "</table>\n",
       "<p>5 rows × 27 columns</p>\n",
       "</div>"
      ],
      "text/plain": [
       "          hotel  is_canceled  lead_time  arrival_date_year arrival_date_month  \\\n",
       "0  Resort Hotel            0        342                  0                  6   \n",
       "1  Resort Hotel            0        737                  0                  6   \n",
       "2  Resort Hotel            0          7                  0                  6   \n",
       "3  Resort Hotel            0         13                  0                  6   \n",
       "4  Resort Hotel            0         14                  0                  6   \n",
       "\n",
       "   arrival_date_week_number  arrival_date_day_of_month  \\\n",
       "0                        27                          1   \n",
       "1                        27                          1   \n",
       "2                        27                          1   \n",
       "3                        27                          1   \n",
       "4                        27                          1   \n",
       "\n",
       "   stays_in_weekend_nights  stays_in_week_nights meal  ... deposit_type  \\\n",
       "0                        0                     0   BB  ...   No Deposit   \n",
       "1                        0                     0   BB  ...   No Deposit   \n",
       "2                        0                     1   BB  ...   No Deposit   \n",
       "3                        0                     1   BB  ...   No Deposit   \n",
       "4                        0                     2   BB  ...   No Deposit   \n",
       "\n",
       "   agent days_in_waiting_list  customer_type   adr  \\\n",
       "0    9.0                    0      Transient   0.0   \n",
       "1    9.0                    0      Transient   0.0   \n",
       "2    9.0                    0      Transient  75.0   \n",
       "3  304.0                    0      Transient  75.0   \n",
       "4  240.0                    0      Transient  98.0   \n",
       "\n",
       "  required_car_parking_spaces  total_of_special_requests total_guests  \\\n",
       "0                           0                          0          2.0   \n",
       "1                           0                          0          2.0   \n",
       "2                           0                          0          1.0   \n",
       "3                           0                          0          1.0   \n",
       "4                           0                          1          2.0   \n",
       "\n",
       "   net_booking_cancelled  month  \n",
       "0                      0      0  \n",
       "1                      0      0  \n",
       "2                      0      0  \n",
       "3                      0      0  \n",
       "4                      0      0  \n",
       "\n",
       "[5 rows x 27 columns]"
      ]
     },
     "execution_count": 10,
     "metadata": {},
     "output_type": "execute_result"
    }
   ],
   "source": [
    "df['arrival_date_year'] = df['arrival_date_year'].replace(replace_year)\n",
    "df['arrival_date_month'] = df['arrival_date_month'].replace(replace_month)\n",
    "df['month'] = df['arrival_date_year']+df['arrival_date_year']\n",
    "# df.drop(['arrival_date_year', 'arrival_date_year'], axis = 1, inplace = True)\n",
    "df.head()"
   ]
  },
  {
   "cell_type": "markdown",
   "metadata": {
    "deletable": false,
    "editable": false,
    "id": "-MNF119rwsIC",
    "nbgrader": {
     "cell_type": "markdown",
     "checksum": "fe14669c48888decd3156cfc53b3f4cc",
     "grade": false,
     "grade_id": "cell-0c38f70723ae519e",
     "locked": true,
     "schema_version": 3,
     "solution": false,
     "task": false
    }
   },
   "source": [
    "### Label Encoding\n",
    "\n",
    "All categorical features are encoded with label encoding.\n"
   ]
  },
  {
   "cell_type": "code",
   "execution_count": 11,
   "metadata": {
    "deletable": false,
    "editable": false,
    "id": "sMblbXeEwsIE",
    "nbgrader": {
     "cell_type": "code",
     "checksum": "28b35d6bc8a3c03d012a1f9536ddc682",
     "grade": false,
     "grade_id": "cell-ebe3b5cf96137618",
     "locked": true,
     "schema_version": 3,
     "solution": false,
     "task": false
    },
    "outputId": "45d20bea-3d12-429b-c8f0-665e543b3d77"
   },
   "outputs": [
    {
     "data": {
      "text/html": [
       "<div>\n",
       "<style scoped>\n",
       "    .dataframe tbody tr th:only-of-type {\n",
       "        vertical-align: middle;\n",
       "    }\n",
       "\n",
       "    .dataframe tbody tr th {\n",
       "        vertical-align: top;\n",
       "    }\n",
       "\n",
       "    .dataframe thead th {\n",
       "        text-align: right;\n",
       "    }\n",
       "</style>\n",
       "<table border=\"1\" class=\"dataframe\">\n",
       "  <thead>\n",
       "    <tr style=\"text-align: right;\">\n",
       "      <th></th>\n",
       "      <th>hotel</th>\n",
       "      <th>is_canceled</th>\n",
       "      <th>lead_time</th>\n",
       "      <th>arrival_date_year</th>\n",
       "      <th>arrival_date_month</th>\n",
       "      <th>arrival_date_week_number</th>\n",
       "      <th>arrival_date_day_of_month</th>\n",
       "      <th>stays_in_weekend_nights</th>\n",
       "      <th>stays_in_week_nights</th>\n",
       "      <th>meal</th>\n",
       "      <th>...</th>\n",
       "      <th>deposit_type</th>\n",
       "      <th>agent</th>\n",
       "      <th>days_in_waiting_list</th>\n",
       "      <th>customer_type</th>\n",
       "      <th>adr</th>\n",
       "      <th>required_car_parking_spaces</th>\n",
       "      <th>total_of_special_requests</th>\n",
       "      <th>total_guests</th>\n",
       "      <th>net_booking_cancelled</th>\n",
       "      <th>month</th>\n",
       "    </tr>\n",
       "  </thead>\n",
       "  <tbody>\n",
       "    <tr>\n",
       "      <th>0</th>\n",
       "      <td>1</td>\n",
       "      <td>0</td>\n",
       "      <td>342</td>\n",
       "      <td>0</td>\n",
       "      <td>7</td>\n",
       "      <td>27</td>\n",
       "      <td>1</td>\n",
       "      <td>0</td>\n",
       "      <td>0</td>\n",
       "      <td>0</td>\n",
       "      <td>...</td>\n",
       "      <td>0</td>\n",
       "      <td>9.0</td>\n",
       "      <td>0</td>\n",
       "      <td>2</td>\n",
       "      <td>0.0</td>\n",
       "      <td>0</td>\n",
       "      <td>0</td>\n",
       "      <td>2.0</td>\n",
       "      <td>0</td>\n",
       "      <td>0</td>\n",
       "    </tr>\n",
       "    <tr>\n",
       "      <th>1</th>\n",
       "      <td>1</td>\n",
       "      <td>0</td>\n",
       "      <td>737</td>\n",
       "      <td>0</td>\n",
       "      <td>7</td>\n",
       "      <td>27</td>\n",
       "      <td>1</td>\n",
       "      <td>0</td>\n",
       "      <td>0</td>\n",
       "      <td>0</td>\n",
       "      <td>...</td>\n",
       "      <td>0</td>\n",
       "      <td>9.0</td>\n",
       "      <td>0</td>\n",
       "      <td>2</td>\n",
       "      <td>0.0</td>\n",
       "      <td>0</td>\n",
       "      <td>0</td>\n",
       "      <td>2.0</td>\n",
       "      <td>0</td>\n",
       "      <td>0</td>\n",
       "    </tr>\n",
       "    <tr>\n",
       "      <th>2</th>\n",
       "      <td>1</td>\n",
       "      <td>0</td>\n",
       "      <td>7</td>\n",
       "      <td>0</td>\n",
       "      <td>7</td>\n",
       "      <td>27</td>\n",
       "      <td>1</td>\n",
       "      <td>0</td>\n",
       "      <td>1</td>\n",
       "      <td>0</td>\n",
       "      <td>...</td>\n",
       "      <td>0</td>\n",
       "      <td>9.0</td>\n",
       "      <td>0</td>\n",
       "      <td>2</td>\n",
       "      <td>75.0</td>\n",
       "      <td>0</td>\n",
       "      <td>0</td>\n",
       "      <td>1.0</td>\n",
       "      <td>0</td>\n",
       "      <td>0</td>\n",
       "    </tr>\n",
       "    <tr>\n",
       "      <th>3</th>\n",
       "      <td>1</td>\n",
       "      <td>0</td>\n",
       "      <td>13</td>\n",
       "      <td>0</td>\n",
       "      <td>7</td>\n",
       "      <td>27</td>\n",
       "      <td>1</td>\n",
       "      <td>0</td>\n",
       "      <td>1</td>\n",
       "      <td>0</td>\n",
       "      <td>...</td>\n",
       "      <td>0</td>\n",
       "      <td>304.0</td>\n",
       "      <td>0</td>\n",
       "      <td>2</td>\n",
       "      <td>75.0</td>\n",
       "      <td>0</td>\n",
       "      <td>0</td>\n",
       "      <td>1.0</td>\n",
       "      <td>0</td>\n",
       "      <td>0</td>\n",
       "    </tr>\n",
       "    <tr>\n",
       "      <th>4</th>\n",
       "      <td>1</td>\n",
       "      <td>0</td>\n",
       "      <td>14</td>\n",
       "      <td>0</td>\n",
       "      <td>7</td>\n",
       "      <td>27</td>\n",
       "      <td>1</td>\n",
       "      <td>0</td>\n",
       "      <td>2</td>\n",
       "      <td>0</td>\n",
       "      <td>...</td>\n",
       "      <td>0</td>\n",
       "      <td>240.0</td>\n",
       "      <td>0</td>\n",
       "      <td>2</td>\n",
       "      <td>98.0</td>\n",
       "      <td>0</td>\n",
       "      <td>1</td>\n",
       "      <td>2.0</td>\n",
       "      <td>0</td>\n",
       "      <td>0</td>\n",
       "    </tr>\n",
       "  </tbody>\n",
       "</table>\n",
       "<p>5 rows × 27 columns</p>\n",
       "</div>"
      ],
      "text/plain": [
       "   hotel  is_canceled  lead_time  arrival_date_year  arrival_date_month  \\\n",
       "0      1            0        342                  0                   7   \n",
       "1      1            0        737                  0                   7   \n",
       "2      1            0          7                  0                   7   \n",
       "3      1            0         13                  0                   7   \n",
       "4      1            0         14                  0                   7   \n",
       "\n",
       "   arrival_date_week_number  arrival_date_day_of_month  \\\n",
       "0                        27                          1   \n",
       "1                        27                          1   \n",
       "2                        27                          1   \n",
       "3                        27                          1   \n",
       "4                        27                          1   \n",
       "\n",
       "   stays_in_weekend_nights  stays_in_week_nights  meal  ...  deposit_type  \\\n",
       "0                        0                     0     0  ...             0   \n",
       "1                        0                     0     0  ...             0   \n",
       "2                        0                     1     0  ...             0   \n",
       "3                        0                     1     0  ...             0   \n",
       "4                        0                     2     0  ...             0   \n",
       "\n",
       "   agent  days_in_waiting_list  customer_type   adr  \\\n",
       "0    9.0                     0              2   0.0   \n",
       "1    9.0                     0              2   0.0   \n",
       "2    9.0                     0              2  75.0   \n",
       "3  304.0                     0              2  75.0   \n",
       "4  240.0                     0              2  98.0   \n",
       "\n",
       "   required_car_parking_spaces  total_of_special_requests  total_guests  \\\n",
       "0                            0                          0           2.0   \n",
       "1                            0                          0           2.0   \n",
       "2                            0                          0           1.0   \n",
       "3                            0                          0           1.0   \n",
       "4                            0                          1           2.0   \n",
       "\n",
       "   net_booking_cancelled  month  \n",
       "0                      0      0  \n",
       "1                      0      0  \n",
       "2                      0      0  \n",
       "3                      0      0  \n",
       "4                      0      0  \n",
       "\n",
       "[5 rows x 27 columns]"
      ]
     },
     "execution_count": 11,
     "metadata": {},
     "output_type": "execute_result"
    }
   ],
   "source": [
    "from sklearn.preprocessing import LabelEncoder\n",
    "\n",
    "\n",
    "cat_vars = [var for var in df.columns if df[var].dtypes=='O']\n",
    "df[cat_vars] = df[cat_vars].astype(str).apply(LabelEncoder().fit_transform)\n",
    "df.head()"
   ]
  },
  {
   "cell_type": "markdown",
   "metadata": {
    "deletable": false,
    "editable": false,
    "id": "3gv7QJLkwsIN",
    "nbgrader": {
     "cell_type": "markdown",
     "checksum": "45ec4911f01801f503262ad6cde95120",
     "grade": false,
     "grade_id": "cell-63009ab9120d68aa",
     "locked": true,
     "schema_version": 3,
     "solution": false,
     "task": false
    }
   },
   "source": [
    "### Train-Test Split\n",
    "\n",
    "Before performing train-test split let's check the class distribution."
   ]
  },
  {
   "cell_type": "code",
   "execution_count": 12,
   "metadata": {
    "deletable": false,
    "editable": false,
    "id": "YPhv7xg2wsIO",
    "nbgrader": {
     "cell_type": "code",
     "checksum": "fc81b76594175d04d9ffb5a8093043b3",
     "grade": false,
     "grade_id": "cell-4c3c82852baf6e8c",
     "locked": true,
     "schema_version": 3,
     "solution": false,
     "task": false
    },
    "outputId": "5032bb3a-4456-4fad-e554-085f686840e1"
   },
   "outputs": [
    {
     "data": {
      "text/plain": [
       "<Axes: >"
      ]
     },
     "execution_count": 12,
     "metadata": {},
     "output_type": "execute_result"
    },
    {
     "data": {
      "image/png": "[encoded data removed]",
      "text/plain": [
       "<Figure size 640x480 with 1 Axes>"
      ]
     },
     "metadata": {},
     "output_type": "display_data"
    }
   ],
   "source": [
    "df['is_canceled'].value_counts().plot(kind = 'bar')"
   ]
  },
  {
   "cell_type": "markdown",
   "metadata": {
    "deletable": false,
    "editable": false,
    "id": "idp18pfRwsIW",
    "nbgrader": {
     "cell_type": "markdown",
     "checksum": "b48bb06128c0bb670a337fc1bb203d56",
     "grade": false,
     "grade_id": "cell-13717f78e9b4e741",
     "locked": true,
     "schema_version": 3,
     "solution": false,
     "task": false
    }
   },
   "source": [
    "We see that the dataset is imbalanced. This forces us to:\n",
    "- Set `stratify` to `y` while splitting the dataset so that the proportion of `is_canceled = 0`, and `is_canceled = 1` remains constant in the training and test dataset.\n",
    "- Use metric like f1 score to assess the performance of our model"
   ]
  },
  {
   "cell_type": "code",
   "execution_count": 13,
   "metadata": {
    "deletable": false,
    "editable": false,
    "id": "ioN2runWwsIX",
    "nbgrader": {
     "cell_type": "code",
     "checksum": "b7731b5f441ff773a3ba118574999408",
     "grade": false,
     "grade_id": "cell-8684ac95ede2a433",
     "locked": true,
     "schema_version": 3,
     "solution": false,
     "task": false
    }
   },
   "outputs": [],
   "source": [
    "from sklearn.model_selection import train_test_split\n",
    "\n",
    "\n",
    "RANDOM_STATE = 7\n",
    "y= df['is_canceled']\n",
    "X = df.drop('is_canceled', axis = 1)\n",
    "X_train, X_test, y_train, y_test = train_test_split(X, y, test_size = 0.2, stratify = y, random_state = RANDOM_STATE)"
   ]
  },
  {
   "cell_type": "markdown",
   "metadata": {
    "deletable": false,
    "editable": false,
    "id": "-FH86C_ewsId",
    "nbgrader": {
     "cell_type": "markdown",
     "checksum": "bba3e1a34b7691d8619eae1ec4ebbcdd",
     "grade": false,
     "grade_id": "cell-905fcb117aad61f6",
     "locked": true,
     "schema_version": 3,
     "solution": false,
     "task": false
    }
   },
   "source": [
    "## Bagging\n",
    "\n",
    "### Exercise 1: Training Bagging Classifier\n",
    "<b><div style=\"text-align: right\">[POINTS: 1]</div></b>\n",
    "\n",
    "---\n",
    "\n",
    "\n",
    "**Task:** \n",
    "-  Instantiate BaggingClassifier in the variable `bagging` with __n_estimators__ set to 100 and  __random_state__ set to RANDOM_STATE"
   ]
  },
  {
   "cell_type": "code",
   "execution_count": 14,
   "metadata": {
    "deletable": false,
    "id": "v4WnJLOCwsIe",
    "nbgrader": {
     "cell_type": "code",
     "checksum": "390823431cb81a65a7c86e05f1c9a504",
     "grade": false,
     "grade_id": "cell-b035578ba9f37360",
     "locked": false,
     "schema_version": 3,
     "solution": true,
     "task": false
    },
    "outputId": "bef97b41-8a6f-4ef4-f8ab-ad8a1ee96126",
    "tags": [
     "Ex-1-Task-1"
    ]
   },
   "outputs": [
    {
     "name": "stdout",
     "output_type": "stream",
     "text": [
      "Train f1_score: 0.9960933002773003\n",
      "Test f1_score: 0.8899704649635516\n"
     ]
    }
   ],
   "source": [
    "### Ex-1-Task-1\n",
    "\n",
    "from sklearn.ensemble import BaggingClassifier\n",
    "from sklearn.metrics import f1_score\n",
    "\n",
    "\n",
    "bagging = None\n",
    "### BEGIN SOLUTION\n",
    "# your code here\n",
    "bagging = BaggingClassifier(n_estimators=100 , random_state=RANDOM_STATE)\n",
    "# raise NotImplementedError\n",
    "### END SOLUTION\n",
    "bagging.fit(X_train, y_train)\n",
    "print(\"Train f1_score:\", f1_score(y_train, bagging.predict(X_train), average = 'weighted'))\n",
    "print(\"Test f1_score:\", f1_score(y_test, bagging.predict(X_test), average = 'weighted'))"
   ]
  },
  {
   "cell_type": "code",
   "execution_count": 15,
   "metadata": {
    "deletable": false,
    "editable": false,
    "id": "pTrHUGX7wsIm",
    "nbgrader": {
     "cell_type": "code",
     "checksum": "7b4cc6939d96357b820d35147109a930",
     "grade": true,
     "grade_id": "cell-4abb817fcb9f3fd8",
     "locked": true,
     "points": 1,
     "schema_version": 3,
     "solution": false,
     "task": false
    },
    "tags": [
     "Ex-1-Task-1"
    ]
   },
   "outputs": [],
   "source": [
    "assert bagging is not None\n"
   ]
  },
  {
   "cell_type": "markdown",
   "metadata": {
    "deletable": false,
    "editable": false,
    "id": "7aoaNQUYwsIs",
    "nbgrader": {
     "cell_type": "markdown",
     "checksum": "10fca3d9fe7aa9fbffdea39306d3a84d",
     "grade": false,
     "grade_id": "cell-93661e0a4d78d9c6",
     "locked": true,
     "schema_version": 3,
     "solution": false,
     "task": false
    }
   },
   "source": [
    "## Random Forest\n",
    "\n",
    "### Exercise 2: Training Random Forest Classifier\n",
    "<b><div style=\"text-align: right\">[POINTS: 1]</div></b>\n",
    "\n",
    "---\n",
    "\n",
    "\n",
    "**Task:** \n",
    "-  Instantiate RandomForestClassifier in the variable `rf` with __n_estimators__ set to 100, and  __random_state__ set to RANDOM_STATE"
   ]
  },
  {
   "cell_type": "code",
   "execution_count": 16,
   "metadata": {
    "deletable": false,
    "id": "6XDrmqnkwsIt",
    "nbgrader": {
     "cell_type": "code",
     "checksum": "91595f945ef5796a71208ccae3b2e21b",
     "grade": false,
     "grade_id": "cell-495dd9906e2fa3a6",
     "locked": false,
     "schema_version": 3,
     "solution": true,
     "task": false
    },
    "outputId": "f85db801-ee93-4cb5-994c-426eb98378a0",
    "tags": [
     "Ex-2-Task-1"
    ]
   },
   "outputs": [
    {
     "name": "stdout",
     "output_type": "stream",
     "text": [
      "Train f1_score: 0.9961141563536368\n",
      "Test f1_score: 0.8942566123377529\n"
     ]
    }
   ],
   "source": [
    "### Ex-2-Task-1\n",
    "\n",
    "from sklearn.ensemble import RandomForestClassifier\n",
    "\n",
    "rf = None\n",
    "### BEGIN SOLUTION\n",
    "# your code here\n",
    "rf = RandomForestClassifier(n_estimators=100 , random_state= RANDOM_STATE)\n",
    "# raise NotImplementedError\n",
    "### END SOLUTION\n",
    "rf.fit(X_train, y_train)\n",
    "print(\"Train f1_score:\", f1_score(y_train, rf.predict(X_train), average = 'weighted'))\n",
    "print(\"Test f1_score:\", f1_score(y_test, rf.predict(X_test), average = 'weighted'))"
   ]
  },
  {
   "cell_type": "code",
   "execution_count": 17,
   "metadata": {
    "deletable": false,
    "editable": false,
    "id": "SuRcc3LHwsIy",
    "nbgrader": {
     "cell_type": "code",
     "checksum": "965b6177c8fc27e520ff4ae242ce348d",
     "grade": true,
     "grade_id": "cell-2cbd41b766162a73",
     "locked": true,
     "points": 1,
     "schema_version": 3,
     "solution": false,
     "task": false
    },
    "tags": [
     "Ex-2-Task-1"
    ]
   },
   "outputs": [],
   "source": [
    "assert rf is not None"
   ]
  },
  {
   "cell_type": "markdown",
   "metadata": {
    "deletable": false,
    "editable": false,
    "id": "HrCu3Pp-wsI5",
    "nbgrader": {
     "cell_type": "markdown",
     "checksum": "ceea308dac698346faf96641653f5648",
     "grade": false,
     "grade_id": "cell-8680bae94e0b8faf",
     "locked": true,
     "schema_version": 3,
     "solution": false,
     "task": false
    }
   },
   "source": [
    "## XGBoost\n",
    "\n",
    "### Exercise 3: XGBoost Training\n",
    "<b><div style=\"text-align: right\">[POINTS: 1]</div></b>\n",
    "\n",
    "---\n",
    "Here we will train XGBoost with most of the parameters left to default.\n",
    "\n",
    "**Task:** \n",
    "-  Instantiate XGBClassifier in the variable `xgb` with __n_estimators__ set to 100 and __random_state__ set to RANDOM_STATE\n"
   ]
  },
  {
   "cell_type": "markdown",
   "metadata": {},
   "source": [
    "## Error around this cell"
   ]
  },
  {
   "cell_type": "code",
   "execution_count": 18,
   "metadata": {
    "deletable": false,
    "id": "JTDajYP9wsI6",
    "nbgrader": {
     "cell_type": "code",
     "checksum": "902cf406b95a5f31c72d3aa5d81bb1d6",
     "grade": false,
     "grade_id": "cell-9070fe216cafb265",
     "locked": false,
     "schema_version": 3,
     "solution": true,
     "task": false
    },
    "outputId": "e56b76c5-6dd8-40d0-fae3-4a7e69e7495d",
    "tags": [
     "Ex-3-Task-1"
    ]
   },
   "outputs": [
    {
     "name": "stdout",
     "output_type": "stream",
     "text": [
      "XGBClassifer with default parameters:\n",
      "\n",
      "XGBClassifier(base_score=None, booster=None, callbacks=None,\n",
      "              colsample_bylevel=None, colsample_bynode=None,\n",
      "              colsample_bytree=None, device=None, early_stopping_rounds=None,\n",
      "              enable_categorical=False, eval_metric=None, feature_types=None,\n",
      "              gamma=None, grow_policy=None, importance_type=None,\n",
      "              interaction_constraints=None, learning_rate=None, max_bin=None,\n",
      "              max_cat_threshold=None, max_cat_to_onehot=None,\n",
      "              max_delta_step=None, max_depth=None, max_leaves=None,\n",
      "              min_child_weight=None, missing=nan, monotone_constraints=None,\n",
      "              multi_strategy=None, n_estimators=100, n_jobs=None,\n",
      "              num_parallel_tree=None, random_state=7, ...)\n"
     ]
    }
   ],
   "source": [
    "### Ex-3-Task-1\n",
    "\n",
    "from xgboost import XGBClassifier\n",
    "\n",
    "\n",
    "xgb = None\n",
    "### BEGIN SOLUTION\n",
    "# your code here\n",
    "xgb = XGBClassifier(n_estimators= 100 , random_state = RANDOM_STATE)\n",
    "# raise NotImplementedError\n",
    "### END SOLUTION\n",
    "xgb.fit(X_train, y_train)\n",
    "print(\"XGBClassifer with default parameters:\\n\")\n",
    "print(xgb)"
   ]
  },
  {
   "cell_type": "code",
   "execution_count": 19,
   "metadata": {
    "deletable": false,
    "editable": false,
    "id": "co-fgNlBwsI_",
    "nbgrader": {
     "cell_type": "code",
     "checksum": "24cfb6fad2b1d72567e2b893e89f7604",
     "grade": true,
     "grade_id": "cell-f3b03e893eedfef4",
     "locked": true,
     "points": 1,
     "schema_version": 3,
     "solution": false,
     "task": false
    },
    "tags": [
     "Ex-3-Task-1"
    ]
   },
   "outputs": [],
   "source": [
    "assert xgb is not None"
   ]
  },
  {
   "cell_type": "markdown",
   "metadata": {
    "deletable": false,
    "editable": false,
    "id": "2MfIlj_wwsJE",
    "nbgrader": {
     "cell_type": "markdown",
     "checksum": "f130a7d40b1ee9a3660c48a0b5c72473",
     "grade": false,
     "grade_id": "cell-a90137b98eb00dd1",
     "locked": true,
     "schema_version": 3,
     "solution": false,
     "task": false
    }
   },
   "source": [
    "### Model Evaluation\n"
   ]
  },
  {
   "cell_type": "code",
   "execution_count": 20,
   "metadata": {
    "deletable": false,
    "editable": false,
    "id": "aAU-U1zAwsJF",
    "nbgrader": {
     "cell_type": "code",
     "checksum": "35f7609b23eb449cbf651b8b40b0b2ff",
     "grade": false,
     "grade_id": "cell-81881a49a238d8ef",
     "locked": true,
     "schema_version": 3,
     "solution": false,
     "task": false
    },
    "outputId": "e475fd58-9676-429b-bbb4-f179ee6974ae"
   },
   "outputs": [
    {
     "name": "stdout",
     "output_type": "stream",
     "text": [
      "Train f1_score: 0.8961338160144634\n",
      "Test f1_score: 0.8756732482053502\n"
     ]
    }
   ],
   "source": [
    "print(\"Train f1_score:\", f1_score(y_train, xgb.predict(X_train), average = 'weighted'))\n",
    "print(\"Test f1_score:\", f1_score(y_test, xgb.predict(X_test), average = 'weighted'))"
   ]
  },
  {
   "cell_type": "markdown",
   "metadata": {
    "deletable": false,
    "editable": false,
    "id": "Cp8cVcgkwsJL",
    "nbgrader": {
     "cell_type": "markdown",
     "checksum": "1bca7aadf0756b0974bda3c44e1d2abb",
     "grade": false,
     "grade_id": "cell-80e77d38218e7c7d",
     "locked": true,
     "schema_version": 3,
     "solution": false,
     "task": false
    }
   },
   "source": [
    "### Tree Visualization\n",
    "\n",
    "### Exercise 4: Plot the tree structure\n",
    "<b><div style=\"text-align: right\">[UNGRADED]</div></b>\n",
    "\n",
    "---\n",
    "Plot the tree structure in the cell below. You can use `plot_tree()` or `to_graphviz()` method provided by xgboost to plot the tree.\n",
    "\n",
    "**Task:** \n",
    "-  Your task is to plot the 20th tree and answer the quiz below.\n",
    "\n"
   ]
  },
  {
   "cell_type": "code",
   "execution_count": null,
   "metadata": {},
   "outputs": [],
   "source": []
  },
  {
   "cell_type": "code",
   "execution_count": 57,
   "metadata": {
    "deletable": false,
    "id": "48H5N7r-wsJM",
    "nbgrader": {
     "cell_type": "code",
     "checksum": "87f62c5d8568dc1eb993a59be3a1d757",
     "grade": false,
     "grade_id": "cell-7404e01a7c17571f",
     "locked": false,
     "schema_version": 3,
     "solution": true,
     "task": false
    },
    "outputId": "4083233c-545b-4116-d3e4-25839cfad204",
    "tags": [
     "Ex-4-Task-1"
    ]
   },
   "outputs": [
    {
     "data": {
      "image/svg+xml": [
       "<?xml version=\"1.0\" encoding=\"UTF-8\" standalone=\"no\"?>\n",
       "<!DOCTYPE svg PUBLIC \"-//W3C//DTD SVG 1.1//EN\"\n",
       " \"http://www.w3.org/Graphics/SVG/1.1/DTD/svg11.dtd\">\n",
       "<!-- Generated by graphviz version 2.43.0 (0)\n",
       " -->\n",
       "<!-- Title: %3 Pages: 1 -->\n",
       "<svg width=\"2635pt\" height=\"1718pt\"\n",
       " viewBox=\"0.00 0.00 2634.63 1718.00\" xmlns=\"http://www.w3.org/2000/svg\" xmlns:xlink=\"http://www.w3.org/1999/xlink\">\n",
       "<g id=\"graph0\" class=\"graph\" transform=\"scale(1 1) rotate(0) translate(4 1714)\">\n",
       "<title>%3</title>\n",
       "<polygon fill=\"white\" stroke=\"transparent\" points=\"-4,4 -4,-1714 2630.63,-1714 2630.63,4 -4,4\"/>\n",
       "<!-- 0 -->\n",
       "<g id=\"node1\" class=\"node\">\n",
       "<title>0</title>\n",
       "<ellipse fill=\"none\" stroke=\"black\" cx=\"159.24\" cy=\"-851\" rx=\"159.47\" ry=\"18\"/>\n",
       "<text text-anchor=\"middle\" x=\"159.24\" y=\"-847.3\" font-family=\"Times,serif\" font-size=\"14.00\">required_car_parking_spaces&lt;1</text>\n",
       "</g>\n",
       "<!-- 1 -->\n",
       "<g id=\"node2\" class=\"node\">\n",
       "<title>1</title>\n",
       "<ellipse fill=\"none\" stroke=\"black\" cx=\"576.86\" cy=\"-886\" rx=\"140.28\" ry=\"18\"/>\n",
       "<text text-anchor=\"middle\" x=\"576.86\" y=\"-882.3\" font-family=\"Times,serif\" font-size=\"14.00\">total_of_special_requests&lt;1</text>\n",
       "</g>\n",
       "<!-- 0&#45;&gt;1 -->\n",
       "<g id=\"edge1\" class=\"edge\">\n",
       "<title>0&#45;&gt;1</title>\n",
       "<path fill=\"none\" stroke=\"#ff0000\" d=\"M287.48,-861.72C338.72,-866.03 397.69,-871 448.9,-875.31\"/>\n",
       "<polygon fill=\"#ff0000\" stroke=\"#ff0000\" points=\"448.78,-878.81 459.04,-876.16 449.37,-871.84 448.78,-878.81\"/>\n",
       "<text text-anchor=\"middle\" x=\"377.47\" y=\"-875.8\" font-family=\"Times,serif\" font-size=\"14.00\">yes</text>\n",
       "</g>\n",
       "<!-- 2 -->\n",
       "<g id=\"node3\" class=\"node\">\n",
       "<title>2</title>\n",
       "<ellipse fill=\"none\" stroke=\"black\" cx=\"576.86\" cy=\"-832\" rx=\"100.18\" ry=\"18\"/>\n",
       "<text text-anchor=\"middle\" x=\"576.86\" y=\"-828.3\" font-family=\"Times,serif\" font-size=\"14.00\">leaf=&#45;0.297468066</text>\n",
       "</g>\n",
       "<!-- 0&#45;&gt;2 -->\n",
       "<g id=\"edge2\" class=\"edge\">\n",
       "<title>0&#45;&gt;2</title>\n",
       "<path fill=\"none\" stroke=\"#0000ff\" d=\"M301.15,-842.76C313.09,-842.14 324.99,-841.54 336.47,-841 379.55,-838.97 427.01,-837.11 468.23,-835.61\"/>\n",
       "<polygon fill=\"#0000ff\" stroke=\"#0000ff\" points=\"468.43,-839.1 478.3,-835.25 468.18,-832.11 468.43,-839.1\"/>\n",
       "<text text-anchor=\"middle\" x=\"377.47\" y=\"-844.8\" font-family=\"Times,serif\" font-size=\"14.00\">no, missing</text>\n",
       "</g>\n",
       "<!-- 3 -->\n",
       "<g id=\"node4\" class=\"node\">\n",
       "<title>3</title>\n",
       "<ellipse fill=\"none\" stroke=\"black\" cx=\"945.74\" cy=\"-1053\" rx=\"110.48\" ry=\"18\"/>\n",
       "<text text-anchor=\"middle\" x=\"945.74\" y=\"-1049.3\" font-family=\"Times,serif\" font-size=\"14.00\">arrival_date_year&lt;12</text>\n",
       "</g>\n",
       "<!-- 1&#45;&gt;3 -->\n",
       "<g id=\"edge3\" class=\"edge\">\n",
       "<title>1&#45;&gt;3</title>\n",
       "<path fill=\"none\" stroke=\"#ff0000\" d=\"M616.08,-903.4C683.79,-934.22 824.57,-998.3 897.96,-1031.71\"/>\n",
       "<polygon fill=\"#ff0000\" stroke=\"#ff0000\" points=\"896.87,-1035.06 907.42,-1036.01 899.77,-1028.69 896.87,-1035.06\"/>\n",
       "<text text-anchor=\"middle\" x=\"776.25\" y=\"-997.8\" font-family=\"Times,serif\" font-size=\"14.00\">yes</text>\n",
       "</g>\n",
       "<!-- 4 -->\n",
       "<g id=\"node5\" class=\"node\">\n",
       "<title>4</title>\n",
       "<ellipse fill=\"none\" stroke=\"black\" cx=\"945.74\" cy=\"-621\" rx=\"110.48\" ry=\"18\"/>\n",
       "<text text-anchor=\"middle\" x=\"945.74\" y=\"-617.3\" font-family=\"Times,serif\" font-size=\"14.00\">arrival_date_year&lt;24</text>\n",
       "</g>\n",
       "<!-- 1&#45;&gt;4 -->\n",
       "<g id=\"edge4\" class=\"edge\">\n",
       "<title>1&#45;&gt;4</title>\n",
       "<path fill=\"none\" stroke=\"#0000ff\" d=\"M680.17,-873.8C693.09,-870.08 705.78,-865.26 717.25,-859 814.27,-806.04 894.53,-697.28 927.98,-647.24\"/>\n",
       "<polygon fill=\"#0000ff\" stroke=\"#0000ff\" points=\"930.91,-649.16 933.49,-638.89 925.06,-645.31 930.91,-649.16\"/>\n",
       "<text text-anchor=\"middle\" x=\"776.25\" y=\"-849.8\" font-family=\"Times,serif\" font-size=\"14.00\">no, missing</text>\n",
       "</g>\n",
       "<!-- 5 -->\n",
       "<g id=\"node6\" class=\"node\">\n",
       "<title>5</title>\n",
       "<ellipse fill=\"none\" stroke=\"black\" cx=\"1328.91\" cy=\"-1393\" rx=\"122.68\" ry=\"18\"/>\n",
       "<text text-anchor=\"middle\" x=\"1328.91\" y=\"-1389.3\" font-family=\"Times,serif\" font-size=\"14.00\">days_in_waiting_list&lt;22</text>\n",
       "</g>\n",
       "<!-- 3&#45;&gt;5 -->\n",
       "<g id=\"edge5\" class=\"edge\">\n",
       "<title>3&#45;&gt;5</title>\n",
       "<path fill=\"none\" stroke=\"#ff0000\" d=\"M966.69,-1070.8C1030.1,-1127.36 1227.07,-1303.05 1300.2,-1368.28\"/>\n",
       "<polygon fill=\"#ff0000\" stroke=\"#ff0000\" points=\"1297.9,-1370.92 1307.69,-1374.96 1302.56,-1365.7 1297.9,-1370.92\"/>\n",
       "<text text-anchor=\"middle\" x=\"1115.23\" y=\"-1236.8\" font-family=\"Times,serif\" font-size=\"14.00\">yes</text>\n",
       "</g>\n",
       "<!-- 6 -->\n",
       "<g id=\"node7\" class=\"node\">\n",
       "<title>6</title>\n",
       "<ellipse fill=\"none\" stroke=\"black\" cx=\"1328.91\" cy=\"-1053\" rx=\"69.59\" ry=\"18\"/>\n",
       "<text text-anchor=\"middle\" x=\"1328.91\" y=\"-1049.3\" font-family=\"Times,serif\" font-size=\"14.00\">lead_time&lt;1</text>\n",
       "</g>\n",
       "<!-- 3&#45;&gt;6 -->\n",
       "<g id=\"edge6\" class=\"edge\">\n",
       "<title>3&#45;&gt;6</title>\n",
       "<path fill=\"none\" stroke=\"#0000ff\" d=\"M1056.48,-1053C1118.07,-1053 1193.5,-1053 1249.2,-1053\"/>\n",
       "<polygon fill=\"#0000ff\" stroke=\"#0000ff\" points=\"1249.36,-1056.5 1259.36,-1053 1249.36,-1049.5 1249.36,-1056.5\"/>\n",
       "<text text-anchor=\"middle\" x=\"1115.23\" y=\"-1056.8\" font-family=\"Times,serif\" font-size=\"14.00\">no, missing</text>\n",
       "</g>\n",
       "<!-- 7 -->\n",
       "<g id=\"node36\" class=\"node\">\n",
       "<title>7</title>\n",
       "<ellipse fill=\"none\" stroke=\"black\" cx=\"1328.91\" cy=\"-621\" rx=\"154.87\" ry=\"18\"/>\n",
       "<text text-anchor=\"middle\" x=\"1328.91\" y=\"-617.3\" font-family=\"Times,serif\" font-size=\"14.00\">arrival_date_week_number&lt;35</text>\n",
       "</g>\n",
       "<!-- 4&#45;&gt;7 -->\n",
       "<g id=\"edge35\" class=\"edge\">\n",
       "<title>4&#45;&gt;7</title>\n",
       "<path fill=\"none\" stroke=\"#ff0000\" d=\"M1056.48,-621C1089.95,-621 1127.51,-621 1163.76,-621\"/>\n",
       "<polygon fill=\"#ff0000\" stroke=\"#ff0000\" points=\"1163.95,-624.5 1173.95,-621 1163.95,-617.5 1163.95,-624.5\"/>\n",
       "<text text-anchor=\"middle\" x=\"1115.23\" y=\"-624.8\" font-family=\"Times,serif\" font-size=\"14.00\">yes</text>\n",
       "</g>\n",
       "<!-- 8 -->\n",
       "<g id=\"node37\" class=\"node\">\n",
       "<title>8</title>\n",
       "<ellipse fill=\"none\" stroke=\"black\" cx=\"1328.91\" cy=\"-313\" rx=\"140.28\" ry=\"18\"/>\n",
       "<text text-anchor=\"middle\" x=\"1328.91\" y=\"-309.3\" font-family=\"Times,serif\" font-size=\"14.00\">total_of_special_requests&lt;3</text>\n",
       "</g>\n",
       "<!-- 4&#45;&gt;8 -->\n",
       "<g id=\"edge36\" class=\"edge\">\n",
       "<title>4&#45;&gt;8</title>\n",
       "<path fill=\"none\" stroke=\"#0000ff\" d=\"M968.6,-603.33C1033.18,-551.15 1223.24,-397.58 1297.6,-337.5\"/>\n",
       "<polygon fill=\"#0000ff\" stroke=\"#0000ff\" points=\"1300.08,-339.99 1305.66,-330.98 1295.69,-334.54 1300.08,-339.99\"/>\n",
       "<text text-anchor=\"middle\" x=\"1115.23\" y=\"-516.8\" font-family=\"Times,serif\" font-size=\"14.00\">no, missing</text>\n",
       "</g>\n",
       "<!-- 9 -->\n",
       "<g id=\"node8\" class=\"node\">\n",
       "<title>9</title>\n",
       "<ellipse fill=\"none\" stroke=\"black\" cx=\"1729.64\" cy=\"-1547\" rx=\"128.08\" ry=\"18\"/>\n",
       "<text text-anchor=\"middle\" x=\"1729.64\" y=\"-1543.3\" font-family=\"Times,serif\" font-size=\"14.00\">net_booking_cancelled&lt;1</text>\n",
       "</g>\n",
       "<!-- 5&#45;&gt;9 -->\n",
       "<g id=\"edge7\" class=\"edge\">\n",
       "<title>5&#45;&gt;9</title>\n",
       "<path fill=\"none\" stroke=\"#ff0000\" d=\"M1373.72,-1409.92C1447.4,-1438.38 1595.84,-1495.71 1675.4,-1526.44\"/>\n",
       "<polygon fill=\"#ff0000\" stroke=\"#ff0000\" points=\"1674.17,-1529.71 1684.75,-1530.05 1676.69,-1523.18 1674.17,-1529.71\"/>\n",
       "<text text-anchor=\"middle\" x=\"1542.6\" y=\"-1491.8\" font-family=\"Times,serif\" font-size=\"14.00\">yes</text>\n",
       "</g>\n",
       "<!-- 10 -->\n",
       "<g id=\"node9\" class=\"node\">\n",
       "<title>10</title>\n",
       "<ellipse fill=\"none\" stroke=\"black\" cx=\"1729.64\" cy=\"-1393\" rx=\"114.28\" ry=\"18\"/>\n",
       "<text text-anchor=\"middle\" x=\"1729.64\" y=\"-1389.3\" font-family=\"Times,serif\" font-size=\"14.00\">arrival_date_month&lt;3</text>\n",
       "</g>\n",
       "<!-- 5&#45;&gt;10 -->\n",
       "<g id=\"edge8\" class=\"edge\">\n",
       "<title>5&#45;&gt;10</title>\n",
       "<path fill=\"none\" stroke=\"#0000ff\" d=\"M1451.98,-1393C1500.51,-1393 1556.26,-1393 1604.94,-1393\"/>\n",
       "<polygon fill=\"#0000ff\" stroke=\"#0000ff\" points=\"1605.22,-1396.5 1615.22,-1393 1605.22,-1389.5 1605.22,-1396.5\"/>\n",
       "<text text-anchor=\"middle\" x=\"1542.6\" y=\"-1396.8\" font-family=\"Times,serif\" font-size=\"14.00\">no, missing</text>\n",
       "</g>\n",
       "<!-- 11 -->\n",
       "<g id=\"node22\" class=\"node\">\n",
       "<title>11</title>\n",
       "<ellipse fill=\"none\" stroke=\"black\" cx=\"1729.64\" cy=\"-1115\" rx=\"89.88\" ry=\"18\"/>\n",
       "<text text-anchor=\"middle\" x=\"1729.64\" y=\"-1111.3\" font-family=\"Times,serif\" font-size=\"14.00\">adr&lt;19.1499996</text>\n",
       "</g>\n",
       "<!-- 6&#45;&gt;11 -->\n",
       "<g id=\"edge21\" class=\"edge\">\n",
       "<title>6&#45;&gt;11</title>\n",
       "<path fill=\"none\" stroke=\"#ff0000\" d=\"M1389.18,-1062.22C1457.9,-1072.9 1571.53,-1090.57 1648.19,-1102.49\"/>\n",
       "<polygon fill=\"#ff0000\" stroke=\"#ff0000\" points=\"1647.86,-1105.98 1658.28,-1104.06 1648.94,-1099.07 1647.86,-1105.98\"/>\n",
       "<text text-anchor=\"middle\" x=\"1542.6\" y=\"-1094.8\" font-family=\"Times,serif\" font-size=\"14.00\">yes</text>\n",
       "</g>\n",
       "<!-- 12 -->\n",
       "<g id=\"node23\" class=\"node\">\n",
       "<title>12</title>\n",
       "<ellipse fill=\"none\" stroke=\"black\" cx=\"1729.64\" cy=\"-999\" rx=\"56.59\" ry=\"18\"/>\n",
       "<text text-anchor=\"middle\" x=\"1729.64\" y=\"-995.3\" font-family=\"Times,serif\" font-size=\"14.00\">agent&lt;10</text>\n",
       "</g>\n",
       "<!-- 6&#45;&gt;12 -->\n",
       "<g id=\"edge22\" class=\"edge\">\n",
       "<title>6&#45;&gt;12</title>\n",
       "<path fill=\"none\" stroke=\"#0000ff\" d=\"M1390.91,-1044.74C1465.7,-1034.61 1591.78,-1017.53 1666.91,-1007.36\"/>\n",
       "<polygon fill=\"#0000ff\" stroke=\"#0000ff\" points=\"1667.73,-1010.78 1677.17,-1005.97 1666.79,-1003.84 1667.73,-1010.78\"/>\n",
       "<text text-anchor=\"middle\" x=\"1542.6\" y=\"-1032.8\" font-family=\"Times,serif\" font-size=\"14.00\">no, missing</text>\n",
       "</g>\n",
       "<!-- 17 -->\n",
       "<g id=\"node10\" class=\"node\">\n",
       "<title>17</title>\n",
       "<ellipse fill=\"none\" stroke=\"black\" cx=\"2130.36\" cy=\"-1638\" rx=\"81.49\" ry=\"18\"/>\n",
       "<text text-anchor=\"middle\" x=\"2130.36\" y=\"-1634.3\" font-family=\"Times,serif\" font-size=\"14.00\">lead_time&lt;217</text>\n",
       "</g>\n",
       "<!-- 9&#45;&gt;17 -->\n",
       "<g id=\"edge9\" class=\"edge\">\n",
       "<title>9&#45;&gt;17</title>\n",
       "<path fill=\"none\" stroke=\"#ff0000\" d=\"M1797.83,-1562.33C1871.7,-1579.19 1989.64,-1606.11 2063.13,-1622.88\"/>\n",
       "<polygon fill=\"#ff0000\" stroke=\"#ff0000\" points=\"2062.66,-1626.37 2073.19,-1625.18 2064.22,-1619.54 2062.66,-1626.37\"/>\n",
       "<text text-anchor=\"middle\" x=\"1916.68\" y=\"-1600.8\" font-family=\"Times,serif\" font-size=\"14.00\">yes</text>\n",
       "</g>\n",
       "<!-- 18 -->\n",
       "<g id=\"node11\" class=\"node\">\n",
       "<title>18</title>\n",
       "<ellipse fill=\"none\" stroke=\"black\" cx=\"2130.36\" cy=\"-1547\" rx=\"69.59\" ry=\"18\"/>\n",
       "<text text-anchor=\"middle\" x=\"2130.36\" y=\"-1543.3\" font-family=\"Times,serif\" font-size=\"14.00\">lead_time&lt;8</text>\n",
       "</g>\n",
       "<!-- 9&#45;&gt;18 -->\n",
       "<g id=\"edge10\" class=\"edge\">\n",
       "<title>9&#45;&gt;18</title>\n",
       "<path fill=\"none\" stroke=\"#0000ff\" d=\"M1857.89,-1547C1921.19,-1547 1995.69,-1547 2050.62,-1547\"/>\n",
       "<polygon fill=\"#0000ff\" stroke=\"#0000ff\" points=\"2050.64,-1550.5 2060.64,-1547 2050.64,-1543.5 2050.64,-1550.5\"/>\n",
       "<text text-anchor=\"middle\" x=\"1916.68\" y=\"-1550.8\" font-family=\"Times,serif\" font-size=\"14.00\">no, missing</text>\n",
       "</g>\n",
       "<!-- 19 -->\n",
       "<g id=\"node16\" class=\"node\">\n",
       "<title>19</title>\n",
       "<ellipse fill=\"none\" stroke=\"black\" cx=\"2130.36\" cy=\"-1422\" rx=\"102.08\" ry=\"18\"/>\n",
       "<text text-anchor=\"middle\" x=\"2130.36\" y=\"-1418.3\" font-family=\"Times,serif\" font-size=\"14.00\">market_segment&lt;5</text>\n",
       "</g>\n",
       "<!-- 10&#45;&gt;19 -->\n",
       "<g id=\"edge15\" class=\"edge\">\n",
       "<title>10&#45;&gt;19</title>\n",
       "<path fill=\"none\" stroke=\"#ff0000\" d=\"M1833.84,-1400.51C1892.84,-1404.8 1966.62,-1410.16 2025.7,-1414.46\"/>\n",
       "<polygon fill=\"#ff0000\" stroke=\"#ff0000\" points=\"2025.57,-1417.96 2035.8,-1415.2 2026.08,-1410.98 2025.57,-1417.96\"/>\n",
       "<text text-anchor=\"middle\" x=\"1916.68\" y=\"-1412.8\" font-family=\"Times,serif\" font-size=\"14.00\">yes</text>\n",
       "</g>\n",
       "<!-- 20 -->\n",
       "<g id=\"node17\" class=\"node\">\n",
       "<title>20</title>\n",
       "<ellipse fill=\"none\" stroke=\"black\" cx=\"2130.36\" cy=\"-1368\" rx=\"65.79\" ry=\"18\"/>\n",
       "<text text-anchor=\"middle\" x=\"2130.36\" y=\"-1364.3\" font-family=\"Times,serif\" font-size=\"14.00\">country&lt;82</text>\n",
       "</g>\n",
       "<!-- 10&#45;&gt;20 -->\n",
       "<g id=\"edge16\" class=\"edge\">\n",
       "<title>10&#45;&gt;20</title>\n",
       "<path fill=\"none\" stroke=\"#0000ff\" d=\"M1820.68,-1382.01C1838.86,-1380.09 1857.86,-1378.3 1875.68,-1377 1935.71,-1372.63 2003.9,-1370.36 2054.46,-1369.2\"/>\n",
       "<polygon fill=\"#0000ff\" stroke=\"#0000ff\" points=\"2054.72,-1372.69 2064.64,-1368.97 2054.57,-1365.69 2054.72,-1372.69\"/>\n",
       "<text text-anchor=\"middle\" x=\"1916.68\" y=\"-1380.8\" font-family=\"Times,serif\" font-size=\"14.00\">no, missing</text>\n",
       "</g>\n",
       "<!-- 33 -->\n",
       "<g id=\"node12\" class=\"node\">\n",
       "<title>33</title>\n",
       "<ellipse fill=\"none\" stroke=\"black\" cx=\"2514.84\" cy=\"-1692\" rx=\"105.88\" ry=\"18\"/>\n",
       "<text text-anchor=\"middle\" x=\"2514.84\" y=\"-1688.3\" font-family=\"Times,serif\" font-size=\"14.00\">leaf=&#45;0.0203594919</text>\n",
       "</g>\n",
       "<!-- 17&#45;&gt;33 -->\n",
       "<g id=\"edge11\" class=\"edge\">\n",
       "<title>17&#45;&gt;33</title>\n",
       "<path fill=\"none\" stroke=\"#ff0000\" d=\"M2199.3,-1647.59C2261.6,-1656.39 2354.34,-1669.48 2422.99,-1679.17\"/>\n",
       "<polygon fill=\"#ff0000\" stroke=\"#ff0000\" points=\"2422.55,-1682.65 2432.94,-1680.58 2423.52,-1675.71 2422.55,-1682.65\"/>\n",
       "<text text-anchor=\"middle\" x=\"2344.05\" y=\"-1675.8\" font-family=\"Times,serif\" font-size=\"14.00\">yes</text>\n",
       "</g>\n",
       "<!-- 34 -->\n",
       "<g id=\"node13\" class=\"node\">\n",
       "<title>34</title>\n",
       "<ellipse fill=\"none\" stroke=\"black\" cx=\"2514.84\" cy=\"-1638\" rx=\"100.18\" ry=\"18\"/>\n",
       "<text text-anchor=\"middle\" x=\"2514.84\" y=\"-1634.3\" font-family=\"Times,serif\" font-size=\"14.00\">leaf=&#45;0.345871836</text>\n",
       "</g>\n",
       "<!-- 17&#45;&gt;34 -->\n",
       "<g id=\"edge12\" class=\"edge\">\n",
       "<title>17&#45;&gt;34</title>\n",
       "<path fill=\"none\" stroke=\"#0000ff\" d=\"M2212.01,-1638C2267.96,-1638 2343.15,-1638 2404.49,-1638\"/>\n",
       "<polygon fill=\"#0000ff\" stroke=\"#0000ff\" points=\"2404.6,-1641.5 2414.6,-1638 2404.6,-1634.5 2404.6,-1641.5\"/>\n",
       "<text text-anchor=\"middle\" x=\"2344.05\" y=\"-1641.8\" font-family=\"Times,serif\" font-size=\"14.00\">no, missing</text>\n",
       "</g>\n",
       "<!-- 35 -->\n",
       "<g id=\"node14\" class=\"node\">\n",
       "<title>35</title>\n",
       "<ellipse fill=\"none\" stroke=\"black\" cx=\"2514.84\" cy=\"-1584\" rx=\"102.88\" ry=\"18\"/>\n",
       "<text text-anchor=\"middle\" x=\"2514.84\" y=\"-1580.3\" font-family=\"Times,serif\" font-size=\"14.00\">leaf=0.0627225414</text>\n",
       "</g>\n",
       "<!-- 18&#45;&gt;35 -->\n",
       "<g id=\"edge13\" class=\"edge\">\n",
       "<title>18&#45;&gt;35</title>\n",
       "<path fill=\"none\" stroke=\"#ff0000\" d=\"M2195.81,-1553.23C2255.57,-1559.02 2345.39,-1567.7 2414.35,-1574.38\"/>\n",
       "<polygon fill=\"#ff0000\" stroke=\"#ff0000\" points=\"2414.08,-1577.87 2424.37,-1575.34 2414.75,-1570.9 2414.08,-1577.87\"/>\n",
       "<text text-anchor=\"middle\" x=\"2344.05\" y=\"-1573.8\" font-family=\"Times,serif\" font-size=\"14.00\">yes</text>\n",
       "</g>\n",
       "<!-- 36 -->\n",
       "<g id=\"node15\" class=\"node\">\n",
       "<title>36</title>\n",
       "<ellipse fill=\"none\" stroke=\"black\" cx=\"2514.84\" cy=\"-1530\" rx=\"96.68\" ry=\"18\"/>\n",
       "<text text-anchor=\"middle\" x=\"2514.84\" y=\"-1526.3\" font-family=\"Times,serif\" font-size=\"14.00\">leaf=0.296752214</text>\n",
       "</g>\n",
       "<!-- 18&#45;&gt;36 -->\n",
       "<g id=\"edge14\" class=\"edge\">\n",
       "<title>18&#45;&gt;36</title>\n",
       "<path fill=\"none\" stroke=\"#0000ff\" d=\"M2199.3,-1543.98C2257.8,-1541.38 2343.13,-1537.59 2410.16,-1534.61\"/>\n",
       "<polygon fill=\"#0000ff\" stroke=\"#0000ff\" points=\"2410.5,-1538.1 2420.33,-1534.16 2410.19,-1531.1 2410.5,-1538.1\"/>\n",
       "<text text-anchor=\"middle\" x=\"2344.05\" y=\"-1542.8\" font-family=\"Times,serif\" font-size=\"14.00\">no, missing</text>\n",
       "</g>\n",
       "<!-- 37 -->\n",
       "<g id=\"node18\" class=\"node\">\n",
       "<title>37</title>\n",
       "<ellipse fill=\"none\" stroke=\"black\" cx=\"2514.84\" cy=\"-1476\" rx=\"100.18\" ry=\"18\"/>\n",
       "<text text-anchor=\"middle\" x=\"2514.84\" y=\"-1472.3\" font-family=\"Times,serif\" font-size=\"14.00\">leaf=&#45;0.297742844</text>\n",
       "</g>\n",
       "<!-- 19&#45;&gt;37 -->\n",
       "<g id=\"edge17\" class=\"edge\">\n",
       "<title>19&#45;&gt;37</title>\n",
       "<path fill=\"none\" stroke=\"#ff0000\" d=\"M2210.61,-1433.19C2273.23,-1442.03 2360.59,-1454.36 2425.46,-1463.52\"/>\n",
       "<polygon fill=\"#ff0000\" stroke=\"#ff0000\" points=\"2425.28,-1467.03 2435.67,-1464.96 2426.26,-1460.1 2425.28,-1467.03\"/>\n",
       "<text text-anchor=\"middle\" x=\"2344.05\" y=\"-1459.8\" font-family=\"Times,serif\" font-size=\"14.00\">yes</text>\n",
       "</g>\n",
       "<!-- 38 -->\n",
       "<g id=\"node19\" class=\"node\">\n",
       "<title>38</title>\n",
       "<ellipse fill=\"none\" stroke=\"black\" cx=\"2514.84\" cy=\"-1422\" rx=\"96.68\" ry=\"18\"/>\n",
       "<text text-anchor=\"middle\" x=\"2514.84\" y=\"-1418.3\" font-family=\"Times,serif\" font-size=\"14.00\">leaf=0.149561256</text>\n",
       "</g>\n",
       "<!-- 19&#45;&gt;38 -->\n",
       "<g id=\"edge18\" class=\"edge\">\n",
       "<title>19&#45;&gt;38</title>\n",
       "<path fill=\"none\" stroke=\"#0000ff\" d=\"M2232.61,-1422C2286.57,-1422 2352.91,-1422 2407.61,-1422\"/>\n",
       "<polygon fill=\"#0000ff\" stroke=\"#0000ff\" points=\"2407.68,-1425.5 2417.68,-1422 2407.68,-1418.5 2407.68,-1425.5\"/>\n",
       "<text text-anchor=\"middle\" x=\"2344.05\" y=\"-1425.8\" font-family=\"Times,serif\" font-size=\"14.00\">no, missing</text>\n",
       "</g>\n",
       "<!-- 39 -->\n",
       "<g id=\"node20\" class=\"node\">\n",
       "<title>39</title>\n",
       "<ellipse fill=\"none\" stroke=\"black\" cx=\"2514.84\" cy=\"-1368\" rx=\"100.18\" ry=\"18\"/>\n",
       "<text text-anchor=\"middle\" x=\"2514.84\" y=\"-1364.3\" font-family=\"Times,serif\" font-size=\"14.00\">leaf=&#45;0.122006997</text>\n",
       "</g>\n",
       "<!-- 20&#45;&gt;39 -->\n",
       "<g id=\"edge19\" class=\"edge\">\n",
       "<title>20&#45;&gt;39</title>\n",
       "<path fill=\"none\" stroke=\"#ff0000\" d=\"M2196.25,-1368C2253.11,-1368 2336.95,-1368 2404.21,-1368\"/>\n",
       "<polygon fill=\"#ff0000\" stroke=\"#ff0000\" points=\"2404.43,-1371.5 2414.43,-1368 2404.43,-1364.5 2404.43,-1371.5\"/>\n",
       "<text text-anchor=\"middle\" x=\"2344.05\" y=\"-1371.8\" font-family=\"Times,serif\" font-size=\"14.00\">yes</text>\n",
       "</g>\n",
       "<!-- 40 -->\n",
       "<g id=\"node21\" class=\"node\">\n",
       "<title>40</title>\n",
       "<ellipse fill=\"none\" stroke=\"black\" cx=\"2514.84\" cy=\"-1314\" rx=\"100.18\" ry=\"18\"/>\n",
       "<text text-anchor=\"middle\" x=\"2514.84\" y=\"-1310.3\" font-family=\"Times,serif\" font-size=\"14.00\">leaf=&#45;0.455823421</text>\n",
       "</g>\n",
       "<!-- 20&#45;&gt;40 -->\n",
       "<g id=\"edge20\" class=\"edge\">\n",
       "<title>20&#45;&gt;40</title>\n",
       "<path fill=\"none\" stroke=\"#0000ff\" d=\"M2189.04,-1359.86C2251.72,-1351.01 2352.65,-1336.76 2425.37,-1326.49\"/>\n",
       "<polygon fill=\"#0000ff\" stroke=\"#0000ff\" points=\"2426.02,-1329.93 2435.43,-1325.07 2425.04,-1323 2426.02,-1329.93\"/>\n",
       "<text text-anchor=\"middle\" x=\"2344.05\" y=\"-1345.8\" font-family=\"Times,serif\" font-size=\"14.00\">no, missing</text>\n",
       "</g>\n",
       "<!-- 21 -->\n",
       "<g id=\"node24\" class=\"node\">\n",
       "<title>21</title>\n",
       "<ellipse fill=\"none\" stroke=\"black\" cx=\"2130.36\" cy=\"-1206\" rx=\"108.58\" ry=\"18\"/>\n",
       "<text text-anchor=\"middle\" x=\"2130.36\" y=\"-1202.3\" font-family=\"Times,serif\" font-size=\"14.00\">is_repeated_guest&lt;1</text>\n",
       "</g>\n",
       "<!-- 11&#45;&gt;21 -->\n",
       "<g id=\"edge23\" class=\"edge\">\n",
       "<title>11&#45;&gt;21</title>\n",
       "<path fill=\"none\" stroke=\"#ff0000\" d=\"M1789.47,-1128.43C1860.17,-1144.56 1978.83,-1171.64 2055.59,-1189.16\"/>\n",
       "<polygon fill=\"#ff0000\" stroke=\"#ff0000\" points=\"2055.14,-1192.65 2065.67,-1191.46 2056.7,-1185.83 2055.14,-1192.65\"/>\n",
       "<text text-anchor=\"middle\" x=\"1916.68\" y=\"-1168.8\" font-family=\"Times,serif\" font-size=\"14.00\">yes</text>\n",
       "</g>\n",
       "<!-- 22 -->\n",
       "<g id=\"node25\" class=\"node\">\n",
       "<title>22</title>\n",
       "<ellipse fill=\"none\" stroke=\"black\" cx=\"2130.36\" cy=\"-1115\" rx=\"154.87\" ry=\"18\"/>\n",
       "<text text-anchor=\"middle\" x=\"2130.36\" y=\"-1111.3\" font-family=\"Times,serif\" font-size=\"14.00\">arrival_date_week_number&lt;32</text>\n",
       "</g>\n",
       "<!-- 11&#45;&gt;22 -->\n",
       "<g id=\"edge24\" class=\"edge\">\n",
       "<title>11&#45;&gt;22</title>\n",
       "<path fill=\"none\" stroke=\"#0000ff\" d=\"M1819.62,-1115C1862.57,-1115 1915.49,-1115 1965.36,-1115\"/>\n",
       "<polygon fill=\"#0000ff\" stroke=\"#0000ff\" points=\"1965.62,-1118.5 1975.62,-1115 1965.62,-1111.5 1965.62,-1118.5\"/>\n",
       "<text text-anchor=\"middle\" x=\"1916.68\" y=\"-1118.8\" font-family=\"Times,serif\" font-size=\"14.00\">no, missing</text>\n",
       "</g>\n",
       "<!-- 23 -->\n",
       "<g id=\"node30\" class=\"node\">\n",
       "<title>23</title>\n",
       "<ellipse fill=\"none\" stroke=\"black\" cx=\"2130.36\" cy=\"-999\" rx=\"110.48\" ry=\"18\"/>\n",
       "<text text-anchor=\"middle\" x=\"2130.36\" y=\"-995.3\" font-family=\"Times,serif\" font-size=\"14.00\">arrival_date_year&lt;24</text>\n",
       "</g>\n",
       "<!-- 12&#45;&gt;23 -->\n",
       "<g id=\"edge29\" class=\"edge\">\n",
       "<title>12&#45;&gt;23</title>\n",
       "<path fill=\"none\" stroke=\"#ff0000\" d=\"M1786.5,-999C1844.02,-999 1935.44,-999 2009.42,-999\"/>\n",
       "<polygon fill=\"#ff0000\" stroke=\"#ff0000\" points=\"2009.74,-1002.5 2019.74,-999 2009.74,-995.5 2009.74,-1002.5\"/>\n",
       "<text text-anchor=\"middle\" x=\"1916.68\" y=\"-1002.8\" font-family=\"Times,serif\" font-size=\"14.00\">yes</text>\n",
       "</g>\n",
       "<!-- 24 -->\n",
       "<g id=\"node31\" class=\"node\">\n",
       "<title>24</title>\n",
       "<ellipse fill=\"none\" stroke=\"black\" cx=\"2130.36\" cy=\"-936\" rx=\"56.59\" ry=\"18\"/>\n",
       "<text text-anchor=\"middle\" x=\"2130.36\" y=\"-932.3\" font-family=\"Times,serif\" font-size=\"14.00\">agent&lt;12</text>\n",
       "</g>\n",
       "<!-- 12&#45;&gt;24 -->\n",
       "<g id=\"edge30\" class=\"edge\">\n",
       "<title>12&#45;&gt;24</title>\n",
       "<path fill=\"none\" stroke=\"#0000ff\" d=\"M1780.73,-991.08C1854.1,-979.49 1990.56,-957.93 2069.24,-945.5\"/>\n",
       "<polygon fill=\"#0000ff\" stroke=\"#0000ff\" points=\"2070.14,-948.9 2079.47,-943.88 2069.05,-941.99 2070.14,-948.9\"/>\n",
       "<text text-anchor=\"middle\" x=\"1916.68\" y=\"-977.8\" font-family=\"Times,serif\" font-size=\"14.00\">no, missing</text>\n",
       "</g>\n",
       "<!-- 41 -->\n",
       "<g id=\"node26\" class=\"node\">\n",
       "<title>41</title>\n",
       "<ellipse fill=\"none\" stroke=\"black\" cx=\"2514.84\" cy=\"-1260\" rx=\"96.68\" ry=\"18\"/>\n",
       "<text text-anchor=\"middle\" x=\"2514.84\" y=\"-1256.3\" font-family=\"Times,serif\" font-size=\"14.00\">leaf=0.754446685</text>\n",
       "</g>\n",
       "<!-- 21&#45;&gt;41 -->\n",
       "<g id=\"edge25\" class=\"edge\">\n",
       "<title>21&#45;&gt;41</title>\n",
       "<path fill=\"none\" stroke=\"#ff0000\" d=\"M2213.88,-1217.65C2276.84,-1226.54 2363.33,-1238.75 2427.26,-1247.78\"/>\n",
       "<polygon fill=\"#ff0000\" stroke=\"#ff0000\" points=\"2426.93,-1251.26 2437.32,-1249.2 2427.91,-1244.33 2426.93,-1251.26\"/>\n",
       "<text text-anchor=\"middle\" x=\"2344.05\" y=\"-1243.8\" font-family=\"Times,serif\" font-size=\"14.00\">yes</text>\n",
       "</g>\n",
       "<!-- 42 -->\n",
       "<g id=\"node27\" class=\"node\">\n",
       "<title>42</title>\n",
       "<ellipse fill=\"none\" stroke=\"black\" cx=\"2514.84\" cy=\"-1206\" rx=\"94.48\" ry=\"18\"/>\n",
       "<text text-anchor=\"middle\" x=\"2514.84\" y=\"-1202.3\" font-family=\"Times,serif\" font-size=\"14.00\">leaf=&#45;0.32349208</text>\n",
       "</g>\n",
       "<!-- 21&#45;&gt;42 -->\n",
       "<g id=\"edge26\" class=\"edge\">\n",
       "<title>21&#45;&gt;42</title>\n",
       "<path fill=\"none\" stroke=\"#0000ff\" d=\"M2238.92,-1206C2292.58,-1206 2357.19,-1206 2410.28,-1206\"/>\n",
       "<polygon fill=\"#0000ff\" stroke=\"#0000ff\" points=\"2410.4,-1209.5 2420.4,-1206 2410.4,-1202.5 2410.4,-1209.5\"/>\n",
       "<text text-anchor=\"middle\" x=\"2344.05\" y=\"-1209.8\" font-family=\"Times,serif\" font-size=\"14.00\">no, missing</text>\n",
       "</g>\n",
       "<!-- 43 -->\n",
       "<g id=\"node28\" class=\"node\">\n",
       "<title>43</title>\n",
       "<ellipse fill=\"none\" stroke=\"black\" cx=\"2514.84\" cy=\"-1152\" rx=\"100.18\" ry=\"18\"/>\n",
       "<text text-anchor=\"middle\" x=\"2514.84\" y=\"-1148.3\" font-family=\"Times,serif\" font-size=\"14.00\">leaf=&#45;0.169603541</text>\n",
       "</g>\n",
       "<!-- 22&#45;&gt;43 -->\n",
       "<g id=\"edge27\" class=\"edge\">\n",
       "<title>22&#45;&gt;43</title>\n",
       "<path fill=\"none\" stroke=\"#ff0000\" d=\"M2249.76,-1126.45C2303.24,-1131.63 2365.65,-1137.66 2416.37,-1142.57\"/>\n",
       "<polygon fill=\"#ff0000\" stroke=\"#ff0000\" points=\"2416.06,-1146.06 2426.35,-1143.54 2416.73,-1139.09 2416.06,-1146.06\"/>\n",
       "<text text-anchor=\"middle\" x=\"2344.05\" y=\"-1141.8\" font-family=\"Times,serif\" font-size=\"14.00\">yes</text>\n",
       "</g>\n",
       "<!-- 44 -->\n",
       "<g id=\"node29\" class=\"node\">\n",
       "<title>44</title>\n",
       "<ellipse fill=\"none\" stroke=\"black\" cx=\"2514.84\" cy=\"-1098\" rx=\"111.58\" ry=\"18\"/>\n",
       "<text text-anchor=\"middle\" x=\"2514.84\" y=\"-1094.3\" font-family=\"Times,serif\" font-size=\"14.00\">leaf=&#45;0.00875191856</text>\n",
       "</g>\n",
       "<!-- 22&#45;&gt;44 -->\n",
       "<g id=\"edge28\" class=\"edge\">\n",
       "<title>22&#45;&gt;44</title>\n",
       "<path fill=\"none\" stroke=\"#0000ff\" d=\"M2275.14,-1108.61C2315.21,-1106.83 2358.24,-1104.92 2396.58,-1103.21\"/>\n",
       "<polygon fill=\"#0000ff\" stroke=\"#0000ff\" points=\"2396.9,-1106.7 2406.74,-1102.76 2396.59,-1099.71 2396.9,-1106.7\"/>\n",
       "<text text-anchor=\"middle\" x=\"2344.05\" y=\"-1110.8\" font-family=\"Times,serif\" font-size=\"14.00\">no, missing</text>\n",
       "</g>\n",
       "<!-- 45 -->\n",
       "<g id=\"node32\" class=\"node\">\n",
       "<title>45</title>\n",
       "<ellipse fill=\"none\" stroke=\"black\" cx=\"2514.84\" cy=\"-1044\" rx=\"96.68\" ry=\"18\"/>\n",
       "<text text-anchor=\"middle\" x=\"2514.84\" y=\"-1040.3\" font-family=\"Times,serif\" font-size=\"14.00\">leaf=0.101119116</text>\n",
       "</g>\n",
       "<!-- 23&#45;&gt;45 -->\n",
       "<g id=\"edge31\" class=\"edge\">\n",
       "<title>23&#45;&gt;45</title>\n",
       "<path fill=\"none\" stroke=\"#ff0000\" d=\"M2220.55,-1009.49C2281.3,-1016.64 2361.47,-1026.07 2422.63,-1033.27\"/>\n",
       "<polygon fill=\"#ff0000\" stroke=\"#ff0000\" points=\"2422.33,-1036.76 2432.67,-1034.45 2423.14,-1029.8 2422.33,-1036.76\"/>\n",
       "<text text-anchor=\"middle\" x=\"2344.05\" y=\"-1031.8\" font-family=\"Times,serif\" font-size=\"14.00\">yes</text>\n",
       "</g>\n",
       "<!-- 46 -->\n",
       "<g id=\"node33\" class=\"node\">\n",
       "<title>46</title>\n",
       "<ellipse fill=\"none\" stroke=\"black\" cx=\"2514.84\" cy=\"-990\" rx=\"108.58\" ry=\"18\"/>\n",
       "<text text-anchor=\"middle\" x=\"2514.84\" y=\"-986.3\" font-family=\"Times,serif\" font-size=\"14.00\">leaf=0.00340807089</text>\n",
       "</g>\n",
       "<!-- 23&#45;&gt;46 -->\n",
       "<g id=\"edge32\" class=\"edge\">\n",
       "<title>23&#45;&gt;46</title>\n",
       "<path fill=\"none\" stroke=\"#0000ff\" d=\"M2239.94,-996.45C2289.01,-995.29 2347.08,-993.92 2397.09,-992.75\"/>\n",
       "<polygon fill=\"#0000ff\" stroke=\"#0000ff\" points=\"2397.39,-996.24 2407.3,-992.51 2397.22,-989.24 2397.39,-996.24\"/>\n",
       "<text text-anchor=\"middle\" x=\"2344.05\" y=\"-997.8\" font-family=\"Times,serif\" font-size=\"14.00\">no, missing</text>\n",
       "</g>\n",
       "<!-- 47 -->\n",
       "<g id=\"node34\" class=\"node\">\n",
       "<title>47</title>\n",
       "<ellipse fill=\"none\" stroke=\"black\" cx=\"2514.84\" cy=\"-936\" rx=\"100.18\" ry=\"18\"/>\n",
       "<text text-anchor=\"middle\" x=\"2514.84\" y=\"-932.3\" font-family=\"Times,serif\" font-size=\"14.00\">leaf=&#45;0.403091967</text>\n",
       "</g>\n",
       "<!-- 24&#45;&gt;47 -->\n",
       "<g id=\"edge33\" class=\"edge\">\n",
       "<title>24&#45;&gt;47</title>\n",
       "<path fill=\"none\" stroke=\"#ff0000\" d=\"M2186.98,-936C2243.65,-936 2333.07,-936 2404.06,-936\"/>\n",
       "<polygon fill=\"#ff0000\" stroke=\"#ff0000\" points=\"2404.4,-939.5 2414.4,-936 2404.4,-932.5 2404.4,-939.5\"/>\n",
       "<text text-anchor=\"middle\" x=\"2344.05\" y=\"-939.8\" font-family=\"Times,serif\" font-size=\"14.00\">yes</text>\n",
       "</g>\n",
       "<!-- 48 -->\n",
       "<g id=\"node35\" class=\"node\">\n",
       "<title>48</title>\n",
       "<ellipse fill=\"none\" stroke=\"black\" cx=\"2514.84\" cy=\"-882\" rx=\"102.88\" ry=\"18\"/>\n",
       "<text text-anchor=\"middle\" x=\"2514.84\" y=\"-878.3\" font-family=\"Times,serif\" font-size=\"14.00\">leaf=0.0193036236</text>\n",
       "</g>\n",
       "<!-- 24&#45;&gt;48 -->\n",
       "<g id=\"edge34\" class=\"edge\">\n",
       "<title>24&#45;&gt;48</title>\n",
       "<path fill=\"none\" stroke=\"#0000ff\" d=\"M2182.55,-928.77C2244.3,-920.05 2349.19,-905.25 2424.41,-894.63\"/>\n",
       "<polygon fill=\"#0000ff\" stroke=\"#0000ff\" points=\"2424.95,-898.09 2434.36,-893.22 2423.97,-891.15 2424.95,-898.09\"/>\n",
       "<text text-anchor=\"middle\" x=\"2344.05\" y=\"-913.8\" font-family=\"Times,serif\" font-size=\"14.00\">no, missing</text>\n",
       "</g>\n",
       "<!-- 13 -->\n",
       "<g id=\"node38\" class=\"node\">\n",
       "<title>13</title>\n",
       "<ellipse fill=\"none\" stroke=\"black\" cx=\"1729.64\" cy=\"-683\" rx=\"71.49\" ry=\"18\"/>\n",
       "<text text-anchor=\"middle\" x=\"1729.64\" y=\"-679.3\" font-family=\"Times,serif\" font-size=\"14.00\">country&lt;134</text>\n",
       "</g>\n",
       "<!-- 7&#45;&gt;13 -->\n",
       "<g id=\"edge37\" class=\"edge\">\n",
       "<title>7&#45;&gt;13</title>\n",
       "<path fill=\"none\" stroke=\"#ff0000\" d=\"M1422.39,-635.38C1494.24,-646.55 1592.37,-661.81 1658,-672.02\"/>\n",
       "<polygon fill=\"#ff0000\" stroke=\"#ff0000\" points=\"1657.82,-675.53 1668.24,-673.61 1658.9,-668.61 1657.82,-675.53\"/>\n",
       "<text text-anchor=\"middle\" x=\"1542.6\" y=\"-663.8\" font-family=\"Times,serif\" font-size=\"14.00\">yes</text>\n",
       "</g>\n",
       "<!-- 14 -->\n",
       "<g id=\"node39\" class=\"node\">\n",
       "<title>14</title>\n",
       "<ellipse fill=\"none\" stroke=\"black\" cx=\"1729.64\" cy=\"-567\" rx=\"71.49\" ry=\"18\"/>\n",
       "<text text-anchor=\"middle\" x=\"1729.64\" y=\"-563.3\" font-family=\"Times,serif\" font-size=\"14.00\">country&lt;136</text>\n",
       "</g>\n",
       "<!-- 7&#45;&gt;14 -->\n",
       "<g id=\"edge38\" class=\"edge\">\n",
       "<title>7&#45;&gt;14</title>\n",
       "<path fill=\"none\" stroke=\"#0000ff\" d=\"M1430.53,-607.37C1500.79,-597.86 1592.94,-585.38 1656.08,-576.83\"/>\n",
       "<polygon fill=\"#0000ff\" stroke=\"#0000ff\" points=\"1656.9,-580.25 1666.34,-575.44 1655.97,-573.31 1656.9,-580.25\"/>\n",
       "<text text-anchor=\"middle\" x=\"1542.6\" y=\"-601.8\" font-family=\"Times,serif\" font-size=\"14.00\">no, missing</text>\n",
       "</g>\n",
       "<!-- 15 -->\n",
       "<g id=\"node52\" class=\"node\">\n",
       "<title>15</title>\n",
       "<ellipse fill=\"none\" stroke=\"black\" cx=\"1729.64\" cy=\"-313\" rx=\"92.88\" ry=\"18\"/>\n",
       "<text text-anchor=\"middle\" x=\"1729.64\" y=\"-309.3\" font-family=\"Times,serif\" font-size=\"14.00\">customer_type&lt;3</text>\n",
       "</g>\n",
       "<!-- 8&#45;&gt;15 -->\n",
       "<g id=\"edge51\" class=\"edge\">\n",
       "<title>8&#45;&gt;15</title>\n",
       "<path fill=\"none\" stroke=\"#ff0000\" d=\"M1469.37,-313C1521.05,-313 1578.65,-313 1626.41,-313\"/>\n",
       "<polygon fill=\"#ff0000\" stroke=\"#ff0000\" points=\"1626.45,-316.5 1636.45,-313 1626.45,-309.5 1626.45,-316.5\"/>\n",
       "<text text-anchor=\"middle\" x=\"1542.6\" y=\"-316.8\" font-family=\"Times,serif\" font-size=\"14.00\">yes</text>\n",
       "</g>\n",
       "<!-- 16 -->\n",
       "<g id=\"node53\" class=\"node\">\n",
       "<title>16</title>\n",
       "<ellipse fill=\"none\" stroke=\"black\" cx=\"1729.64\" cy=\"-163\" rx=\"65.79\" ry=\"18\"/>\n",
       "<text text-anchor=\"middle\" x=\"1729.64\" y=\"-159.3\" font-family=\"Times,serif\" font-size=\"14.00\">country&lt;43</text>\n",
       "</g>\n",
       "<!-- 8&#45;&gt;16 -->\n",
       "<g id=\"edge52\" class=\"edge\">\n",
       "<title>8&#45;&gt;16</title>\n",
       "<path fill=\"none\" stroke=\"#0000ff\" d=\"M1375.26,-295.94C1451.11,-267.4 1603.01,-210.26 1680.61,-181.07\"/>\n",
       "<polygon fill=\"#0000ff\" stroke=\"#0000ff\" points=\"1682.02,-184.28 1690.15,-177.48 1679.55,-177.73 1682.02,-184.28\"/>\n",
       "<text text-anchor=\"middle\" x=\"1542.6\" y=\"-250.8\" font-family=\"Times,serif\" font-size=\"14.00\">no, missing</text>\n",
       "</g>\n",
       "<!-- 25 -->\n",
       "<g id=\"node40\" class=\"node\">\n",
       "<title>25</title>\n",
       "<ellipse fill=\"none\" stroke=\"black\" cx=\"2130.36\" cy=\"-774\" rx=\"56.59\" ry=\"18\"/>\n",
       "<text text-anchor=\"middle\" x=\"2130.36\" y=\"-770.3\" font-family=\"Times,serif\" font-size=\"14.00\">agent&lt;15</text>\n",
       "</g>\n",
       "<!-- 13&#45;&gt;25 -->\n",
       "<g id=\"edge39\" class=\"edge\">\n",
       "<title>13&#45;&gt;25</title>\n",
       "<path fill=\"none\" stroke=\"#ff0000\" d=\"M1783.17,-694.99C1858.56,-712.2 1996.8,-743.75 2073.82,-761.32\"/>\n",
       "<polygon fill=\"#ff0000\" stroke=\"#ff0000\" points=\"2073.28,-764.79 2083.81,-763.6 2074.84,-757.97 2073.28,-764.79\"/>\n",
       "<text text-anchor=\"middle\" x=\"1916.68\" y=\"-737.8\" font-family=\"Times,serif\" font-size=\"14.00\">yes</text>\n",
       "</g>\n",
       "<!-- 26 -->\n",
       "<g id=\"node41\" class=\"node\">\n",
       "<title>26</title>\n",
       "<ellipse fill=\"none\" stroke=\"black\" cx=\"2130.36\" cy=\"-683\" rx=\"56.59\" ry=\"18\"/>\n",
       "<text text-anchor=\"middle\" x=\"2130.36\" y=\"-679.3\" font-family=\"Times,serif\" font-size=\"14.00\">agent&lt;28</text>\n",
       "</g>\n",
       "<!-- 13&#45;&gt;26 -->\n",
       "<g id=\"edge40\" class=\"edge\">\n",
       "<title>13&#45;&gt;26</title>\n",
       "<path fill=\"none\" stroke=\"#0000ff\" d=\"M1801.46,-683C1875.58,-683 1991.03,-683 2063.31,-683\"/>\n",
       "<polygon fill=\"#0000ff\" stroke=\"#0000ff\" points=\"2063.65,-686.5 2073.65,-683 2063.65,-679.5 2063.65,-686.5\"/>\n",
       "<text text-anchor=\"middle\" x=\"1916.68\" y=\"-686.8\" font-family=\"Times,serif\" font-size=\"14.00\">no, missing</text>\n",
       "</g>\n",
       "<!-- 27 -->\n",
       "<g id=\"node46\" class=\"node\">\n",
       "<title>27</title>\n",
       "<ellipse fill=\"none\" stroke=\"black\" cx=\"2130.36\" cy=\"-567\" rx=\"69.59\" ry=\"18\"/>\n",
       "<text text-anchor=\"middle\" x=\"2130.36\" y=\"-563.3\" font-family=\"Times,serif\" font-size=\"14.00\">lead_time&lt;4</text>\n",
       "</g>\n",
       "<!-- 14&#45;&gt;27 -->\n",
       "<g id=\"edge45\" class=\"edge\">\n",
       "<title>14&#45;&gt;27</title>\n",
       "<path fill=\"none\" stroke=\"#ff0000\" d=\"M1801.46,-567C1871.35,-567 1977.98,-567 2050.53,-567\"/>\n",
       "<polygon fill=\"#ff0000\" stroke=\"#ff0000\" points=\"2050.53,-570.5 2060.53,-567 2050.53,-563.5 2050.53,-570.5\"/>\n",
       "<text text-anchor=\"middle\" x=\"1916.68\" y=\"-570.8\" font-family=\"Times,serif\" font-size=\"14.00\">yes</text>\n",
       "</g>\n",
       "<!-- 28 -->\n",
       "<g id=\"node47\" class=\"node\">\n",
       "<title>28</title>\n",
       "<ellipse fill=\"none\" stroke=\"black\" cx=\"2130.36\" cy=\"-504\" rx=\"110.48\" ry=\"18\"/>\n",
       "<text text-anchor=\"middle\" x=\"2130.36\" y=\"-500.3\" font-family=\"Times,serif\" font-size=\"14.00\">arrival_date_year&lt;12</text>\n",
       "</g>\n",
       "<!-- 14&#45;&gt;28 -->\n",
       "<g id=\"edge46\" class=\"edge\">\n",
       "<title>14&#45;&gt;28</title>\n",
       "<path fill=\"none\" stroke=\"#0000ff\" d=\"M1790.76,-557.5C1857.08,-547.02 1964.44,-530.06 2040.48,-518.04\"/>\n",
       "<polygon fill=\"#0000ff\" stroke=\"#0000ff\" points=\"2041.19,-521.48 2050.52,-516.46 2040.1,-514.56 2041.19,-521.48\"/>\n",
       "<text text-anchor=\"middle\" x=\"1916.68\" y=\"-546.8\" font-family=\"Times,serif\" font-size=\"14.00\">no, missing</text>\n",
       "</g>\n",
       "<!-- 49 -->\n",
       "<g id=\"node42\" class=\"node\">\n",
       "<title>49</title>\n",
       "<ellipse fill=\"none\" stroke=\"black\" cx=\"2514.84\" cy=\"-828\" rx=\"100.18\" ry=\"18\"/>\n",
       "<text text-anchor=\"middle\" x=\"2514.84\" y=\"-824.3\" font-family=\"Times,serif\" font-size=\"14.00\">leaf=&#45;0.122763284</text>\n",
       "</g>\n",
       "<!-- 25&#45;&gt;49 -->\n",
       "<g id=\"edge41\" class=\"edge\">\n",
       "<title>25&#45;&gt;49</title>\n",
       "<path fill=\"none\" stroke=\"#ff0000\" d=\"M2182.55,-781.23C2244.6,-789.99 2350.18,-804.89 2425.48,-815.52\"/>\n",
       "<polygon fill=\"#ff0000\" stroke=\"#ff0000\" points=\"2425.04,-819 2435.43,-816.93 2426.02,-812.07 2425.04,-819\"/>\n",
       "<text text-anchor=\"middle\" x=\"2344.05\" y=\"-812.8\" font-family=\"Times,serif\" font-size=\"14.00\">yes</text>\n",
       "</g>\n",
       "<!-- 50 -->\n",
       "<g id=\"node43\" class=\"node\">\n",
       "<title>50</title>\n",
       "<ellipse fill=\"none\" stroke=\"black\" cx=\"2514.84\" cy=\"-774\" rx=\"100.18\" ry=\"18\"/>\n",
       "<text text-anchor=\"middle\" x=\"2514.84\" y=\"-770.3\" font-family=\"Times,serif\" font-size=\"14.00\">leaf=&#45;0.311952978</text>\n",
       "</g>\n",
       "<!-- 25&#45;&gt;50 -->\n",
       "<g id=\"edge42\" class=\"edge\">\n",
       "<title>25&#45;&gt;50</title>\n",
       "<path fill=\"none\" stroke=\"#0000ff\" d=\"M2186.98,-774C2243.65,-774 2333.07,-774 2404.06,-774\"/>\n",
       "<polygon fill=\"#0000ff\" stroke=\"#0000ff\" points=\"2404.4,-777.5 2414.4,-774 2404.4,-770.5 2404.4,-777.5\"/>\n",
       "<text text-anchor=\"middle\" x=\"2344.05\" y=\"-777.8\" font-family=\"Times,serif\" font-size=\"14.00\">no, missing</text>\n",
       "</g>\n",
       "<!-- 51 -->\n",
       "<g id=\"node44\" class=\"node\">\n",
       "<title>51</title>\n",
       "<ellipse fill=\"none\" stroke=\"black\" cx=\"2514.84\" cy=\"-720\" rx=\"100.18\" ry=\"18\"/>\n",
       "<text text-anchor=\"middle\" x=\"2514.84\" y=\"-716.3\" font-family=\"Times,serif\" font-size=\"14.00\">leaf=&#45;0.120431952</text>\n",
       "</g>\n",
       "<!-- 26&#45;&gt;51 -->\n",
       "<g id=\"edge43\" class=\"edge\">\n",
       "<title>26&#45;&gt;51</title>\n",
       "<path fill=\"none\" stroke=\"#ff0000\" d=\"M2184.95,-688.18C2244.74,-693.97 2342.72,-703.45 2416.21,-710.56\"/>\n",
       "<polygon fill=\"#ff0000\" stroke=\"#ff0000\" points=\"2416.12,-714.06 2426.41,-711.54 2416.8,-707.1 2416.12,-714.06\"/>\n",
       "<text text-anchor=\"middle\" x=\"2344.05\" y=\"-710.8\" font-family=\"Times,serif\" font-size=\"14.00\">yes</text>\n",
       "</g>\n",
       "<!-- 52 -->\n",
       "<g id=\"node45\" class=\"node\">\n",
       "<title>52</title>\n",
       "<ellipse fill=\"none\" stroke=\"black\" cx=\"2514.84\" cy=\"-666\" rx=\"102.88\" ry=\"18\"/>\n",
       "<text text-anchor=\"middle\" x=\"2514.84\" y=\"-662.3\" font-family=\"Times,serif\" font-size=\"14.00\">leaf=0.0648512989</text>\n",
       "</g>\n",
       "<!-- 26&#45;&gt;52 -->\n",
       "<g id=\"edge44\" class=\"edge\">\n",
       "<title>26&#45;&gt;52</title>\n",
       "<path fill=\"none\" stroke=\"#0000ff\" d=\"M2186.57,-680.55C2243.36,-678.02 2333.32,-674.02 2404.57,-670.86\"/>\n",
       "<polygon fill=\"#0000ff\" stroke=\"#0000ff\" points=\"2405.1,-674.34 2414.94,-670.4 2404.79,-667.34 2405.1,-674.34\"/>\n",
       "<text text-anchor=\"middle\" x=\"2344.05\" y=\"-679.8\" font-family=\"Times,serif\" font-size=\"14.00\">no, missing</text>\n",
       "</g>\n",
       "<!-- 53 -->\n",
       "<g id=\"node48\" class=\"node\">\n",
       "<title>53</title>\n",
       "<ellipse fill=\"none\" stroke=\"black\" cx=\"2514.84\" cy=\"-612\" rx=\"100.18\" ry=\"18\"/>\n",
       "<text text-anchor=\"middle\" x=\"2514.84\" y=\"-608.3\" font-family=\"Times,serif\" font-size=\"14.00\">leaf=&#45;0.138876811</text>\n",
       "</g>\n",
       "<!-- 27&#45;&gt;53 -->\n",
       "<g id=\"edge47\" class=\"edge\">\n",
       "<title>27&#45;&gt;53</title>\n",
       "<path fill=\"none\" stroke=\"#ff0000\" d=\"M2194.09,-574.38C2255.6,-581.62 2350.12,-592.74 2420.46,-601.01\"/>\n",
       "<polygon fill=\"#ff0000\" stroke=\"#ff0000\" points=\"2420.31,-604.52 2430.65,-602.21 2421.13,-597.57 2420.31,-604.52\"/>\n",
       "<text text-anchor=\"middle\" x=\"2344.05\" y=\"-600.8\" font-family=\"Times,serif\" font-size=\"14.00\">yes</text>\n",
       "</g>\n",
       "<!-- 54 -->\n",
       "<g id=\"node49\" class=\"node\">\n",
       "<title>54</title>\n",
       "<ellipse fill=\"none\" stroke=\"black\" cx=\"2514.84\" cy=\"-558\" rx=\"102.88\" ry=\"18\"/>\n",
       "<text text-anchor=\"middle\" x=\"2514.84\" y=\"-554.3\" font-family=\"Times,serif\" font-size=\"14.00\">leaf=0.0297374148</text>\n",
       "</g>\n",
       "<!-- 27&#45;&gt;54 -->\n",
       "<g id=\"edge48\" class=\"edge\">\n",
       "<title>27&#45;&gt;54</title>\n",
       "<path fill=\"none\" stroke=\"#0000ff\" d=\"M2199.74,-565.39C2256.04,-564.07 2336.96,-562.16 2402.57,-560.62\"/>\n",
       "<polygon fill=\"#0000ff\" stroke=\"#0000ff\" points=\"2403.04,-564.11 2412.96,-560.37 2402.88,-557.11 2403.04,-564.11\"/>\n",
       "<text text-anchor=\"middle\" x=\"2344.05\" y=\"-566.8\" font-family=\"Times,serif\" font-size=\"14.00\">no, missing</text>\n",
       "</g>\n",
       "<!-- 55 -->\n",
       "<g id=\"node50\" class=\"node\">\n",
       "<title>55</title>\n",
       "<ellipse fill=\"none\" stroke=\"black\" cx=\"2514.84\" cy=\"-504\" rx=\"100.18\" ry=\"18\"/>\n",
       "<text text-anchor=\"middle\" x=\"2514.84\" y=\"-500.3\" font-family=\"Times,serif\" font-size=\"14.00\">leaf=&#45;0.361858398</text>\n",
       "</g>\n",
       "<!-- 28&#45;&gt;55 -->\n",
       "<g id=\"edge49\" class=\"edge\">\n",
       "<title>28&#45;&gt;55</title>\n",
       "<path fill=\"none\" stroke=\"#ff0000\" d=\"M2240.97,-504C2292.29,-504 2353.27,-504 2404.55,-504\"/>\n",
       "<polygon fill=\"#ff0000\" stroke=\"#ff0000\" points=\"2404.67,-507.5 2414.67,-504 2404.67,-500.5 2404.67,-507.5\"/>\n",
       "<text text-anchor=\"middle\" x=\"2344.05\" y=\"-507.8\" font-family=\"Times,serif\" font-size=\"14.00\">yes</text>\n",
       "</g>\n",
       "<!-- 56 -->\n",
       "<g id=\"node51\" class=\"node\">\n",
       "<title>56</title>\n",
       "<ellipse fill=\"none\" stroke=\"black\" cx=\"2514.84\" cy=\"-450\" rx=\"100.18\" ry=\"18\"/>\n",
       "<text text-anchor=\"middle\" x=\"2514.84\" y=\"-446.3\" font-family=\"Times,serif\" font-size=\"14.00\">leaf=&#45;0.140933052</text>\n",
       "</g>\n",
       "<!-- 28&#45;&gt;56 -->\n",
       "<g id=\"edge50\" class=\"edge\">\n",
       "<title>28&#45;&gt;56</title>\n",
       "<path fill=\"none\" stroke=\"#0000ff\" d=\"M2214.35,-492.28C2276.71,-483.48 2361.96,-471.44 2425.56,-462.46\"/>\n",
       "<polygon fill=\"#0000ff\" stroke=\"#0000ff\" points=\"2426.17,-465.91 2435.58,-461.05 2425.19,-458.98 2426.17,-465.91\"/>\n",
       "<text text-anchor=\"middle\" x=\"2344.05\" y=\"-482.8\" font-family=\"Times,serif\" font-size=\"14.00\">no, missing</text>\n",
       "</g>\n",
       "<!-- 29 -->\n",
       "<g id=\"node54\" class=\"node\">\n",
       "<title>29</title>\n",
       "<ellipse fill=\"none\" stroke=\"black\" cx=\"2130.36\" cy=\"-342\" rx=\"69.59\" ry=\"18\"/>\n",
       "<text text-anchor=\"middle\" x=\"2130.36\" y=\"-338.3\" font-family=\"Times,serif\" font-size=\"14.00\">lead_time&lt;8</text>\n",
       "</g>\n",
       "<!-- 15&#45;&gt;29 -->\n",
       "<g id=\"edge53\" class=\"edge\">\n",
       "<title>15&#45;&gt;29</title>\n",
       "<path fill=\"none\" stroke=\"#ff0000\" d=\"M1817.16,-319.29C1887.41,-324.4 1985.55,-331.54 2052.95,-336.44\"/>\n",
       "<polygon fill=\"#ff0000\" stroke=\"#ff0000\" points=\"2052.85,-339.94 2063.07,-337.18 2053.35,-332.96 2052.85,-339.94\"/>\n",
       "<text text-anchor=\"middle\" x=\"1916.68\" y=\"-333.8\" font-family=\"Times,serif\" font-size=\"14.00\">yes</text>\n",
       "</g>\n",
       "<!-- 30 -->\n",
       "<g id=\"node55\" class=\"node\">\n",
       "<title>30</title>\n",
       "<ellipse fill=\"none\" stroke=\"black\" cx=\"2130.36\" cy=\"-288\" rx=\"118.08\" ry=\"18\"/>\n",
       "<text text-anchor=\"middle\" x=\"2130.36\" y=\"-284.3\" font-family=\"Times,serif\" font-size=\"14.00\">reserved_room_type&lt;6</text>\n",
       "</g>\n",
       "<!-- 15&#45;&gt;30 -->\n",
       "<g id=\"edge54\" class=\"edge\">\n",
       "<title>15&#45;&gt;30</title>\n",
       "<path fill=\"none\" stroke=\"#0000ff\" d=\"M1808.45,-303.34C1830.18,-300.93 1853.82,-298.59 1875.68,-297 1916.91,-294 1961.98,-291.99 2002.55,-290.65\"/>\n",
       "<polygon fill=\"#0000ff\" stroke=\"#0000ff\" points=\"2002.88,-294.14 2012.76,-290.32 2002.65,-287.14 2002.88,-294.14\"/>\n",
       "<text text-anchor=\"middle\" x=\"1916.68\" y=\"-300.8\" font-family=\"Times,serif\" font-size=\"14.00\">no, missing</text>\n",
       "</g>\n",
       "<!-- 31 -->\n",
       "<g id=\"node60\" class=\"node\">\n",
       "<title>31</title>\n",
       "<ellipse fill=\"none\" stroke=\"black\" cx=\"2130.36\" cy=\"-163\" rx=\"154.07\" ry=\"18\"/>\n",
       "<text text-anchor=\"middle\" x=\"2130.36\" y=\"-159.3\" font-family=\"Times,serif\" font-size=\"14.00\">arrival_date_day_of_month&lt;13</text>\n",
       "</g>\n",
       "<!-- 16&#45;&gt;31 -->\n",
       "<g id=\"edge59\" class=\"edge\">\n",
       "<title>16&#45;&gt;31</title>\n",
       "<path fill=\"none\" stroke=\"#ff0000\" d=\"M1795.59,-163C1841.79,-163 1906.03,-163 1965.82,-163\"/>\n",
       "<polygon fill=\"#ff0000\" stroke=\"#ff0000\" points=\"1966.15,-166.5 1976.15,-163 1966.15,-159.5 1966.15,-166.5\"/>\n",
       "<text text-anchor=\"middle\" x=\"1916.68\" y=\"-166.8\" font-family=\"Times,serif\" font-size=\"14.00\">yes</text>\n",
       "</g>\n",
       "<!-- 32 -->\n",
       "<g id=\"node61\" class=\"node\">\n",
       "<title>32</title>\n",
       "<ellipse fill=\"none\" stroke=\"black\" cx=\"2130.36\" cy=\"-72\" rx=\"51.99\" ry=\"18\"/>\n",
       "<text text-anchor=\"middle\" x=\"2130.36\" y=\"-68.3\" font-family=\"Times,serif\" font-size=\"14.00\">adr&lt;196</text>\n",
       "</g>\n",
       "<!-- 16&#45;&gt;32 -->\n",
       "<g id=\"edge60\" class=\"edge\">\n",
       "<title>16&#45;&gt;32</title>\n",
       "<path fill=\"none\" stroke=\"#0000ff\" d=\"M1780.73,-151.57C1856.4,-134.3 1999.18,-101.71 2076.47,-84.07\"/>\n",
       "<polygon fill=\"#0000ff\" stroke=\"#0000ff\" points=\"2077.5,-87.43 2086.47,-81.79 2075.94,-80.6 2077.5,-87.43\"/>\n",
       "<text text-anchor=\"middle\" x=\"1916.68\" y=\"-132.8\" font-family=\"Times,serif\" font-size=\"14.00\">no, missing</text>\n",
       "</g>\n",
       "<!-- 57 -->\n",
       "<g id=\"node56\" class=\"node\">\n",
       "<title>57</title>\n",
       "<ellipse fill=\"none\" stroke=\"black\" cx=\"2514.84\" cy=\"-396\" rx=\"100.18\" ry=\"18\"/>\n",
       "<text text-anchor=\"middle\" x=\"2514.84\" y=\"-392.3\" font-family=\"Times,serif\" font-size=\"14.00\">leaf=&#45;0.117261045</text>\n",
       "</g>\n",
       "<!-- 29&#45;&gt;57 -->\n",
       "<g id=\"edge55\" class=\"edge\">\n",
       "<title>29&#45;&gt;57</title>\n",
       "<path fill=\"none\" stroke=\"#ff0000\" d=\"M2191.97,-350.56C2254.94,-359.45 2354.1,-373.45 2425.73,-383.56\"/>\n",
       "<polygon fill=\"#ff0000\" stroke=\"#ff0000\" points=\"2425.25,-387.03 2435.65,-384.96 2426.23,-380.1 2425.25,-387.03\"/>\n",
       "<text text-anchor=\"middle\" x=\"2344.05\" y=\"-380.8\" font-family=\"Times,serif\" font-size=\"14.00\">yes</text>\n",
       "</g>\n",
       "<!-- 58 -->\n",
       "<g id=\"node57\" class=\"node\">\n",
       "<title>58</title>\n",
       "<ellipse fill=\"none\" stroke=\"black\" cx=\"2514.84\" cy=\"-342\" rx=\"102.88\" ry=\"18\"/>\n",
       "<text text-anchor=\"middle\" x=\"2514.84\" y=\"-338.3\" font-family=\"Times,serif\" font-size=\"14.00\">leaf=0.0465568006</text>\n",
       "</g>\n",
       "<!-- 29&#45;&gt;58 -->\n",
       "<g id=\"edge56\" class=\"edge\">\n",
       "<title>29&#45;&gt;58</title>\n",
       "<path fill=\"none\" stroke=\"#0000ff\" d=\"M2200.18,-342C2256.22,-342 2336.46,-342 2401.75,-342\"/>\n",
       "<polygon fill=\"#0000ff\" stroke=\"#0000ff\" points=\"2402.09,-345.5 2412.09,-342 2402.09,-338.5 2402.09,-345.5\"/>\n",
       "<text text-anchor=\"middle\" x=\"2344.05\" y=\"-345.8\" font-family=\"Times,serif\" font-size=\"14.00\">no, missing</text>\n",
       "</g>\n",
       "<!-- 59 -->\n",
       "<g id=\"node58\" class=\"node\">\n",
       "<title>59</title>\n",
       "<ellipse fill=\"none\" stroke=\"black\" cx=\"2514.84\" cy=\"-288\" rx=\"100.18\" ry=\"18\"/>\n",
       "<text text-anchor=\"middle\" x=\"2514.84\" y=\"-284.3\" font-family=\"Times,serif\" font-size=\"14.00\">leaf=&#45;0.208085656</text>\n",
       "</g>\n",
       "<!-- 30&#45;&gt;59 -->\n",
       "<g id=\"edge57\" class=\"edge\">\n",
       "<title>30&#45;&gt;59</title>\n",
       "<path fill=\"none\" stroke=\"#ff0000\" d=\"M2248.72,-288C2298.23,-288 2355.54,-288 2404.19,-288\"/>\n",
       "<polygon fill=\"#ff0000\" stroke=\"#ff0000\" points=\"2404.44,-291.5 2414.44,-288 2404.44,-284.5 2404.44,-291.5\"/>\n",
       "<text text-anchor=\"middle\" x=\"2344.05\" y=\"-291.8\" font-family=\"Times,serif\" font-size=\"14.00\">yes</text>\n",
       "</g>\n",
       "<!-- 60 -->\n",
       "<g id=\"node59\" class=\"node\">\n",
       "<title>60</title>\n",
       "<ellipse fill=\"none\" stroke=\"black\" cx=\"2514.84\" cy=\"-234\" rx=\"96.68\" ry=\"18\"/>\n",
       "<text text-anchor=\"middle\" x=\"2514.84\" y=\"-230.3\" font-family=\"Times,serif\" font-size=\"14.00\">leaf=0.420140177</text>\n",
       "</g>\n",
       "<!-- 30&#45;&gt;60 -->\n",
       "<g id=\"edge58\" class=\"edge\">\n",
       "<title>30&#45;&gt;60</title>\n",
       "<path fill=\"none\" stroke=\"#0000ff\" d=\"M2217.68,-275.81C2280.18,-266.99 2364.35,-255.11 2426.99,-246.26\"/>\n",
       "<polygon fill=\"#0000ff\" stroke=\"#0000ff\" points=\"2427.83,-249.68 2437.24,-244.81 2426.85,-242.75 2427.83,-249.68\"/>\n",
       "<text text-anchor=\"middle\" x=\"2344.05\" y=\"-266.8\" font-family=\"Times,serif\" font-size=\"14.00\">no, missing</text>\n",
       "</g>\n",
       "<!-- 61 -->\n",
       "<g id=\"node62\" class=\"node\">\n",
       "<title>61</title>\n",
       "<ellipse fill=\"none\" stroke=\"black\" cx=\"2514.84\" cy=\"-180\" rx=\"100.18\" ry=\"18\"/>\n",
       "<text text-anchor=\"middle\" x=\"2514.84\" y=\"-176.3\" font-family=\"Times,serif\" font-size=\"14.00\">leaf=&#45;0.224083111</text>\n",
       "</g>\n",
       "<!-- 31&#45;&gt;61 -->\n",
       "<g id=\"edge61\" class=\"edge\">\n",
       "<title>31&#45;&gt;61</title>\n",
       "<path fill=\"none\" stroke=\"#ff0000\" d=\"M2274.6,-169.37C2318.68,-171.33 2366.4,-173.45 2407.54,-175.28\"/>\n",
       "<polygon fill=\"#ff0000\" stroke=\"#ff0000\" points=\"2407.43,-178.77 2417.58,-175.72 2407.74,-171.78 2407.43,-178.77\"/>\n",
       "<text text-anchor=\"middle\" x=\"2344.05\" y=\"-178.8\" font-family=\"Times,serif\" font-size=\"14.00\">yes</text>\n",
       "</g>\n",
       "<!-- 62 -->\n",
       "<g id=\"node63\" class=\"node\">\n",
       "<title>62</title>\n",
       "<ellipse fill=\"none\" stroke=\"black\" cx=\"2514.84\" cy=\"-126\" rx=\"96.68\" ry=\"18\"/>\n",
       "<text text-anchor=\"middle\" x=\"2514.84\" y=\"-122.3\" font-family=\"Times,serif\" font-size=\"14.00\">leaf=0.123691119</text>\n",
       "</g>\n",
       "<!-- 31&#45;&gt;62 -->\n",
       "<g id=\"edge62\" class=\"edge\">\n",
       "<title>31&#45;&gt;62</title>\n",
       "<path fill=\"none\" stroke=\"#0000ff\" d=\"M2249.5,-151.57C2303.81,-146.32 2367.39,-140.17 2418.57,-135.22\"/>\n",
       "<polygon fill=\"#0000ff\" stroke=\"#0000ff\" points=\"2419.02,-138.69 2428.64,-134.24 2418.35,-131.72 2419.02,-138.69\"/>\n",
       "<text text-anchor=\"middle\" x=\"2344.05\" y=\"-149.8\" font-family=\"Times,serif\" font-size=\"14.00\">no, missing</text>\n",
       "</g>\n",
       "<!-- 63 -->\n",
       "<g id=\"node64\" class=\"node\">\n",
       "<title>63</title>\n",
       "<ellipse fill=\"none\" stroke=\"black\" cx=\"2514.84\" cy=\"-72\" rx=\"100.18\" ry=\"18\"/>\n",
       "<text text-anchor=\"middle\" x=\"2514.84\" y=\"-68.3\" font-family=\"Times,serif\" font-size=\"14.00\">leaf=&#45;0.136506513</text>\n",
       "</g>\n",
       "<!-- 32&#45;&gt;63 -->\n",
       "<g id=\"edge63\" class=\"edge\">\n",
       "<title>32&#45;&gt;63</title>\n",
       "<path fill=\"none\" stroke=\"#ff0000\" d=\"M2182.55,-72C2239.03,-72 2331.58,-72 2404.52,-72\"/>\n",
       "<polygon fill=\"#ff0000\" stroke=\"#ff0000\" points=\"2404.68,-75.5 2414.68,-72 2404.68,-68.5 2404.68,-75.5\"/>\n",
       "<text text-anchor=\"middle\" x=\"2344.05\" y=\"-75.8\" font-family=\"Times,serif\" font-size=\"14.00\">yes</text>\n",
       "</g>\n",
       "<!-- 64 -->\n",
       "<g id=\"node65\" class=\"node\">\n",
       "<title>64</title>\n",
       "<ellipse fill=\"none\" stroke=\"black\" cx=\"2514.84\" cy=\"-18\" rx=\"100.18\" ry=\"18\"/>\n",
       "<text text-anchor=\"middle\" x=\"2514.84\" y=\"-14.3\" font-family=\"Times,serif\" font-size=\"14.00\">leaf=&#45;0.321471035</text>\n",
       "</g>\n",
       "<!-- 32&#45;&gt;64 -->\n",
       "<g id=\"edge64\" class=\"edge\">\n",
       "<title>32&#45;&gt;64</title>\n",
       "<path fill=\"none\" stroke=\"#0000ff\" d=\"M2179.03,-65.27C2240.55,-56.58 2348.78,-41.3 2425.52,-30.47\"/>\n",
       "<polygon fill=\"#0000ff\" stroke=\"#0000ff\" points=\"2426.25,-33.9 2435.66,-29.04 2425.27,-26.97 2426.25,-33.9\"/>\n",
       "<text text-anchor=\"middle\" x=\"2344.05\" y=\"-50.8\" font-family=\"Times,serif\" font-size=\"14.00\">no, missing</text>\n",
       "</g>\n",
       "</g>\n",
       "</svg>\n"
      ],
      "text/plain": [
       "<graphviz.sources.Source at 0x721fbd9cbcd0>"
      ]
     },
     "execution_count": 57,
     "metadata": {},
     "output_type": "execute_result"
    }
   ],
   "source": [
    "### Ex-4-Task-1\n",
    "from xgboost import plot_tree, to_graphviz\n",
    "import graphviz\n",
    "import matplotlib.pyplot as plt\n",
    "\n",
    "# Plot the tree\n",
    "\n",
    "### BEGIN SOLUTION\n",
    "# your code here\n",
    "# fig, ax = plt.subplots(figsize=(30, 10))  # Adjust size as needed\n",
    "# plot_tree(xgb, num_trees=19, ax=ax)\n",
    "# plt.show()\n",
    "\n",
    "to_graphviz(xgb, num_trees=19, rankdir='LR')\n"
   ]
  },
  {
   "cell_type": "markdown",
   "metadata": {
    "deletable": false,
    "editable": false,
    "id": "k8q56l8mwsJT",
    "nbgrader": {
     "cell_type": "markdown",
     "checksum": "832d3b9c5bbfbfd6a63119c5c207db1d",
     "grade": false,
     "grade_id": "cell-265ab053a0a86503",
     "locked": true,
     "schema_version": 3,
     "solution": false,
     "task": false
    }
   },
   "source": [
    "#### Q1: Based on the tree plotted above, which of the following feature is a root node in the 20th tree?\n",
    "<b><div style=\"text-align: right\">[UNGRADED]</div></b>\n",
    "\n",
    "---\n",
    "Select the best option.\n",
    "\n",
    "1. deposit_type\n",
    "\n",
    "2. adr\n",
    "\n",
    "3. net_booking_cancelled\n",
    "\n",
    "4. required_car_parking_spaces\n",
    "\n",
    "5. total_of_special_requests\n",
    "\n",
    "\n",
    "__Task:__\n",
    "You just need to put the correct option number on the variable `correct_option1`.\n",
    "If your answer is deposit_type, assign `correct_option1 = 1` and so on."
   ]
  },
  {
   "cell_type": "code",
   "execution_count": 54,
   "metadata": {
    "deletable": false,
    "id": "iRdTM9nUwsJV",
    "nbgrader": {
     "cell_type": "code",
     "checksum": "24d0e8dca640d1aa21fe9427808402b2",
     "grade": false,
     "grade_id": "cell-ccab3ae4d6d9cbfa",
     "locked": false,
     "schema_version": 3,
     "solution": true,
     "task": false
    },
    "tags": [
     "Ex-4-Task-2"
    ]
   },
   "outputs": [],
   "source": [
    "### Ex-4-Task-2\n",
    "correct_option1 = None\n",
    "### BEGIN SOLUTION\n",
    "# your code here\n",
    "correct_option1 = 4\n",
    "# raise NotImplementedError\n",
    "### END SOLUTION"
   ]
  },
  {
   "cell_type": "code",
   "execution_count": 55,
   "metadata": {
    "deletable": false,
    "editable": false,
    "id": "_e2b1h8JwsJb",
    "nbgrader": {
     "cell_type": "code",
     "checksum": "32a245d53298069b2e4b8bffd043a4a7",
     "grade": true,
     "grade_id": "cell-45cc414e80d2f81c",
     "locked": true,
     "points": 0,
     "schema_version": 3,
     "solution": false,
     "task": false
    },
    "tags": [
     "Ex-4-Task-2"
    ]
   },
   "outputs": [],
   "source": [
    "assert correct_option1 is not None"
   ]
  },
  {
   "cell_type": "markdown",
   "metadata": {
    "deletable": false,
    "editable": false,
    "id": "C0bjxiIhwsJg",
    "nbgrader": {
     "cell_type": "markdown",
     "checksum": "5df529774d86c13599b182617a2eeb16",
     "grade": false,
     "grade_id": "cell-242babac02f7b8d7",
     "locked": true,
     "schema_version": 3,
     "solution": false,
     "task": false
    }
   },
   "source": [
    "### Feature importance\n",
    "\n",
    "### Exercise 5: Plot the feature importance\n",
    "<b><div style=\"text-align: right\">[UNGRADED]</div></b>\n",
    "\n",
    "---\n",
    "XGBoost provides the `feature_importance()` method to plot the importance of each feature. Based on the feature_importance plot, you need to answer the quiz below.\n",
    "\n",
    "**Task:** \n",
    "-  Plot the feature importance of the model `xgb`.\n",
    "\n"
   ]
  },
  {
   "cell_type": "code",
   "execution_count": 60,
   "metadata": {
    "deletable": false,
    "id": "Ed50WkR6wsJi",
    "nbgrader": {
     "cell_type": "code",
     "checksum": "2c8584cbcaec783ba6ad5082f175fc94",
     "grade": false,
     "grade_id": "cell-592367a614fc5be2",
     "locked": false,
     "schema_version": 3,
     "solution": true,
     "task": false
    },
    "outputId": "159903b1-5db8-4bb3-d842-6b1780d8a913",
    "tags": [
     "Ex-5-Task-1"
    ]
   },
   "outputs": [
    {
     "data": {
      "image/png": "[encoded data removed]",
      "text/plain": [
       "<Figure size 3000x1800 with 1 Axes>"
      ]
     },
     "metadata": {},
     "output_type": "display_data"
    },
    {
     "data": {
      "image/png": "[encoded data removed]",
      "text/plain": [
       "<Figure size 640x480 with 1 Axes>"
      ]
     },
     "metadata": {},
     "output_type": "display_data"
    }
   ],
   "source": [
    "### Ex-5-Task-1\n",
    "from xgboost import plot_importance\n",
    "fig, ax = plt.subplots(figsize=(10,6), dpi=300)\n",
    "None # plot_importance(.....)\n",
    "### BEGIN SOLUTION\n",
    "# your code here\n",
    "plot_importance(xgb)\n",
    "# raise NotImplementedError\n",
    "### END SOLUTION\n",
    "plt.show()"
   ]
  },
  {
   "cell_type": "markdown",
   "metadata": {
    "deletable": false,
    "editable": false,
    "id": "bf1yeatOwsJm",
    "nbgrader": {
     "cell_type": "markdown",
     "checksum": "59afbefad3b748f381b3611ec4f55ba7",
     "grade": false,
     "grade_id": "cell-6c179d84151f969f",
     "locked": true,
     "schema_version": 3,
     "solution": false,
     "task": false
    }
   },
   "source": [
    "#### Q2: Based on the gain, which of the following is the most important feature?\n",
    "<b><div style=\"text-align: right\">[UNGRADED]</div></b>\n",
    "\n",
    "\n",
    "---\n",
    "Select the best option.\n",
    "\n",
    "1. lead_time\n",
    "\n",
    "2. country\n",
    "\n",
    "3. adr\n",
    "\n",
    "4. net_booking_cancelled\n",
    "\n",
    "5. required_car_parking_spaces\n",
    "\n",
    "6. deposit_type\n",
    "\n",
    "\n",
    "__Task:__\n",
    "You just need to put the correct option number on the variable `correct_option2`.\n",
    "If your answer is lead_time, assign `correct_option2 = 1` and so on."
   ]
  },
  {
   "cell_type": "code",
   "execution_count": 61,
   "metadata": {
    "deletable": false,
    "id": "9FsVeR4uwsJr",
    "nbgrader": {
     "cell_type": "code",
     "checksum": "7c4e6f77355ce847f75ac302b8b9249e",
     "grade": false,
     "grade_id": "cell-23b208ba0033d71a",
     "locked": false,
     "schema_version": 3,
     "solution": true,
     "task": false
    },
    "tags": [
     "Ex-5-Task-2"
    ]
   },
   "outputs": [],
   "source": [
    "### Ex-5-Task-2\n",
    "correct_option2 = None\n",
    "### BEGIN SOLUTION\n",
    "# your code here\n",
    "correct_option2 = 1\n",
    "# raise NotImplementedError\n",
    "### END SOLUTION"
   ]
  },
  {
   "cell_type": "code",
   "execution_count": 62,
   "metadata": {
    "deletable": false,
    "editable": false,
    "id": "MZ9XNIl7wsJ0",
    "nbgrader": {
     "cell_type": "code",
     "checksum": "b2c98a78b400002d8ec98c38a8dd20d7",
     "grade": true,
     "grade_id": "cell-8548c5efe934897a",
     "locked": true,
     "points": 0,
     "schema_version": 3,
     "solution": false,
     "task": false
    },
    "tags": [
     "Ex-5-Task-2"
    ]
   },
   "outputs": [],
   "source": [
    "assert correct_option2 is not None"
   ]
  },
  {
   "cell_type": "markdown",
   "metadata": {
    "id": "r4jBHfvEwsJ5"
   },
   "source": [
    "### Parallelization\n",
    "\n",
    "### Exercise 6: Multithreading\n",
    "<b><div style=\"text-align: right\">[UNGRADED]</div></b>\n",
    "\n",
    "---\n",
    "As already discussed in the theoretical part, XGBoost is known for parallelization and distributed computing. Here we are going to instantiate XGBoost with its support for multithreading. You can refer to the documentation of XGBoost on how to set the number of threads to the number of cores.\n",
    "\n",
    "**Task:**  \n",
    "- Instantiate a XGBClassifier() to variable `model` with __random_state__ set to RANDOM_STATE and set the number of threads to number of cores.\n",
    "\n"
   ]
  },
  {
   "cell_type": "code",
   "execution_count": 66,
   "metadata": {
    "deletable": false,
    "id": "4fxzfOVawsJ6",
    "nbgrader": {
     "cell_type": "code",
     "checksum": "be1aa3ceb7a5ed2c4ceebcb02236ccdb",
     "grade": false,
     "grade_id": "cell-90c19bb67bce3a9c",
     "locked": false,
     "schema_version": 3,
     "solution": true,
     "task": false
    },
    "tags": [
     "Ex-6-Task-1"
    ]
   },
   "outputs": [],
   "source": [
    "### Ex-6-Task-1\n",
    "import multiprocessing\n",
    "model = None\n",
    "### BEGIN SOLUTION\n",
    "# your code here\n",
    "num_cores = multiprocessing.cpu_count()\n",
    "model = XGBClassifier(random_state = RANDOM_STATE, nthread= num_cores )\n",
    "# raise NotImplementedError\n",
    "### END SOLUTION"
   ]
  },
  {
   "cell_type": "code",
   "execution_count": 67,
   "metadata": {
    "deletable": false,
    "editable": false,
    "id": "9ApKHxgqwsKA",
    "nbgrader": {
     "cell_type": "code",
     "checksum": "2c6b6de750e323cc93d784fc072af9b0",
     "grade": true,
     "grade_id": "cell-77990162525d4207",
     "locked": true,
     "points": 0,
     "schema_version": 3,
     "solution": false,
     "task": false
    },
    "tags": [
     "Ex-6-Task-1"
    ]
   },
   "outputs": [],
   "source": [
    "### INTENTIONALLY LEFT BLANK"
   ]
  },
  {
   "cell_type": "markdown",
   "metadata": {
    "deletable": false,
    "editable": false,
    "id": "UPh-UJB7wsKF",
    "nbgrader": {
     "cell_type": "markdown",
     "checksum": "b046f7aef926457d8ffa76090722654b",
     "grade": false,
     "grade_id": "cell-fa5f60ec3d43e6d5",
     "locked": true,
     "schema_version": 3,
     "solution": false,
     "task": false
    }
   },
   "source": [
    "### Performance Monitoring and learning curve\n",
    "\n",
    "For performance monitoring, we define a function `learning_curve()` which plots the log loss for each boosting iteration for training and validation dataset. \n",
    "\n",
    "Note: Here, test data is used for validation, but it is good practice to have a separate validation set."
   ]
  },
  {
   "cell_type": "code",
   "execution_count": 68,
   "metadata": {
    "deletable": false,
    "editable": false,
    "id": "pKJo8Fk3wsKF",
    "nbgrader": {
     "cell_type": "code",
     "checksum": "89e6bea7b6223b4157e5b0f7f7c120f2",
     "grade": false,
     "grade_id": "cell-8108ed82c8f44441",
     "locked": true,
     "schema_version": 3,
     "solution": false,
     "task": false
    }
   },
   "outputs": [],
   "source": [
    "def learning_curve(model, X_train, y_train, X_test, y_test):\n",
    "    \"\"\"\n",
    "    A function to plot the learning curve.\n",
    "    \n",
    "    Paramters:\n",
    "    ---------\n",
    "    model: object\n",
    "           An object instantiated with XGBoost classifier\n",
    "    X_train: array like\n",
    "             Training features\n",
    "    y_train: array like\n",
    "             Training labels\n",
    "    X_test: array like\n",
    "            Validation features\n",
    "    y_test: array like\n",
    "            Validation labels\n",
    "            \n",
    "    Returns:\n",
    "    --------\n",
    "    None\n",
    "    \n",
    "            \n",
    "    \"\"\"\n",
    "    eval_set = [(X_train, y_train),(X_test, y_test)]\n",
    "    model.fit(X_train, y_train, eval_metric = [\"logloss\"], eval_set = eval_set, verbose = False)\n",
    "    print(\"F1 Score Train: \",f1_score(y_train, model.predict(X_train), average = 'weighted'))\n",
    "    print(\"F1 Score Test: \",f1_score(y_test, model.predict(X_test), average = 'weighted'))\n",
    "    results = model.evals_result()\n",
    "    num_tree = len(results['validation_0']['logloss'])\n",
    "    plt.figure(figsize = (8,8))\n",
    "    plt.plot(range(0, num_tree), results['validation_0']['logloss'], label = 'Training')\n",
    "    plt.plot(range(0, num_tree), results['validation_1']['logloss'], label = 'Validation')\n",
    "    plt.legend()\n",
    "    plt.xlabel(\"Number of trees\")\n",
    "    plt.ylabel(\"Log loss\")\n",
    "    plt.title(\"Learning Curve\")\n",
    "    plt.show()\n",
    "\n"
   ]
  },
  {
   "cell_type": "markdown",
   "metadata": {
    "deletable": false,
    "editable": false,
    "id": "C56MY88twsKI",
    "nbgrader": {
     "cell_type": "markdown",
     "checksum": "870caf6b331df5b6c8054b42a7d75b53",
     "grade": false,
     "grade_id": "cell-f63ef012dc1b7da3",
     "locked": true,
     "schema_version": 3,
     "solution": false,
     "task": false
    }
   },
   "source": [
    "### Exercise 7: Learning Curve\n",
    "<b><div style=\"text-align: right\">[UNGRADED]</div></b>\n",
    "\n",
    "---\n",
    "A function `learning_curve()` is defined above. Use this function to plot the learning curve for the training and validation dataset. Here we will be using the test set for validation.\n",
    "**Task:**  \n",
    "- Instantiate a XGBClassifier() to variable `model` with __n_estimators__ set to 100 , __max_depth__ set to 4, and __random_state__ set to RANDOM_STATE.\n",
    "-  Use the function `learning_curve()` to plot the learning curve of the model `xgb`. We have already instantiated `xgb` a few cells back.\n"
   ]
  },
  {
   "cell_type": "code",
   "execution_count": 69,
   "metadata": {
    "deletable": false,
    "id": "7aq5FtPYwsKJ",
    "nbgrader": {
     "cell_type": "code",
     "checksum": "234c91da0fca039b4c5e692d4d9577f7",
     "grade": false,
     "grade_id": "cell-d3604250f303b2de",
     "locked": false,
     "schema_version": 3,
     "solution": true,
     "task": false
    },
    "outputId": "90ce3fe9-1a0e-46b6-fe0c-28e38999221f",
    "tags": [
     "Ex-7-Task-1"
    ]
   },
   "outputs": [
    {
     "name": "stderr",
     "output_type": "stream",
     "text": [
      "/home/ishan-pc/.local/lib/python3.10/site-packages/xgboost/sklearn.py:889: UserWarning: `eval_metric` in `fit` method is deprecated for better compatibility with scikit-learn, use `eval_metric` in constructor or`set_params` instead.\n",
      "  warnings.warn(\n"
     ]
    },
    {
     "name": "stdout",
     "output_type": "stream",
     "text": [
      "F1 Score Train:  0.8961338160144634\n",
      "F1 Score Test:  0.8756732482053502\n"
     ]
    },
    {
     "data": {
      "image/png": "[encoded data removed]",
      "text/plain": [
       "<Figure size 800x800 with 1 Axes>"
      ]
     },
     "metadata": {},
     "output_type": "display_data"
    }
   ],
   "source": [
    "### Ex-7-Task-1\n",
    "model = None\n",
    "# Plot learning curve\n",
    "### BEGIN SOLUTION\n",
    "# your code here\n",
    "model = XGBClassifier(n_estimators = 100 , max_depth = 4 , random_state = RANDOM_STATE)\n",
    "learning_curve(xgb,X_train, y_train, X_test, y_test)\n",
    "# raise NotImplementedError\n",
    "### END SOLUTION"
   ]
  },
  {
   "cell_type": "markdown",
   "metadata": {},
   "source": [
    "###### From the plot above we can see that till the 18 no of tree both the training and testing curve are decreasing equally but after that the validation curve has came to the saturation while training one is still decreasing eventually leading to overfitting."
   ]
  },
  {
   "cell_type": "markdown",
   "metadata": {
    "deletable": false,
    "editable": false,
    "id": "inOMafAZwsKM",
    "nbgrader": {
     "cell_type": "markdown",
     "checksum": "1b64a50e4233c7746fd5a1f889b80390",
     "grade": false,
     "grade_id": "cell-752ba7a103e50450",
     "locked": true,
     "schema_version": 3,
     "solution": false,
     "task": false
    }
   },
   "source": [
    "#### Q3: Recalling evaluation results of random forest trained few cells above and analyzing the above learning curve shows that our xgboost model is  ____?\n",
    "<b><div style=\"text-align: right\">[UNGRADED]</div></b>\n",
    "\n",
    "---\n",
    "Select the best option.\n",
    "\n",
    "1. optimally fitted\n",
    "\n",
    "2. overfitted\n",
    "\n",
    "3. underfitted\n",
    "\n",
    "\n",
    "__Task:__\n",
    "You just need to put the correct option number on the variable `correct_option3`.\n",
    "If your answer is overfitted, assign `correct_option3 = 2` and so on."
   ]
  },
  {
   "cell_type": "code",
   "execution_count": 70,
   "metadata": {
    "deletable": false,
    "id": "9xDBfdZSAxQ-",
    "nbgrader": {
     "cell_type": "code",
     "checksum": "513cfe81ccc49e5ee4b835e636e05488",
     "grade": false,
     "grade_id": "cell-9168700a9e95e753",
     "locked": false,
     "schema_version": 3,
     "solution": true,
     "task": false
    },
    "tags": [
     "Ex-7-Task-2"
    ]
   },
   "outputs": [],
   "source": [
    "### Ex-7-Task-2\n",
    "correct_option3 = None\n",
    "### BEGIN SOLUTION\n",
    "# your code here\n",
    "correct_option3 = 2\n",
    "# raise NotImplementedError\n",
    "### END SOLUTION"
   ]
  },
  {
   "cell_type": "code",
   "execution_count": 71,
   "metadata": {
    "deletable": false,
    "editable": false,
    "id": "EqvwXBIpwsKN",
    "nbgrader": {
     "cell_type": "code",
     "checksum": "a7db82b57f3d89156a93633bca3c1e51",
     "grade": true,
     "grade_id": "cell-680e212f211f9eae",
     "locked": true,
     "points": 0,
     "schema_version": 3,
     "solution": false,
     "task": false
    },
    "tags": [
     "Ex-7-Task-2"
    ]
   },
   "outputs": [],
   "source": [
    "assert correct_option3 is not None"
   ]
  },
  {
   "cell_type": "markdown",
   "metadata": {
    "deletable": false,
    "editable": false,
    "id": "bfLb4QKawsKX",
    "nbgrader": {
     "cell_type": "markdown",
     "checksum": "1795de9ba30206736841cbfa9aec9f2a",
     "grade": false,
     "grade_id": "cell-ae5d7743776fa417",
     "locked": true,
     "schema_version": 3,
     "solution": false,
     "task": false
    }
   },
   "source": [
    "### Exercise 8: Improving performance\n",
    "<b><div style=\"text-align: right\">[POINTS: 1]</div></b>\n",
    "\n",
    "---\n",
    "Based on your answer, if the model is overfitted, under fitted, or optimally fitted, you need to perform a few experiments and improve its performance. The test f1-score of the model should be above 89.00%\n",
    "\n",
    "Hint: If the model is overfitted, you can perform shrinkage, reduce the depth of the tree, apply regularization, etc. Similarly, if the model is under fitted, you can increase the number of iterations and the tree depth.\n",
    "\n",
    "**Task:**  \n",
    "- Instantiate a XGBClassifier() to variable `model` with the parameters you think are suitable for improving performance.\n",
    "- Note: The test f1 score of your model should be equal or above 0.8900 to get the marks.\n"
   ]
  },
  {
   "cell_type": "code",
   "execution_count": 108,
   "metadata": {
    "deletable": false,
    "id": "-hgayJeYwsKY",
    "nbgrader": {
     "cell_type": "code",
     "checksum": "e5f371d76cd7dac23d08b4bfae553092",
     "grade": false,
     "grade_id": "cell-c6c3726bbeeded05",
     "locked": false,
     "schema_version": 3,
     "solution": true,
     "task": false
    },
    "outputId": "9649ad20-cd90-4c59-b1e2-74ddd5d0985f",
    "tags": [
     "Ex-8-Task-1"
    ]
   },
   "outputs": [
    {
     "name": "stdout",
     "output_type": "stream",
     "text": [
      "Train f1_score: 0.9642634790208874\n",
      "Test f1_score: 0.8926188511918178\n"
     ]
    }
   ],
   "source": [
    "### Ex-8-Task-1\n",
    "model = None\n",
    "### BEGIN SOLUTION\n",
    "# your code here\n",
    "model = XGBClassifier(n_estimators = 100 , max_depth = 15 ,learning_rate=0.1, reg_alpha=0.1, reg_lambda=0.1 , random_state = RANDOM_STATE)\n",
    "# raise NotImplementedError\n",
    "### END SOLUTION\n",
    "model.fit(X_train, y_train)\n",
    "pickle.dump(model, open(\"model.pickle.dat\", \"wb\"))\n",
    "\n",
    "print(\"Train f1_score:\", f1_score(y_train, model.predict(X_train), average = 'weighted'))\n",
    "print(\"Test f1_score:\", f1_score(y_test, model.predict(X_test), average = 'weighted'))"
   ]
  },
  {
   "cell_type": "code",
   "execution_count": 109,
   "metadata": {
    "deletable": false,
    "editable": false,
    "id": "KK6gIaq9wsKc",
    "nbgrader": {
     "cell_type": "code",
     "checksum": "c7a2165d724025bb5284e1b6e9e9d2c0",
     "grade": true,
     "grade_id": "cell-18ef62f4ca805457",
     "locked": true,
     "points": 1,
     "schema_version": 3,
     "solution": false,
     "task": false
    },
    "tags": [
     "Ex-8-Task-1"
    ]
   },
   "outputs": [],
   "source": [
    "### INTENTIONALLY LEFT BLANK"
   ]
  },
  {
   "cell_type": "markdown",
   "metadata": {
    "deletable": false,
    "editable": false,
    "id": "2EPPp2jWwsKg",
    "nbgrader": {
     "cell_type": "markdown",
     "checksum": "71f6dc878e6e62d4e3c933b5bfa94449",
     "grade": false,
     "grade_id": "cell-6ab792baf95be725",
     "locked": true,
     "schema_version": 3,
     "solution": false,
     "task": false
    }
   },
   "source": [
    "### Model Tuning\n",
    "\n",
    "A function `tuning_curve()` is defined, which tunes the xgboost . Here `param_name` is the name of the parameter, and `param_range` is the corresponding range of the parameter's value. This function plot the log loss for different value of these parameters. The plot has a vertical line with a central dot corresponding to each value of the parameter.  The vertical length represents the standard deviation of log loss for three cross-fold validation. Similarly, the central dot represents the mean log loss for three cross-fold validation."
   ]
  },
  {
   "cell_type": "code",
   "execution_count": 110,
   "metadata": {
    "deletable": false,
    "editable": false,
    "id": "eg_vu2BBwsKg",
    "nbgrader": {
     "cell_type": "code",
     "checksum": "4d4b5859b25869099aee7f7411054874",
     "grade": false,
     "grade_id": "cell-fcd0aa29a62fdc7c",
     "locked": true,
     "schema_version": 3,
     "solution": false,
     "task": false
    }
   },
   "outputs": [],
   "source": [
    "from sklearn.model_selection import cross_validate\n",
    "from sklearn.model_selection import StratifiedKFold\n",
    "\n",
    "\n",
    "def tuning_curve(param_name, param_range):\n",
    "    \"\"\"\n",
    "    A function to perform hyperparameter tuning.\n",
    "    \n",
    "    A 3 fold stratified cross validation is performed for each value of parameter.\n",
    "    \n",
    "    \n",
    "    Parameters:\n",
    "    ----------\n",
    "    param_name: str\n",
    "                Name of the parameter on which to perform hyperparamter tuning.\n",
    "    param_range: list\n",
    "                 Range of parameter to perform grid search\n",
    "                 \n",
    "    Returns:\n",
    "    -------\n",
    "    None\n",
    "    \"\"\"\n",
    "    mean = []\n",
    "    std = []\n",
    "    for n in param_range:\n",
    "        arg = dict()\n",
    "        arg[param_name] = n\n",
    "        model = XGBClassifier(random_state = RANDOM_STATE,n_jobs = -1,  **arg)\n",
    "        skfold = StratifiedKFold(n_splits=3, shuffle=True, random_state=RANDOM_STATE)\n",
    "        scores = cross_validate(model, X_train, y_train, scoring = ['neg_log_loss'], cv = skfold)\n",
    "        mean_temp = np.abs(scores['test_neg_log_loss']).mean()\n",
    "        mean.append(mean_temp)\n",
    "        std_temp = np.abs(scores['test_neg_log_loss']).std()/2.0\n",
    "        std.append(std_temp)\n",
    "    plt.errorbar(param_range, mean, std, fmt = 'o') \n",
    "    plt.xlabel(\"{}\".format(param_name))\n",
    "    plt.ylabel(\"{}\".format(\"Log loss\"))\n",
    "    plt.title(\"Cross Validation Score\")\n",
    "    plt.show()\n",
    "\n"
   ]
  },
  {
   "cell_type": "markdown",
   "metadata": {
    "deletable": false,
    "editable": false,
    "id": "M46PQhAKwsKj",
    "nbgrader": {
     "cell_type": "markdown",
     "checksum": "ed766f124344524470343438331e7072",
     "grade": false,
     "grade_id": "cell-7abdb069e9449f28",
     "locked": true,
     "schema_version": 3,
     "solution": false,
     "task": false
    }
   },
   "source": [
    "### Exercise 9: Tuning L1-Regularization term.\n",
    "<b><div style=\"text-align: right\">[UNGRADED]</div></b>\n",
    "\n",
    "---\n",
    "A function `tuning_curve()` is defined above. Use this function to tune L1 regularization term in the range $[0, 0.4, 1, 5, 10]$\n",
    "\n",
    "**Task:**  \n",
    "- Use function `tuning_curve()` to tune the parameter `reg_alpha` in the range $[0, 0.4, 1, 5, 10]$ and answer the following quiz.\n"
   ]
  },
  {
   "cell_type": "code",
   "execution_count": 114,
   "metadata": {
    "deletable": false,
    "id": "o_ES-JPNwsKl",
    "nbgrader": {
     "cell_type": "code",
     "checksum": "52d80fd0a0f208e0f067c0fe5aca4886",
     "grade": false,
     "grade_id": "cell-e76c5f3f70d295d3",
     "locked": false,
     "schema_version": 3,
     "solution": true,
     "task": false
    },
    "outputId": "a1297c03-1a53-4d31-c967-191ae5e3a3be",
    "tags": [
     "Ex-9-Task-1"
    ]
   },
   "outputs": [
    {
     "data": {
      "image/png": "[encoded data removed]",
      "text/plain": [
       "<Figure size 640x480 with 1 Axes>"
      ]
     },
     "metadata": {},
     "output_type": "display_data"
    }
   ],
   "source": [
    "### Ex-9-Task-1\n",
    "\n",
    "None # Call function tuning_curve() to tune reg_alpha in the given range\n",
    "\n",
    "### BEGIN SOLUTION\n",
    "# your code here\n",
    "# Call function tuning_curve() to tune reg_alpha in the given range\n",
    "tuning_curve(param_name='reg_alpha', param_range=[0, 0.4, 1, 5, 10])\n",
    "\n",
    "# raise NotImplementedError\n",
    "### END SOLUTION"
   ]
  },
  {
   "cell_type": "markdown",
   "metadata": {
    "deletable": false,
    "editable": false,
    "id": "eciMTlsjwsKo",
    "nbgrader": {
     "cell_type": "markdown",
     "checksum": "f6db85897e9f7633b0afa7255a9f3cde",
     "grade": false,
     "grade_id": "cell-e947185a223b2ed4",
     "locked": true,
     "schema_version": 3,
     "solution": false,
     "task": false
    }
   },
   "source": [
    "#### Q4: From the above curve, which of the following value of reg_alpha yields the best performance?\n",
    "<b><div style=\"text-align: right\">[UNGRADED]</div></b>\n",
    "\n",
    "---\n",
    "\n",
    "Select the best option.\n",
    "\n",
    "1. 0\n",
    "\n",
    "2. 0.4\n",
    "\n",
    "3. 1\n",
    "\n",
    "4. 5\n",
    "\n",
    "5. 10\n",
    "\n",
    "\n",
    "__Task:__\n",
    "You just need to put the correct option number on the variable `correct_option4`.\n",
    "If your answer is 1, assign `correct_option4 = 3` and so on.\n",
    "\n"
   ]
  },
  {
   "cell_type": "code",
   "execution_count": 115,
   "metadata": {
    "deletable": false,
    "id": "05rB4PBzwsKo",
    "nbgrader": {
     "cell_type": "code",
     "checksum": "1df35f2e0ccd3afbb48c11f0258e35bf",
     "grade": false,
     "grade_id": "cell-e6f79de5d9099766",
     "locked": false,
     "schema_version": 3,
     "solution": true,
     "task": false
    },
    "tags": [
     "Ex-9-Task-2"
    ]
   },
   "outputs": [],
   "source": [
    "### Ex-9-Task-2\n",
    "correct_option4 = None\n",
    "### BEGIN SOLUTION\n",
    "# your code here\n",
    "correct_option4 = 3\n",
    "# raise NotImplementedError\n",
    "### END SOLUTION"
   ]
  },
  {
   "cell_type": "code",
   "execution_count": 116,
   "metadata": {
    "deletable": false,
    "editable": false,
    "id": "YvRtF_WRwsKr",
    "nbgrader": {
     "cell_type": "code",
     "checksum": "5f2b6f1b9d602ee2cbb3429b39ecd557",
     "grade": true,
     "grade_id": "cell-2f34af50e3ed0e9d",
     "locked": true,
     "points": 0,
     "schema_version": 3,
     "solution": false,
     "task": false
    },
    "tags": [
     "Ex-9-Task-2"
    ]
   },
   "outputs": [],
   "source": [
    "assert correct_option4 is not None"
   ]
  },
  {
   "cell_type": "markdown",
   "metadata": {
    "deletable": false,
    "editable": false,
    "id": "Yie7qnu3wsKv",
    "nbgrader": {
     "cell_type": "markdown",
     "checksum": "e04704b3820c9528f1471a4ec735ca75",
     "grade": false,
     "grade_id": "cell-37b52dd2aa626f09",
     "locked": true,
     "schema_version": 3,
     "solution": false,
     "task": false
    }
   },
   "source": [
    "__Congratulation!!!!!!!!!!!!!__\n",
    "\n",
    "__You have completed level 1__"
   ]
  },
  {
   "cell_type": "markdown",
   "metadata": {
    "deletable": false,
    "editable": false,
    "id": "IX6VJobpwsKw",
    "nbgrader": {
     "cell_type": "markdown",
     "checksum": "21148ea71a2c3fffcd750d9a0850a18e",
     "grade": false,
     "grade_id": "cell-b667e8e8b3636142",
     "locked": true,
     "schema_version": 3,
     "solution": false,
     "task": false
    }
   },
   "source": [
    "## Level 2+3\n",
    "\n",
    "## Learning Objective (Level2+Level 3)\n",
    "<b><div style=\"text-align: right\">[POINTS: 6]</div></b>\n",
    "\n",
    "- Implement Gradient Boosting Regressor from scratch.\n",
    "\n",
    "- Compare the performance of gradient boosting regressor implement from scratch with Sklearn's gradient boosting regressor.\n",
    "\n"
   ]
  },
  {
   "cell_type": "markdown",
   "metadata": {
    "deletable": false,
    "editable": false,
    "id": "V5t25PcIwsKx",
    "nbgrader": {
     "cell_type": "markdown",
     "checksum": "b539f0638b77ac797b9f2443444155c4",
     "grade": false,
     "grade_id": "cell-db838318b41e3f7d",
     "locked": true,
     "schema_version": 3,
     "solution": false,
     "task": false
    }
   },
   "source": [
    "### Dataset Description\n",
    "\n",
    "We will use a synthetic dataset for this part. A synthetic dataset is generated using Sklearn's `make_regression()` method.\n",
    "\n",
    "---\n",
    "Number of Instances: 100\n",
    "\n",
    "Number of Attributes:4\n",
    "\n",
    "---\n",
    "The features are labeled `x1`, `x2`,`x3`,`x4`, and the output value is labeled `target`.\n"
   ]
  },
  {
   "cell_type": "code",
   "execution_count": 117,
   "metadata": {
    "deletable": false,
    "editable": false,
    "id": "MDvsa8egwsKx",
    "nbgrader": {
     "cell_type": "code",
     "checksum": "5aefc0504f5a9945cdec95c008966c62",
     "grade": false,
     "grade_id": "cell-d43477defd50fd3b",
     "locked": true,
     "schema_version": 3,
     "solution": false,
     "task": false
    },
    "outputId": "462ae2bc-2aad-435b-ee88-006b901148d4"
   },
   "outputs": [
    {
     "data": {
      "text/html": [
       "<div>\n",
       "<style scoped>\n",
       "    .dataframe tbody tr th:only-of-type {\n",
       "        vertical-align: middle;\n",
       "    }\n",
       "\n",
       "    .dataframe tbody tr th {\n",
       "        vertical-align: top;\n",
       "    }\n",
       "\n",
       "    .dataframe thead th {\n",
       "        text-align: right;\n",
       "    }\n",
       "</style>\n",
       "<table border=\"1\" class=\"dataframe\">\n",
       "  <thead>\n",
       "    <tr style=\"text-align: right;\">\n",
       "      <th></th>\n",
       "      <th>x1</th>\n",
       "      <th>x2</th>\n",
       "      <th>x3</th>\n",
       "      <th>x4</th>\n",
       "      <th>target</th>\n",
       "    </tr>\n",
       "  </thead>\n",
       "  <tbody>\n",
       "    <tr>\n",
       "      <th>0</th>\n",
       "      <td>-0.192855</td>\n",
       "      <td>-1.778013</td>\n",
       "      <td>0.735027</td>\n",
       "      <td>0.331974</td>\n",
       "      <td>55.859210</td>\n",
       "    </tr>\n",
       "    <tr>\n",
       "      <th>1</th>\n",
       "      <td>0.396565</td>\n",
       "      <td>1.171393</td>\n",
       "      <td>0.097020</td>\n",
       "      <td>0.973093</td>\n",
       "      <td>119.860365</td>\n",
       "    </tr>\n",
       "    <tr>\n",
       "      <th>2</th>\n",
       "      <td>1.503319</td>\n",
       "      <td>-0.212733</td>\n",
       "      <td>1.438240</td>\n",
       "      <td>0.108648</td>\n",
       "      <td>166.927654</td>\n",
       "    </tr>\n",
       "    <tr>\n",
       "      <th>3</th>\n",
       "      <td>-0.000890</td>\n",
       "      <td>-1.754724</td>\n",
       "      <td>0.002066</td>\n",
       "      <td>-0.788923</td>\n",
       "      <td>-71.091021</td>\n",
       "    </tr>\n",
       "    <tr>\n",
       "      <th>4</th>\n",
       "      <td>0.032820</td>\n",
       "      <td>0.407516</td>\n",
       "      <td>-0.465937</td>\n",
       "      <td>1.690526</td>\n",
       "      <td>138.727129</td>\n",
       "    </tr>\n",
       "  </tbody>\n",
       "</table>\n",
       "</div>"
      ],
      "text/plain": [
       "         x1        x2        x3        x4      target\n",
       "0 -0.192855 -1.778013  0.735027  0.331974   55.859210\n",
       "1  0.396565  1.171393  0.097020  0.973093  119.860365\n",
       "2  1.503319 -0.212733  1.438240  0.108648  166.927654\n",
       "3 -0.000890 -1.754724  0.002066 -0.788923  -71.091021\n",
       "4  0.032820  0.407516 -0.465937  1.690526  138.727129"
      ]
     },
     "execution_count": 117,
     "metadata": {},
     "output_type": "execute_result"
    }
   ],
   "source": [
    "from sklearn.datasets import make_regression\n",
    "\n",
    "\n",
    "RANDOM_STATE = 7\n",
    "X, y = make_regression(n_samples=100, n_features=4, n_informative=3, bias = 2,noise=0.05, random_state = RANDOM_STATE)\n",
    "df = pd.DataFrame(X, columns = ['x1', 'x2', 'x3', 'x4'])\n",
    "df['target']= y\n",
    "df.head()"
   ]
  },
  {
   "cell_type": "markdown",
   "metadata": {
    "deletable": false,
    "editable": false,
    "id": "L9fe-DOjwsK1",
    "nbgrader": {
     "cell_type": "markdown",
     "checksum": "399d77eb89f479cc6592ab8166537fb2",
     "grade": false,
     "grade_id": "cell-bd14aeadf62f03f4",
     "locked": true,
     "schema_version": 3,
     "solution": false,
     "task": false
    }
   },
   "source": [
    "### Scatter plot"
   ]
  },
  {
   "cell_type": "markdown",
   "metadata": {
    "deletable": false,
    "editable": false,
    "id": "gCJllXViwsK1",
    "nbgrader": {
     "cell_type": "markdown",
     "checksum": "8ba972628ecccef62c8ad3c30e951745",
     "grade": false,
     "grade_id": "cell-0589adfec84c9f9a",
     "locked": true,
     "schema_version": 3,
     "solution": false,
     "task": false
    }
   },
   "source": [
    "If you would like, you could visualize the scatter plot of individual features with respect to the target variable. Moreover, if you like to understand better the distribution of the data, you can experiment yourself."
   ]
  },
  {
   "cell_type": "code",
   "execution_count": 118,
   "metadata": {
    "deletable": false,
    "editable": false,
    "id": "EPrD4CUZwsK3",
    "nbgrader": {
     "cell_type": "code",
     "checksum": "eb3e326074439174f2d87861e2c753c3",
     "grade": false,
     "grade_id": "cell-397b9432fd9d4d86",
     "locked": true,
     "schema_version": 3,
     "solution": false,
     "task": false
    },
    "outputId": "d343f8c4-0366-43fd-e376-8e3a73cca459"
   },
   "outputs": [
    {
     "data": {
      "image/png": "[encoded data removed]",
      "text/plain": [
       "<Figure size 640x480 with 1 Axes>"
      ]
     },
     "metadata": {},
     "output_type": "display_data"
    }
   ],
   "source": [
    "# Perform experiment to understand data distribution if needed.\n",
    "plt.scatter(X[:,0], y)\n",
    "plt.ylabel(\"Output/independent variable\")\n",
    "plt.xlabel(\"Input/dependet variable\")\n",
    "plt.show()"
   ]
  },
  {
   "cell_type": "markdown",
   "metadata": {
    "deletable": false,
    "editable": false,
    "id": "HQxBrCMAwsK7",
    "nbgrader": {
     "cell_type": "markdown",
     "checksum": "cabfee13e8f5fb63e9b1d3af87a202d6",
     "grade": false,
     "grade_id": "cell-f3f5e12329749570",
     "locked": true,
     "schema_version": 3,
     "solution": false,
     "task": false
    }
   },
   "source": [
    "### Train Test Split\n",
    "As usual, we will keep 80% of the data for training and the rest for testing."
   ]
  },
  {
   "cell_type": "code",
   "execution_count": 119,
   "metadata": {
    "deletable": false,
    "editable": false,
    "id": "sHr2YzgbwsK8",
    "nbgrader": {
     "cell_type": "code",
     "checksum": "21828956dbeee82cc99280c096467dd5",
     "grade": false,
     "grade_id": "cell-8dda2947d86adb91",
     "locked": true,
     "schema_version": 3,
     "solution": false,
     "task": false
    }
   },
   "outputs": [],
   "source": [
    "from sklearn.model_selection import train_test_split\n",
    "\n",
    "\n",
    "X_train, X_test, y_train, y_test = train_test_split(X, y, test_size = 0.2, random_state = RANDOM_STATE)"
   ]
  },
  {
   "cell_type": "markdown",
   "metadata": {
    "deletable": false,
    "editable": false,
    "id": "OdD_9-8twsK_",
    "nbgrader": {
     "cell_type": "markdown",
     "checksum": "3dd35b77bb9cf09bb1fe20e213809b06",
     "grade": false,
     "grade_id": "cell-2e777240a07996e8",
     "locked": true,
     "schema_version": 3,
     "solution": false,
     "task": false
    }
   },
   "source": [
    "## Gradient Boosting Regressor from scratch\n",
    "In this section, we will implement a gradient boosting regressor from scratch. Each base learner will be a decision tree. For this, we will use Sklearn's `DecisionTreeRegressor()` object.\n",
    "\n",
    "Here is a pseudo-code for gradient boosting regressor.\n",
    "```\n",
    "Algorithm:\n",
    "```\n",
    "> 1. initialize $F_0= \\frac{1}{N}\\sum_{i=1}^N y_i$\n",
    "2. for $t=1$ to $M$ do\n",
    "3. > calculate negative gradients $-g(\\mathbf{x_i})$; where $-g(\\mathbf{x_i})= -\\frac{\\partial L(y_i, F(\\mathbf{x_i}))}{\\partial F(\\mathbf{x_i})}\\bigg{|}_{F = F_{t-1}}$\n",
    "4. > fit a base-learner model $h$ to negative gradients $-g(\\mathbf{x_i})$\n",
    "5. > update the function: $F_t=F_{t-1} + \\alpha h(\\mathbf{x})$; where $\\alpha$ is a shrinkage\n",
    "6. end for"
   ]
  },
  {
   "cell_type": "markdown",
   "metadata": {
    "deletable": false,
    "editable": false,
    "id": "078dpGJLwsLA",
    "nbgrader": {
     "cell_type": "markdown",
     "checksum": "def6f6ac365797d3e3401f146966d377",
     "grade": false,
     "grade_id": "cell-07955f911d589c73",
     "locked": true,
     "schema_version": 3,
     "solution": false,
     "task": false
    }
   },
   "source": [
    "Below is a skeleton class for the gradient boosting regressor. We have already defined a constructor for initializing different attributes like `learning_rate`, `max_depth` of each tree, and `n_estimators` for the number of boosting iterations. The attribute `estimators` is a list of each trained base learner.\n",
    "\n",
    "### Exercise 10: Gradient Boosting Regressor from scratch\n",
    "<b><div style=\"text-align: right\">[POINTS: 1+3+1]</div></b>\n",
    "\n",
    "---\n",
    "This exercise is divided into three different tasks. Through these three tasks, you will create a gradient boosting regressor.\n",
    "\n",
    "**Task 1: Computation of negative gradient** \n",
    "<b><div style=\"text-align: right\">[POINTS: 1]</div></b>\n",
    "\n",
    "We have defined a static method `negative_gradient` which should return the negative gradient when actual label $y$ and predicted label $\\hat{y}$ are given. You need to complete this function.\n",
    "\n",
    "-  Your task is to assign the negative gradient the the variable `grad`. Suppose we are using the following loss function $$L(y,\\hat{y})= \\frac{1}{2}(y-\\hat{y})^2$$ \n",
    "where, $y$ is the actual label and $\\hat{y}$ is the predicted label.\n",
    "\n",
    "\n",
    "**Task 2: Fit the model** \n",
    "\n",
    "<b><div style=\"text-align: right\">[POINTS: 3]</div></b>\n",
    "\n",
    "\n",
    "In this task, we are going to fit our model with the training dataset. We have defined a function `fit(X,y)` in the class `Gradient_Boosting_Regressor` where, X is the training features, and y is the training label. As already discussed in the reading material, the first prediction is the average of output label. Here we have defined two attributes, `average` and `base_prediction`. `base_prediction` is a vector of average value with a length equal to the number of instances in the training data. \n",
    "\n",
    "\n",
    "- Compute the negative_gradient using the above defined function and put it in the variable `pseduo_residual`.\n",
    "- Instantiate a decision tree regressor(from sklearn) on variable `tree` setting `max_depth` to the variable provided in the class constructor and setting `random_state` to RANDOM_STATE.\n",
    "- Fit the tree on input X and pseudo_residual as a target.\n",
    "- Update `base_prediction` with the prediction of the current tree. Note: The prediction of each tree should be downscaled by shrinkage. Please replace 0 with your own code.\n",
    "\n",
    "**Task 3: Prediction by model** \n",
    "\n",
    "<b><div style=\"text-align: right\">[POINTS: 1]</div></b>\n",
    "\n",
    "\n",
    "In this exercise, we are going to make a prediction based on the input data. We have defined a function `predict(X)` in the class `Gradient_Boosting_Regressor` where, X is a feature for which we want to make a prediction. Here we have initialized the variable `predictions` by the average value of the training label. We want to return the final prediction made by the model.\n",
    "\n",
    "\n",
    "- The average prediction is already assigned to the variable `predictions`. Your task is to add the predictions made by each estimator to the variable `predictions`. Please replace 0 with your code.\n",
    "\n",
    "\n",
    "The last method, `staged_predict()` is a generator that returns the prediction for each boosting iterations."
   ]
  },
  {
   "cell_type": "code",
   "execution_count": 132,
   "metadata": {
    "deletable": false,
    "id": "NOP9uMawwsLA",
    "nbgrader": {
     "cell_type": "code",
     "checksum": "7e5642f650a4491a4895763b403b7b29",
     "grade": false,
     "grade_id": "cell-a577ca77eb16fb05",
     "locked": false,
     "schema_version": 3,
     "solution": true,
     "task": false
    },
    "tags": [
     "Ex-10-Task-1"
    ]
   },
   "outputs": [],
   "source": [
    "### Ex-10-Task-1\n",
    "\n",
    "from sklearn.tree import DecisionTreeRegressor\n",
    "\n",
    "class Gradient_Boosting_Regressor:\n",
    "    \"\"\"\n",
    "    Gradient boosting for regression.\n",
    "    \n",
    "    This implementation uses a mean square error loss function.\n",
    "    \n",
    "    Parameters:\n",
    "    ----------\n",
    "    learning_rate: int\n",
    "                   Learning rate or shrinkage parameter (the default is 0.1)\n",
    "    max_depth: int\n",
    "               Maximum allowed depth for each tree (the default value is 4)\n",
    "    n_estimators: int\n",
    "                  The total number of boosting operations (the default value is 5)  \n",
    "                   \n",
    "    \"\"\"\n",
    "    def __init__(self, learning_rate = 0.1, max_depth = 3, n_estimators = 5):\n",
    "        self.learning_rate = learning_rate\n",
    "        self.max_depth = max_depth\n",
    "        self.n_estimators = n_estimators\n",
    "        self.estimators = []\n",
    "        \n",
    "        \n",
    "    @staticmethod\n",
    "    def negative_gradient(y, y_pred):\n",
    "        \"\"\"Compute and return the negative gradient. \"\"\"\n",
    "        grad = None\n",
    "        \n",
    "        grad = y-y_pred\n",
    "        \n",
    "        return grad\n",
    "    \n",
    "    \n",
    "    def fit(self, X, y):\n",
    "        \"\"\"Fit the model on data X and y\"\"\"\n",
    "        self.average = np.mean(y)\n",
    "        self.base_prediction = np.array([np.mean(y)]*len(y))\n",
    "        \n",
    "        for estimators in range(self.n_estimators):\n",
    "            pseudo_residuals = None\n",
    "            tree = None \n",
    "            None # tree.fit(...)\n",
    "            self.base_prediction += 0 # None ########### WHAT IS THE USE OF THIS LINE?\n",
    "            ### BEGIN SOLUTION\n",
    "            # your code here\n",
    "            pseudo_residuals = self.negative_gradient(y, self.base_prediction)\n",
    "            tree = DecisionTreeRegressor(max_depth=self.max_depth, random_state=RANDOM_STATE)\n",
    "            tree.fit(X, pseudo_residuals)\n",
    "            self.base_prediction += self.learning_rate * tree.predict(X)\n",
    "            # raise NotImplementedError\n",
    "            ### END SOLUTION\n",
    "            self.estimators.append(tree)\n",
    "            \n",
    "            \n",
    "    def predict(self, X):\n",
    "        \"\"\"Make prediction by the model on data X.\"\"\"\n",
    "        predictions = np.array([self.average]*X.shape[0])\n",
    "        for estimator in self.estimators:\n",
    "            predictions += 0 # None\n",
    "            \n",
    "            predictions += self.learning_rate*estimator.predict(X)\n",
    "            \n",
    "        return predictions\n",
    "    \n",
    "    \n",
    "    def staged_predict(self, X):\n",
    "        \"\"\"A generator which returns the prediction at each boosting iteration.\"\"\"\n",
    "        predictions = np.array([self.average]*X.shape[0])\n",
    "        \n",
    "        for estimator in self.estimators:\n",
    "            predictions += self.learning_rate*estimator.predict(X)\n",
    "            yield predictions\n",
    "\n",
    "        "
   ]
  },
  {
   "cell_type": "code",
   "execution_count": 133,
   "metadata": {
    "deletable": false,
    "editable": false,
    "id": "Y9jBuEOTwsLC",
    "nbgrader": {
     "cell_type": "code",
     "checksum": "6e0d662a4771db4f854363df6da93418",
     "grade": true,
     "grade_id": "cell-b9efbc219be797d3",
     "locked": true,
     "points": 5,
     "schema_version": 3,
     "solution": false,
     "task": false
    },
    "tags": [
     "Ex-10-Task-1"
    ]
   },
   "outputs": [],
   "source": [
    "model = Gradient_Boosting_Regressor()\n",
    "model.fit(X_train, y_train)\n",
    "assert not np.array_equal(model.predict(X_train), np.array([np.mean(y_train)]*len(y_train))), \"Make sure you have implemented the code for fit and predict methods.\"\n"
   ]
  },
  {
   "cell_type": "markdown",
   "metadata": {
    "deletable": false,
    "editable": false,
    "id": "lZQXk1LKwsLK",
    "nbgrader": {
     "cell_type": "markdown",
     "checksum": "f37fc33a70b7a7787b3a386eb36bbe32",
     "grade": false,
     "grade_id": "cell-923533ed49764d9a",
     "locked": true,
     "schema_version": 3,
     "solution": false,
     "task": false
    }
   },
   "source": [
    "## Evaluation and Comparision\n",
    "In this and coming sections, we will first evaluate the gradient boosting regressor that we just built from scratch and then compare it with the Sklearn's gradient boosting regressor."
   ]
  },
  {
   "cell_type": "markdown",
   "metadata": {
    "deletable": false,
    "editable": false,
    "id": "6lBICO5cwsLL",
    "nbgrader": {
     "cell_type": "markdown",
     "checksum": "bf7079289461f0a4521138fd8cb9014f",
     "grade": false,
     "grade_id": "cell-b6c7066b96b6b819",
     "locked": true,
     "schema_version": 3,
     "solution": false,
     "task": false
    }
   },
   "source": [
    "Let's see how our model has performed."
   ]
  },
  {
   "cell_type": "code",
   "execution_count": 134,
   "metadata": {
    "deletable": false,
    "editable": false,
    "id": "eEDtuZTewsLM",
    "nbgrader": {
     "cell_type": "code",
     "checksum": "870eed9ae359e68d63fc4885c9f386b4",
     "grade": false,
     "grade_id": "cell-c2a36747339e6a0f",
     "locked": true,
     "schema_version": 3,
     "solution": false,
     "task": false
    },
    "outputId": "50462eca-47aa-429d-9076-1bfa8538396a"
   },
   "outputs": [
    {
     "name": "stdout",
     "output_type": "stream",
     "text": [
      "r2_score: 0.5787669653951846\n"
     ]
    }
   ],
   "source": [
    "from sklearn.metrics import r2_score\n",
    "\n",
    "custom_gbm = Gradient_Boosting_Regressor(learning_rate = 0.2, max_depth = 3, n_estimators = 4)\n",
    "custom_gbm.fit(X_train, y_train)\n",
    "\n",
    "\n",
    "print(\"r2_score:\", r2_score(y_test, custom_gbm.predict(X_test)))"
   ]
  },
  {
   "cell_type": "markdown",
   "metadata": {
    "deletable": false,
    "editable": false,
    "id": "beLuCubewsLR",
    "nbgrader": {
     "cell_type": "markdown",
     "checksum": "cb1143a69d62ad1171ba71716f7850c8",
     "grade": false,
     "grade_id": "cell-4bbd2fbc84269c97",
     "locked": true,
     "schema_version": 3,
     "solution": false,
     "task": false
    }
   },
   "source": [
    "### Visualization\n",
    "Let's see if the prediction gets improved with the added estimators. Here we will plot the actual and predicted target value."
   ]
  },
  {
   "cell_type": "code",
   "execution_count": 135,
   "metadata": {
    "deletable": false,
    "editable": false,
    "id": "unyAB9CRwsLS",
    "nbgrader": {
     "cell_type": "code",
     "checksum": "87da27857bc3f08915ae8b5a8ac1148a",
     "grade": false,
     "grade_id": "cell-0859ece951bdb673",
     "locked": true,
     "schema_version": 3,
     "solution": false,
     "task": false
    },
    "outputId": "cfbb7198-e8f8-41bb-cacf-e9bd58ba14be"
   },
   "outputs": [
    {
     "data": {
      "image/png": "[encoded data removed]",
      "text/plain": [
       "<Figure size 2000x450 with 4 Axes>"
      ]
     },
     "metadata": {},
     "output_type": "display_data"
    }
   ],
   "source": [
    "fig, ax = plt.subplots(1,4, figsize = (20,4.5), sharex = True)\n",
    "fig.suptitle(\"Prediction made by our custom gradient boosting regressor\")\n",
    "for i, pred in enumerate(custom_gbm.staged_predict(X_test)):\n",
    "    ax[i].scatter(y_test, pred, marker = 'o')\n",
    "    ax[i].set_title(\"n_estimators={}; r2_score={:04.2f}\".format(i+1, r2_score(y_test, pred)))\n",
    "    ax[i].set_xlabel(\"Actual value\")\n",
    "    ax[i].set_ylabel(\"Predicted value\")\n",
    "plt.show()"
   ]
  },
  {
   "cell_type": "markdown",
   "metadata": {
    "deletable": false,
    "editable": false,
    "id": "a28anUbpwsLV",
    "nbgrader": {
     "cell_type": "markdown",
     "checksum": "71986ca2206afe668c27ec2ebae9402e",
     "grade": false,
     "grade_id": "cell-95ef400d33ab74e6",
     "locked": true,
     "schema_version": 3,
     "solution": false,
     "task": false
    }
   },
   "source": [
    "#### Q5: With our custom gradient boosting regressor, the prediction has ______ with boosting iteration?\n",
    "<b><div style=\"text-align: right\">[UNGRADED]</div></b>\n",
    "\n",
    "---\n",
    "Select the best option.\n",
    "\n",
    "1. improved\n",
    "\n",
    "2. degraded\n",
    "\n",
    "3. remained same\n",
    "\n",
    "\n",
    "__Task:__\n",
    "You just need to put the correct option number on the variable `correct_option5`.\n",
    "If your answer is degraded, assign `correct_option5 = 1` and so on.\n"
   ]
  },
  {
   "cell_type": "code",
   "execution_count": 136,
   "metadata": {
    "deletable": false,
    "id": "oQv2PyUWwsLV",
    "nbgrader": {
     "cell_type": "code",
     "checksum": "6e494b245f744fad8221ca63fd6468fe",
     "grade": false,
     "grade_id": "cell-76698c8e472078b9",
     "locked": false,
     "schema_version": 3,
     "solution": true,
     "task": false
    },
    "tags": [
     "Ex-10-Task-2"
    ]
   },
   "outputs": [],
   "source": [
    "### Ex-10-Task-2\n",
    "\n",
    "correct_option5 = None\n",
    "### BEGIN SOLUTION\n",
    "# your code here\n",
    "correct_option5 = 2\n",
    "# raise NotImplementedError\n",
    "### END SOLUTION"
   ]
  },
  {
   "cell_type": "code",
   "execution_count": 137,
   "metadata": {
    "deletable": false,
    "editable": false,
    "id": "39wF8tIVwsLa",
    "nbgrader": {
     "cell_type": "code",
     "checksum": "00948eca5c9e17c3728a92fdbe6c08a4",
     "grade": true,
     "grade_id": "cell-f90c0c9bb300b864",
     "locked": true,
     "points": 0,
     "schema_version": 3,
     "solution": false,
     "task": false
    },
    "tags": [
     "Ex-10-Task-2"
    ]
   },
   "outputs": [],
   "source": [
    "assert correct_option5 is not None"
   ]
  },
  {
   "cell_type": "markdown",
   "metadata": {
    "deletable": false,
    "editable": false,
    "id": "lOwaWEnOwsLf",
    "nbgrader": {
     "cell_type": "markdown",
     "checksum": "349f8ae66851ebc02513a2233cbcd678",
     "grade": false,
     "grade_id": "cell-b4c1f0242df52fde",
     "locked": true,
     "schema_version": 3,
     "solution": false,
     "task": false
    }
   },
   "source": [
    "### Gradient Boosting Regressor in sklearn\n",
    "Let's see how our model compared with the gradient boosting regressor in sklearn.\n",
    "\n",
    "### Exercise 11: Training Sklearn's GradientBoostingRegressor\n",
    "\n",
    "---\n",
    "<b><div style=\"text-align: right\">[POINTS: Ungraded]</div></b>\n",
    "\n",
    "In this exercise, we are going to train Sklearn's GradientBoostingRegressor.\n",
    "\n",
    "**Task:** \n",
    "- Create an object `gbm` of the `GradientBoostingRegressor` class setting criterion to `squared_error`, n_estimators to 4, max_depth to 3, learning_rate to 0.2 and random_state to RANDOM_STATE.\n",
    "- Fit the object on the training set `X_train`, and `y_train`.\n",
    "\n"
   ]
  },
  {
   "cell_type": "code",
   "execution_count": 141,
   "metadata": {
    "deletable": false,
    "id": "_se8m4-qwsLf",
    "nbgrader": {
     "cell_type": "code",
     "checksum": "c78544f33db6b6b92df21756fe92c68b",
     "grade": false,
     "grade_id": "cell-f5b4d71276ea35b7",
     "locked": false,
     "schema_version": 3,
     "solution": true,
     "task": false
    },
    "outputId": "8067bfe1-2773-4056-a4d1-06ef1c5df2df",
    "tags": [
     "Ex-11-Task-1"
    ]
   },
   "outputs": [
    {
     "name": "stdout",
     "output_type": "stream",
     "text": [
      "r2_score:  0.5787669653951846\n"
     ]
    }
   ],
   "source": [
    "### Ex-11-Task-1\n",
    "from sklearn.ensemble import GradientBoostingRegressor\n",
    "\n",
    "gbm = None\n",
    "# Fit the model \n",
    "### BEGIN SOLUTION\n",
    "# your code here\n",
    "gbm = GradientBoostingRegressor(n_estimators=4 , max_depth= 3 , learning_rate=0.2)\n",
    "gbm.fit(X_train , y_train)\n",
    "# raise NotImplementedError\n",
    "### END SOLUTION\n",
    "print(\"r2_score: \", r2_score(y_test, gbm.predict(X_test)))"
   ]
  },
  {
   "cell_type": "code",
   "execution_count": 142,
   "metadata": {
    "deletable": false,
    "editable": false,
    "id": "5P9ZkU5TwsLl",
    "nbgrader": {
     "cell_type": "code",
     "checksum": "b8e4c6c4a2d5c5a97340a89ed735a0ad",
     "grade": true,
     "grade_id": "cell-6e7715fbea42734b",
     "locked": true,
     "points": 0,
     "schema_version": 3,
     "solution": false,
     "task": false
    },
    "tags": [
     "Ex-11-Task-1"
    ]
   },
   "outputs": [],
   "source": [
    "assert gbm is not None"
   ]
  },
  {
   "cell_type": "markdown",
   "metadata": {
    "deletable": false,
    "editable": false,
    "id": "FNI07SztwsLq",
    "nbgrader": {
     "cell_type": "markdown",
     "checksum": "f371ceaa33e64122fcdab4ac0449c32c",
     "grade": false,
     "grade_id": "cell-2b0adfbae73edfa0",
     "locked": true,
     "schema_version": 3,
     "solution": false,
     "task": false
    }
   },
   "source": [
    "### Visualization\n",
    "Let's visualize how the prediction made by Sklearn's gradient boosting regressor looks."
   ]
  },
  {
   "cell_type": "code",
   "execution_count": 143,
   "metadata": {
    "deletable": false,
    "editable": false,
    "id": "ZN1qS2i1wsLq",
    "nbgrader": {
     "cell_type": "code",
     "checksum": "dc84290d44f230922a8fe746ed0c91e6",
     "grade": false,
     "grade_id": "cell-ce8cf5516f17bcbf",
     "locked": true,
     "schema_version": 3,
     "solution": false,
     "task": false
    },
    "outputId": "8d46b87d-069a-42a6-c6a1-7034f7421f92"
   },
   "outputs": [
    {
     "data": {
      "image/png": "[encoded data removed]",
      "text/plain": [
       "<Figure size 2000x500 with 4 Axes>"
      ]
     },
     "metadata": {},
     "output_type": "display_data"
    }
   ],
   "source": [
    "fig, ax = plt.subplots(1,4, figsize = (20,5), sharex = True, sharey=True)\n",
    "fig.suptitle(\"Prediction made by sklearn's gradient boosting regressor\")\n",
    "for i, pred in enumerate(gbm.staged_predict(X_test)):\n",
    "    ax[i].scatter(y_test, pred, marker = 'o')\n",
    "    ax[i].set_title(\"n_estimators={}; r2_score={:04.2f}\".format(i+1, r2_score(y_test, pred)))\n",
    "    ax[i].set_xlabel(\"Actual value\")\n",
    "    ax[i].set_ylabel(\"Predicted value\")\n",
    "plt.show()"
   ]
  },
  {
   "cell_type": "markdown",
   "metadata": {
    "deletable": false,
    "editable": false,
    "id": "aQNwznniwsLt",
    "nbgrader": {
     "cell_type": "markdown",
     "checksum": "ffbc5bdcdec31285d2add3308d4c07dd",
     "grade": false,
     "grade_id": "cell-39c8f97d55d679e1",
     "locked": true,
     "schema_version": 3,
     "solution": false,
     "task": false
    }
   },
   "source": [
    "#### Q6: Based on the above two plots, the performance of Sklearn's gradient boosting regressor is ______ our custom gradient boosting regressor?\n",
    "<b><div style=\"text-align: right\">[UNGRADED]</div></b>\n",
    "\n",
    "---\n",
    "Select the best option.\n",
    "\n",
    "1. better than\n",
    "\n",
    "2. worse than\n",
    "\n",
    "3. same as\n",
    "\n",
    "\n",
    "__Task:__\n",
    "You just need to put the correct option number on the variable `correct_option6`.\n",
    "If your answer is same as, assign `correct_option6 = 3` and so on.\n"
   ]
  },
  {
   "cell_type": "code",
   "execution_count": 144,
   "metadata": {
    "deletable": false,
    "id": "h6-7FqRhwsLu",
    "nbgrader": {
     "cell_type": "code",
     "checksum": "2025943f6a17f20a5c2602152e70f651",
     "grade": false,
     "grade_id": "cell-ebdf39b6063cca4b",
     "locked": false,
     "schema_version": 3,
     "solution": true,
     "task": false
    },
    "tags": [
     "Ex-11-Task-2"
    ]
   },
   "outputs": [],
   "source": [
    "### Ex-11-Task-2\n",
    "\n",
    "correct_option6 = None\n",
    "### BEGIN SOLUTION\n",
    "# your code here\n",
    "correct_option6 = 3\n",
    "# raise NotImplementedError\n",
    "### END SOLUTION"
   ]
  },
  {
   "cell_type": "code",
   "execution_count": 145,
   "metadata": {
    "deletable": false,
    "editable": false,
    "id": "JGF7fuyawsL4",
    "nbgrader": {
     "cell_type": "code",
     "checksum": "ea992f7208a9bbecb3ba36330db663cf",
     "grade": true,
     "grade_id": "cell-2c6a58ebdfbd093d",
     "locked": true,
     "points": 0,
     "schema_version": 3,
     "solution": false,
     "task": false
    },
    "tags": [
     "Ex-11-Task-2"
    ]
   },
   "outputs": [],
   "source": [
    "assert correct_option6 is not None"
   ]
  },
  {
   "cell_type": "markdown",
   "metadata": {
    "deletable": false,
    "editable": false,
    "id": "bv3aMhnXwsL7",
    "nbgrader": {
     "cell_type": "markdown",
     "checksum": "77d53610f63cb47e0471f00980b7de87",
     "grade": false,
     "grade_id": "cell-0bbfda43b17a9cd1",
     "locked": true,
     "schema_version": 3,
     "solution": false,
     "task": false
    }
   },
   "source": [
    "### Loss vs. boosting iterations\n",
    "We will plot the value of mse loss at different iterations to visualize how the model's performance has improved. The function `learning_curve()` plots the mse of training and test data at each boosting iteration."
   ]
  },
  {
   "cell_type": "code",
   "execution_count": 146,
   "metadata": {
    "deletable": false,
    "editable": false,
    "id": "IMxRSx_CwsL8",
    "nbgrader": {
     "cell_type": "code",
     "checksum": "e2e7f7c29ef49686b431693297320b51",
     "grade": false,
     "grade_id": "cell-815d662048750719",
     "locked": true,
     "schema_version": 3,
     "solution": false,
     "task": false
    }
   },
   "outputs": [],
   "source": [
    "from sklearn.metrics import mean_squared_error as mse\n",
    "\n",
    "\n",
    "def learning_curve(clf):\n",
    "    train_mse = []\n",
    "    test_mse = []\n",
    "    for pred in clf.staged_predict(X_train):\n",
    "        train_mse.append(mse(y_train, pred))\n",
    "    for pred in clf.staged_predict(X_test):\n",
    "        test_mse.append(mse(y_test, pred))\n",
    "    plt.plot(np.arange(clf.n_estimators)+1, train_mse, 'r', label= \"Training\")\n",
    "    plt.plot(np.arange(clf.n_estimators)+1, test_mse, 'b', label = \"Testing\")\n",
    "    plt.xlabel(\"Iterations\")\n",
    "    plt.ylabel(\"MSE loss\")\n",
    "    plt.legend()\n",
    "    plt.show()"
   ]
  },
  {
   "cell_type": "code",
   "execution_count": 147,
   "metadata": {
    "deletable": false,
    "editable": false,
    "id": "bKa9EcY0wsL-",
    "nbgrader": {
     "cell_type": "code",
     "checksum": "88cb1d93ccf5f37eb5c4eb9b17702897",
     "grade": false,
     "grade_id": "cell-b80c279d4f96b3cd",
     "locked": true,
     "schema_version": 3,
     "solution": false,
     "task": false
    },
    "outputId": "979fcec7-fa8b-450f-ab98-007b026a561a"
   },
   "outputs": [
    {
     "data": {
      "image/png": "[encoded data removed]",
      "text/plain": [
       "<Figure size 640x480 with 1 Axes>"
      ]
     },
     "metadata": {},
     "output_type": "display_data"
    },
    {
     "name": "stdout",
     "output_type": "stream",
     "text": [
      "MSE: 1028.0919898541258\n",
      "r2_score 0.8672168468465088\n"
     ]
    }
   ],
   "source": [
    "custom_clf = Gradient_Boosting_Regressor(n_estimators = 100, max_depth = 1, learning_rate = 0.1)\n",
    "custom_clf.fit(X_train, y_train)\n",
    "learning_curve(custom_clf)\n",
    "print(\"MSE:\" ,mse(y_test, custom_clf.predict(X_test)))\n",
    "print(\"r2_score\" ,r2_score(y_test, custom_clf.predict(X_test)))"
   ]
  },
  {
   "cell_type": "code",
   "execution_count": 148,
   "metadata": {
    "deletable": false,
    "editable": false,
    "id": "Yx8n8ElVwsMC",
    "nbgrader": {
     "cell_type": "code",
     "checksum": "da38df50a80d5b8b9b162f4d340ea6dc",
     "grade": false,
     "grade_id": "cell-0859ee6d5bae40dd",
     "locked": true,
     "schema_version": 3,
     "solution": false,
     "task": false
    },
    "outputId": "6648cf38-77ad-4f77-c6a5-65642b724d41"
   },
   "outputs": [
    {
     "data": {
      "image/png": "[encoded data removed]",
      "text/plain": [
       "<Figure size 640x480 with 1 Axes>"
      ]
     },
     "metadata": {},
     "output_type": "display_data"
    },
    {
     "name": "stdout",
     "output_type": "stream",
     "text": [
      "MSE: 1028.0919898541263\n",
      "r2_score 0.8672168468465087\n"
     ]
    }
   ],
   "source": [
    "clf = GradientBoostingRegressor(n_estimators = 100, max_depth = 1, learning_rate = 0.1, criterion = 'squared_error')\n",
    "clf.fit(X_train, y_train)\n",
    "learning_curve(clf)\n",
    "print(\"MSE:\", mse(y_test, clf.predict(X_test)))\n",
    "print(\"r2_score\", r2_score(y_test, clf.predict(X_test)))"
   ]
  },
  {
   "cell_type": "markdown",
   "metadata": {
    "deletable": false,
    "editable": false,
    "id": "v9EZ-Z1MwsMF",
    "nbgrader": {
     "cell_type": "markdown",
     "checksum": "a58e9dc9c15fbfcffda3e438f3c78367",
     "grade": false,
     "grade_id": "cell-147a5eaca6518f8e",
     "locked": true,
     "schema_version": 3,
     "solution": false,
     "task": false
    }
   },
   "source": [
    "#### Q7: Based on the learning curve, the performance of Sklearn's gradient boosting regressor is ______ our custom gradient boosting regressor?\n",
    "<b><div style=\"text-align: right\">[UNGRADED]</div></b>\n",
    "\n",
    "---\n",
    "\n",
    "Select the best option.\n",
    "\n",
    "1. better than\n",
    "\n",
    "2. worse than\n",
    "\n",
    "3. same as\n",
    "\n",
    "\n",
    "__Task:__\n",
    "You just need to put the correct option number on the variable `correct_option7`.\n",
    "If your answer is same as, assign `correct_option7 = 3` and so on.\n"
   ]
  },
  {
   "cell_type": "code",
   "execution_count": 149,
   "metadata": {
    "deletable": false,
    "id": "46qOOEiywsMF",
    "nbgrader": {
     "cell_type": "code",
     "checksum": "e65fb4bbe66f280fc8c793b01d9d40ac",
     "grade": false,
     "grade_id": "cell-0504746e027897c4",
     "locked": false,
     "schema_version": 3,
     "solution": true,
     "task": false
    },
    "tags": [
     "Ex-11-Task-3"
    ]
   },
   "outputs": [],
   "source": [
    "### Ex-11-Task-3\n",
    "correct_option7 = None\n",
    "### BEGIN SOLUTION\n",
    "# your code here\n",
    "correct_option7 = 2\n",
    "# raise NotImplementedError\n",
    "### END SOLUTION"
   ]
  },
  {
   "cell_type": "code",
   "execution_count": 150,
   "metadata": {
    "deletable": false,
    "editable": false,
    "id": "_YBheC4rwsMH",
    "nbgrader": {
     "cell_type": "code",
     "checksum": "4efa499d42216f44ac571709cf0bd767",
     "grade": true,
     "grade_id": "cell-4e6f62c6129f451d",
     "locked": true,
     "points": 0,
     "schema_version": 3,
     "solution": false,
     "task": false
    },
    "tags": [
     "Ex-11-Task-3"
    ]
   },
   "outputs": [],
   "source": [
    "assert correct_option7 is not None"
   ]
  },
  {
   "cell_type": "markdown",
   "metadata": {
    "deletable": false,
    "editable": false,
    "id": "O7Pq0ki3wsMJ",
    "nbgrader": {
     "cell_type": "markdown",
     "checksum": "fd0292bf7384c664f59fefd81ee78b88",
     "grade": false,
     "grade_id": "cell-33338344697315bb",
     "locked": true,
     "schema_version": 3,
     "solution": false,
     "task": false
    }
   },
   "source": [
    "__Congratulation!!!!!!!!!!!!!__\n",
    "\n",
    "__You have completed the assignment__"
   ]
  }
 ],
 "metadata": {
  "colab": {
   "collapsed_sections": [
    "M46PQhAKwsKj",
    "eciMTlsjwsKo",
    "beLuCubewsLR",
    "a28anUbpwsLV",
    "lOwaWEnOwsLf",
    "FNI07SztwsLq",
    "aQNwznniwsLt",
    "bv3aMhnXwsL7",
    "v9EZ-Z1MwsMF"
   ],
   "name": "Assignment - Instructor.ipynb",
   "provenance": []
  },
  "kernelspec": {
   "display_name": "Python 3 (ipykernel)",
   "language": "python",
   "name": "python3"
  },
  "language_info": {
   "codemirror_mode": {
    "name": "ipython",
    "version": 3
   },
   "file_extension": ".py",
   "mimetype": "text/x-python",
   "name": "python",
   "nbconvert_exporter": "python",
   "pygments_lexer": "ipython3",
   "version": "3.10.12"
  }
 },
 "nbformat": 4,
 "nbformat_minor": 1
}
